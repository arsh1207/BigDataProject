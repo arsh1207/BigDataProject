{
  "nbformat": 4,
  "nbformat_minor": 0,
  "metadata": {
    "kernelspec": {
      "display_name": "Python 3",
      "language": "python",
      "name": "python3"
    },
    "language_info": {
      "codemirror_mode": {
        "name": "ipython",
        "version": 3
      },
      "file_extension": ".py",
      "mimetype": "text/x-python",
      "name": "python",
      "nbconvert_exporter": "python",
      "pygments_lexer": "ipython3",
      "version": "3.7.3"
    },
    "colab": {
      "name": "Content_based_recommendation_system_Colab.ipynb",
      "provenance": [],
      "include_colab_link": true
    }
  },
  "cells": [
    {
      "cell_type": "markdown",
      "metadata": {
        "id": "view-in-github",
        "colab_type": "text"
      },
      "source": [
        "<a href=\"https://colab.research.google.com/github/arsh1207/BigDataProject/blob/master/Content_based_recommendation_system_Colab.ipynb\" target=\"_parent\"><img src=\"https://colab.research.google.com/assets/colab-badge.svg\" alt=\"Open In Colab\"/></a>"
      ]
    },
    {
      "cell_type": "markdown",
      "metadata": {
        "id": "aJClzzTiX_mY",
        "colab_type": "text"
      },
      "source": [
        "## Content Based recommendation system"
      ]
    },
    {
      "cell_type": "code",
      "metadata": {
        "id": "zUx8qoslX_ma",
        "colab_type": "code",
        "colab": {}
      },
      "source": [
        "import numpy as np\n",
        "import pandas as pd\n",
        "import matplotlib.pyplot as plt\n",
        "from sklearn.feature_extraction.text import TfidfVectorizer\n",
        "from sklearn.metrics.pairwise import cosine_similarity"
      ],
      "execution_count": 0,
      "outputs": []
    },
    {
      "cell_type": "code",
      "metadata": {
        "id": "Dpo3klZeYGCD",
        "colab_type": "code",
        "outputId": "708e0d74-cbca-4636-aee1-4ec41c22d676",
        "colab": {
          "base_uri": "https://localhost:8080/",
          "height": 121
        }
      },
      "source": [
        "from google.colab import drive\n",
        "drive.mount('/content/drive')"
      ],
      "execution_count": 2,
      "outputs": [
        {
          "output_type": "stream",
          "text": [
            "Go to this URL in a browser: https://accounts.google.com/o/oauth2/auth?client_id=947318989803-6bn6qk8qdgf4n4g3pfee6491hc0brc4i.apps.googleusercontent.com&redirect_uri=urn%3aietf%3awg%3aoauth%3a2.0%3aoob&response_type=code&scope=email%20https%3a%2f%2fwww.googleapis.com%2fauth%2fdocs.test%20https%3a%2f%2fwww.googleapis.com%2fauth%2fdrive%20https%3a%2f%2fwww.googleapis.com%2fauth%2fdrive.photos.readonly%20https%3a%2f%2fwww.googleapis.com%2fauth%2fpeopleapi.readonly\n",
            "\n",
            "Enter your authorization code:\n",
            "··········\n",
            "Mounted at /content/drive\n"
          ],
          "name": "stdout"
        }
      ]
    },
    {
      "cell_type": "code",
      "metadata": {
        "id": "GZs1qEATYJTQ",
        "colab_type": "code",
        "outputId": "f6679e6c-2a8e-4380-c24a-6c5890ddc5b8",
        "colab": {
          "base_uri": "https://localhost:8080/",
          "height": 134
        }
      },
      "source": [
        "!ls \"/content/drive/My Drive/Colab Notebooks\""
      ],
      "execution_count": 37,
      "outputs": [
        {
          "output_type": "stream",
          "text": [
            " anime.csv\t\t\t\t\t   test_data_animes.csv\n",
            " Bike_Sharing.ipynb\t\t\t\t   test_data_user.csv\n",
            " Classifier_Interpretability_Project.ipynb\t   testfile2\n",
            " Content_based_recommendation_system_Colab.ipynb   training_data.csv\n",
            "'Copy of Part1_TensorFlow.ipynb'\t\t   Untitled0.ipynb\n",
            "'Copy of Part2_Music_Generation.ipynb'\t\t   Untitled1.ipynb\n",
            " rating.csv\t\t\t\t\t   User_based_CF_colab.ipynb\n"
          ],
          "name": "stdout"
        }
      ]
    },
    {
      "cell_type": "code",
      "metadata": {
        "id": "tnbaCR75X_md",
        "colab_type": "code",
        "outputId": "6a061e07-72f8-4f7e-99e0-a31ce4a189b6",
        "colab": {
          "base_uri": "https://localhost:8080/",
          "height": 195
        }
      },
      "source": [
        "df = pd.read_csv(\"/content/drive/My Drive/Colab Notebooks/anime.csv\")\n",
        "df.head()"
      ],
      "execution_count": 49,
      "outputs": [
        {
          "output_type": "execute_result",
          "data": {
            "text/html": [
              "<div>\n",
              "<style scoped>\n",
              "    .dataframe tbody tr th:only-of-type {\n",
              "        vertical-align: middle;\n",
              "    }\n",
              "\n",
              "    .dataframe tbody tr th {\n",
              "        vertical-align: top;\n",
              "    }\n",
              "\n",
              "    .dataframe thead th {\n",
              "        text-align: right;\n",
              "    }\n",
              "</style>\n",
              "<table border=\"1\" class=\"dataframe\">\n",
              "  <thead>\n",
              "    <tr style=\"text-align: right;\">\n",
              "      <th></th>\n",
              "      <th>anime_id</th>\n",
              "      <th>name</th>\n",
              "      <th>genre</th>\n",
              "      <th>type</th>\n",
              "      <th>episodes</th>\n",
              "      <th>rating</th>\n",
              "      <th>members</th>\n",
              "    </tr>\n",
              "  </thead>\n",
              "  <tbody>\n",
              "    <tr>\n",
              "      <th>0</th>\n",
              "      <td>32281</td>\n",
              "      <td>Kimi no Na wa.</td>\n",
              "      <td>Drama, Romance, School, Supernatural</td>\n",
              "      <td>Movie</td>\n",
              "      <td>1</td>\n",
              "      <td>9.37</td>\n",
              "      <td>200630</td>\n",
              "    </tr>\n",
              "    <tr>\n",
              "      <th>1</th>\n",
              "      <td>5114</td>\n",
              "      <td>Fullmetal Alchemist: Brotherhood</td>\n",
              "      <td>Action, Adventure, Drama, Fantasy, Magic, Mili...</td>\n",
              "      <td>TV</td>\n",
              "      <td>64</td>\n",
              "      <td>9.26</td>\n",
              "      <td>793665</td>\n",
              "    </tr>\n",
              "    <tr>\n",
              "      <th>2</th>\n",
              "      <td>28977</td>\n",
              "      <td>Gintama°</td>\n",
              "      <td>Action, Comedy, Historical, Parody, Samurai, S...</td>\n",
              "      <td>TV</td>\n",
              "      <td>51</td>\n",
              "      <td>9.25</td>\n",
              "      <td>114262</td>\n",
              "    </tr>\n",
              "    <tr>\n",
              "      <th>3</th>\n",
              "      <td>9253</td>\n",
              "      <td>Steins;Gate</td>\n",
              "      <td>Sci-Fi, Thriller</td>\n",
              "      <td>TV</td>\n",
              "      <td>24</td>\n",
              "      <td>9.17</td>\n",
              "      <td>673572</td>\n",
              "    </tr>\n",
              "    <tr>\n",
              "      <th>4</th>\n",
              "      <td>9969</td>\n",
              "      <td>Gintama&amp;#039;</td>\n",
              "      <td>Action, Comedy, Historical, Parody, Samurai, S...</td>\n",
              "      <td>TV</td>\n",
              "      <td>51</td>\n",
              "      <td>9.16</td>\n",
              "      <td>151266</td>\n",
              "    </tr>\n",
              "  </tbody>\n",
              "</table>\n",
              "</div>"
            ],
            "text/plain": [
              "   anime_id                              name  ... rating members\n",
              "0     32281                    Kimi no Na wa.  ...   9.37  200630\n",
              "1      5114  Fullmetal Alchemist: Brotherhood  ...   9.26  793665\n",
              "2     28977                          Gintama°  ...   9.25  114262\n",
              "3      9253                       Steins;Gate  ...   9.17  673572\n",
              "4      9969                     Gintama&#039;  ...   9.16  151266\n",
              "\n",
              "[5 rows x 7 columns]"
            ]
          },
          "metadata": {
            "tags": []
          },
          "execution_count": 49
        }
      ]
    },
    {
      "cell_type": "markdown",
      "metadata": {
        "id": "i4jX4_XWX_mh",
        "colab_type": "text"
      },
      "source": [
        "#### Exploring the data"
      ]
    },
    {
      "cell_type": "code",
      "metadata": {
        "id": "8wW12-xjX_mi",
        "colab_type": "code",
        "outputId": "984b1aad-2014-415a-f5bf-ddda7d59def7",
        "colab": {
          "base_uri": "https://localhost:8080/",
          "height": 252
        }
      },
      "source": [
        "df.info()"
      ],
      "execution_count": 39,
      "outputs": [
        {
          "output_type": "stream",
          "text": [
            "<class 'pandas.core.frame.DataFrame'>\n",
            "RangeIndex: 12294 entries, 0 to 12293\n",
            "Data columns (total 7 columns):\n",
            " #   Column    Non-Null Count  Dtype  \n",
            "---  ------    --------------  -----  \n",
            " 0   anime_id  12294 non-null  int64  \n",
            " 1   name      12294 non-null  object \n",
            " 2   genre     12232 non-null  object \n",
            " 3   type      12269 non-null  object \n",
            " 4   episodes  12294 non-null  object \n",
            " 5   rating    12064 non-null  float64\n",
            " 6   members   12294 non-null  int64  \n",
            "dtypes: float64(1), int64(2), object(4)\n",
            "memory usage: 672.5+ KB\n"
          ],
          "name": "stdout"
        }
      ]
    },
    {
      "cell_type": "code",
      "metadata": {
        "id": "jgJz0aHDX_ml",
        "colab_type": "code",
        "outputId": "d7410147-29a3-44ec-dbd6-f254a108db97",
        "colab": {
          "base_uri": "https://localhost:8080/",
          "height": 151
        }
      },
      "source": [
        "df.isnull().sum()"
      ],
      "execution_count": 40,
      "outputs": [
        {
          "output_type": "execute_result",
          "data": {
            "text/plain": [
              "anime_id      0\n",
              "name          0\n",
              "genre        62\n",
              "type         25\n",
              "episodes      0\n",
              "rating      230\n",
              "members       0\n",
              "dtype: int64"
            ]
          },
          "metadata": {
            "tags": []
          },
          "execution_count": 40
        }
      ]
    },
    {
      "cell_type": "markdown",
      "metadata": {
        "id": "tyujbT8SX_mo",
        "colab_type": "text"
      },
      "source": [
        "#### For Cotent based recommender system we will be using { Name, Genre, Type} column"
      ]
    },
    {
      "cell_type": "code",
      "metadata": {
        "id": "ZG3sFu5BX_mp",
        "colab_type": "code",
        "colab": {}
      },
      "source": [
        "# preprocessing\n",
        "# filling NaN \"Type\" with unknown\n",
        "df.loc[(df['type'].isnull()), 'type'] = 'Unknown'\n",
        "# filling NaN \"Genre\" with unknown\n",
        "df.loc[(df['genre'].isnull()), 'genre'] = 'Unknown'"
      ],
      "execution_count": 0,
      "outputs": []
    },
    {
      "cell_type": "code",
      "metadata": {
        "id": "3gaeLRd4X_mr",
        "colab_type": "code",
        "outputId": "bb31f76f-d2dc-4d3b-b134-c52969d9b2ba",
        "colab": {
          "base_uri": "https://localhost:8080/",
          "height": 151
        }
      },
      "source": [
        "df.isnull().sum()"
      ],
      "execution_count": 42,
      "outputs": [
        {
          "output_type": "execute_result",
          "data": {
            "text/plain": [
              "anime_id      0\n",
              "name          0\n",
              "genre         0\n",
              "type          0\n",
              "episodes      0\n",
              "rating      230\n",
              "members       0\n",
              "dtype: int64"
            ]
          },
          "metadata": {
            "tags": []
          },
          "execution_count": 42
        }
      ]
    },
    {
      "cell_type": "code",
      "metadata": {
        "id": "R8cRxUlLX_mv",
        "colab_type": "code",
        "colab": {}
      },
      "source": [
        "# Removing punctuation\n",
        "#df['name'] = df['name'].str.replace('[^\\w\\s]','')\n",
        "#df['name'].head()"
      ],
      "execution_count": 0,
      "outputs": []
    },
    {
      "cell_type": "code",
      "metadata": {
        "id": "J0mhxNWVX_mx",
        "colab_type": "code",
        "outputId": "a5ef534f-5239-4bcc-fa59-8bb1be9aebd3",
        "colab": {
          "base_uri": "https://localhost:8080/",
          "height": 195
        }
      },
      "source": [
        "# Dropping unwanted columns\n",
        "df.drop(['rating', 'members', 'episodes'], axis=1, inplace=True)\n",
        "df.head()"
      ],
      "execution_count": 51,
      "outputs": [
        {
          "output_type": "execute_result",
          "data": {
            "text/html": [
              "<div>\n",
              "<style scoped>\n",
              "    .dataframe tbody tr th:only-of-type {\n",
              "        vertical-align: middle;\n",
              "    }\n",
              "\n",
              "    .dataframe tbody tr th {\n",
              "        vertical-align: top;\n",
              "    }\n",
              "\n",
              "    .dataframe thead th {\n",
              "        text-align: right;\n",
              "    }\n",
              "</style>\n",
              "<table border=\"1\" class=\"dataframe\">\n",
              "  <thead>\n",
              "    <tr style=\"text-align: right;\">\n",
              "      <th></th>\n",
              "      <th>anime_id</th>\n",
              "      <th>name</th>\n",
              "      <th>genre</th>\n",
              "      <th>type</th>\n",
              "    </tr>\n",
              "  </thead>\n",
              "  <tbody>\n",
              "    <tr>\n",
              "      <th>0</th>\n",
              "      <td>32281</td>\n",
              "      <td>Kimi no Na wa.</td>\n",
              "      <td>Drama, Romance, School, Supernatural</td>\n",
              "      <td>Movie</td>\n",
              "    </tr>\n",
              "    <tr>\n",
              "      <th>1</th>\n",
              "      <td>5114</td>\n",
              "      <td>Fullmetal Alchemist: Brotherhood</td>\n",
              "      <td>Action, Adventure, Drama, Fantasy, Magic, Mili...</td>\n",
              "      <td>TV</td>\n",
              "    </tr>\n",
              "    <tr>\n",
              "      <th>2</th>\n",
              "      <td>28977</td>\n",
              "      <td>Gintama°</td>\n",
              "      <td>Action, Comedy, Historical, Parody, Samurai, S...</td>\n",
              "      <td>TV</td>\n",
              "    </tr>\n",
              "    <tr>\n",
              "      <th>3</th>\n",
              "      <td>9253</td>\n",
              "      <td>Steins;Gate</td>\n",
              "      <td>Sci-Fi, Thriller</td>\n",
              "      <td>TV</td>\n",
              "    </tr>\n",
              "    <tr>\n",
              "      <th>4</th>\n",
              "      <td>9969</td>\n",
              "      <td>Gintama&amp;#039;</td>\n",
              "      <td>Action, Comedy, Historical, Parody, Samurai, S...</td>\n",
              "      <td>TV</td>\n",
              "    </tr>\n",
              "  </tbody>\n",
              "</table>\n",
              "</div>"
            ],
            "text/plain": [
              "   anime_id  ...   type\n",
              "0     32281  ...  Movie\n",
              "1      5114  ...     TV\n",
              "2     28977  ...     TV\n",
              "3      9253  ...     TV\n",
              "4      9969  ...     TV\n",
              "\n",
              "[5 rows x 4 columns]"
            ]
          },
          "metadata": {
            "tags": []
          },
          "execution_count": 51
        }
      ]
    },
    {
      "cell_type": "code",
      "metadata": {
        "id": "krutLLCYX_m0",
        "colab_type": "code",
        "colab": {}
      },
      "source": [
        "# Converting to lower case\n",
        "df['genre'] = df['genre'].apply(lambda x: \" \".join(x.lower() for x in x.split()))"
      ],
      "execution_count": 0,
      "outputs": []
    },
    {
      "cell_type": "code",
      "metadata": {
        "id": "lpsJbTF_X_m2",
        "colab_type": "code",
        "colab": {}
      },
      "source": [
        "# tokenization of keywords\n",
        "#from textblob import TextBlob\n",
        "#df['genre'] = df['genre'].apply(lambda x: TextBlob(x).words)\n",
        "#df['type'] = df['type'].apply(lambda x: TextBlob(x).words)\n",
        "#df['episodes'] = df['episodes'].apply(lambda x: TextBlob(x).words)\n",
        "#df.head()"
      ],
      "execution_count": 0,
      "outputs": []
    },
    {
      "cell_type": "code",
      "metadata": {
        "id": "ndxyIM54X_m5",
        "colab_type": "code",
        "colab": {}
      },
      "source": [
        "df['bag_of_words'] = \"\"\n",
        "df.loc[:,'bag_of_words'] = df.loc[:, 'genre'] +', '+ df.loc[:, 'type']"
      ],
      "execution_count": 0,
      "outputs": []
    },
    {
      "cell_type": "code",
      "metadata": {
        "id": "iWwM_U2MX_m9",
        "colab_type": "code",
        "outputId": "ed8aa1b5-14c1-4124-9f78-211a7640fcf7",
        "colab": {
          "base_uri": "https://localhost:8080/",
          "height": 195
        }
      },
      "source": [
        "# Data after preprocessing\n",
        "df.head()"
      ],
      "execution_count": 55,
      "outputs": [
        {
          "output_type": "execute_result",
          "data": {
            "text/html": [
              "<div>\n",
              "<style scoped>\n",
              "    .dataframe tbody tr th:only-of-type {\n",
              "        vertical-align: middle;\n",
              "    }\n",
              "\n",
              "    .dataframe tbody tr th {\n",
              "        vertical-align: top;\n",
              "    }\n",
              "\n",
              "    .dataframe thead th {\n",
              "        text-align: right;\n",
              "    }\n",
              "</style>\n",
              "<table border=\"1\" class=\"dataframe\">\n",
              "  <thead>\n",
              "    <tr style=\"text-align: right;\">\n",
              "      <th></th>\n",
              "      <th>anime_id</th>\n",
              "      <th>name</th>\n",
              "      <th>genre</th>\n",
              "      <th>type</th>\n",
              "      <th>bag_of_words</th>\n",
              "    </tr>\n",
              "  </thead>\n",
              "  <tbody>\n",
              "    <tr>\n",
              "      <th>0</th>\n",
              "      <td>32281</td>\n",
              "      <td>Kimi no Na wa.</td>\n",
              "      <td>drama, romance, school, supernatural</td>\n",
              "      <td>Movie</td>\n",
              "      <td>drama, romance, school, supernatural, Movie</td>\n",
              "    </tr>\n",
              "    <tr>\n",
              "      <th>1</th>\n",
              "      <td>5114</td>\n",
              "      <td>Fullmetal Alchemist: Brotherhood</td>\n",
              "      <td>action, adventure, drama, fantasy, magic, mili...</td>\n",
              "      <td>TV</td>\n",
              "      <td>action, adventure, drama, fantasy, magic, mili...</td>\n",
              "    </tr>\n",
              "    <tr>\n",
              "      <th>2</th>\n",
              "      <td>28977</td>\n",
              "      <td>Gintama°</td>\n",
              "      <td>action, comedy, historical, parody, samurai, s...</td>\n",
              "      <td>TV</td>\n",
              "      <td>action, comedy, historical, parody, samurai, s...</td>\n",
              "    </tr>\n",
              "    <tr>\n",
              "      <th>3</th>\n",
              "      <td>9253</td>\n",
              "      <td>Steins;Gate</td>\n",
              "      <td>sci-fi, thriller</td>\n",
              "      <td>TV</td>\n",
              "      <td>sci-fi, thriller, TV</td>\n",
              "    </tr>\n",
              "    <tr>\n",
              "      <th>4</th>\n",
              "      <td>9969</td>\n",
              "      <td>Gintama&amp;#039;</td>\n",
              "      <td>action, comedy, historical, parody, samurai, s...</td>\n",
              "      <td>TV</td>\n",
              "      <td>action, comedy, historical, parody, samurai, s...</td>\n",
              "    </tr>\n",
              "  </tbody>\n",
              "</table>\n",
              "</div>"
            ],
            "text/plain": [
              "   anime_id  ...                                       bag_of_words\n",
              "0     32281  ...        drama, romance, school, supernatural, Movie\n",
              "1      5114  ...  action, adventure, drama, fantasy, magic, mili...\n",
              "2     28977  ...  action, comedy, historical, parody, samurai, s...\n",
              "3      9253  ...                               sci-fi, thriller, TV\n",
              "4      9969  ...  action, comedy, historical, parody, samurai, s...\n",
              "\n",
              "[5 rows x 5 columns]"
            ]
          },
          "metadata": {
            "tags": []
          },
          "execution_count": 55
        }
      ]
    },
    {
      "cell_type": "markdown",
      "metadata": {
        "id": "3bCRn3uiX_nA",
        "colab_type": "text"
      },
      "source": [
        "### Using sklearn TFIDF implementation"
      ]
    },
    {
      "cell_type": "code",
      "metadata": {
        "id": "qIH1UEhCX_nA",
        "colab_type": "code",
        "colab": {}
      },
      "source": [
        "vectorizer = TfidfVectorizer()\n",
        "tfidf = vectorizer.fit_transform(df[\"bag_of_words\"])"
      ],
      "execution_count": 0,
      "outputs": []
    },
    {
      "cell_type": "code",
      "metadata": {
        "id": "6Q6yJp0hX_nC",
        "colab_type": "code",
        "colab": {}
      },
      "source": [
        "bag = vectorizer.get_feature_names()"
      ],
      "execution_count": 0,
      "outputs": []
    },
    {
      "cell_type": "code",
      "metadata": {
        "id": "WeqBaYHmX_nF",
        "colab_type": "code",
        "colab": {}
      },
      "source": [
        "# Using Cosine to obtain similaritier between two animes\n",
        "cosine_sim = cosine_similarity(tfidf, tfidf)"
      ],
      "execution_count": 0,
      "outputs": []
    },
    {
      "cell_type": "code",
      "metadata": {
        "id": "JJIk1UMNX_nH",
        "colab_type": "code",
        "outputId": "42422c4d-2b64-491e-c2c3-d39f8e9b7105",
        "colab": {
          "base_uri": "https://localhost:8080/",
          "height": 34
        }
      },
      "source": [
        "cosine_sim.shape"
      ],
      "execution_count": 18,
      "outputs": [
        {
          "output_type": "execute_result",
          "data": {
            "text/plain": [
              "(12294, 12294)"
            ]
          },
          "metadata": {
            "tags": []
          },
          "execution_count": 18
        }
      ]
    },
    {
      "cell_type": "code",
      "metadata": {
        "id": "4J0tJDZCX_nK",
        "colab_type": "code",
        "colab": {}
      },
      "source": [
        "# recommender function\n",
        "def recommendation(name, cosine_sim):\n",
        "    recommended = np.array([])\n",
        "    index_ = df.loc[(df['name'] == name)].index\n",
        "    score = cosine_sim[index_]\n",
        "    ind = np.argpartition(score[0], -10)[-11:]\n",
        "    ind = ind[np.argsort(score[0][ind])]\n",
        "    print(score[0][ind])\n",
        "    #for i in ind:\n",
        "     #   recommended = np.append(recommended, df.loc[(df.index == i)]['name'])        \n",
        "    return ind"
      ],
      "execution_count": 0,
      "outputs": []
    },
    {
      "cell_type": "code",
      "metadata": {
        "id": "oKBwsmMqX_nN",
        "colab_type": "code",
        "outputId": "8fc7092d-a0b5-418f-9ed9-89956ccece35",
        "colab": {
          "base_uri": "https://localhost:8080/",
          "height": 423
        }
      },
      "source": [
        "# Predicting movies similar to \"Fairy Tail\"\n",
        "indices = recommendation('Fairy Tail', cosine_sim)\n",
        "print(indices)\n",
        "df[['anime_id','name', 'genre', 'type']].loc[indices]"
      ],
      "execution_count": 20,
      "outputs": [
        {
          "output_type": "stream",
          "text": [
            "[0.9394034  0.9394034  0.9394034  0.9394034  0.96155633 0.96155633\n",
            " 0.96155633 0.96155633 0.96155633 1.         1.        ]\n",
            "[ 1854   959  3592  2524 10953   290   101   268   795   255   288]\n"
          ],
          "name": "stdout"
        },
        {
          "output_type": "execute_result",
          "data": {
            "text/html": [
              "<div>\n",
              "<style scoped>\n",
              "    .dataframe tbody tr th:only-of-type {\n",
              "        vertical-align: middle;\n",
              "    }\n",
              "\n",
              "    .dataframe tbody tr th {\n",
              "        vertical-align: top;\n",
              "    }\n",
              "\n",
              "    .dataframe thead th {\n",
              "        text-align: right;\n",
              "    }\n",
              "</style>\n",
              "<table border=\"1\" class=\"dataframe\">\n",
              "  <thead>\n",
              "    <tr style=\"text-align: right;\">\n",
              "      <th></th>\n",
              "      <th>anime_id</th>\n",
              "      <th>name</th>\n",
              "      <th>genre</th>\n",
              "      <th>type</th>\n",
              "    </tr>\n",
              "  </thead>\n",
              "  <tbody>\n",
              "    <tr>\n",
              "      <th>1854</th>\n",
              "      <td>332</td>\n",
              "      <td>Dokidoki Densetsu: Mahoujin Guru Guru</td>\n",
              "      <td>adventure, comedy, fantasy, magic, shounen</td>\n",
              "      <td>TV</td>\n",
              "    </tr>\n",
              "    <tr>\n",
              "      <th>959</th>\n",
              "      <td>331</td>\n",
              "      <td>Mahoujin Guru Guru</td>\n",
              "      <td>adventure, comedy, fantasy, magic, shounen</td>\n",
              "      <td>TV</td>\n",
              "    </tr>\n",
              "    <tr>\n",
              "      <th>3592</th>\n",
              "      <td>1018</td>\n",
              "      <td>Majutsushi Orphen: Revenge</td>\n",
              "      <td>adventure, comedy, fantasy, magic, shounen</td>\n",
              "      <td>TV</td>\n",
              "    </tr>\n",
              "    <tr>\n",
              "      <th>2524</th>\n",
              "      <td>1164</td>\n",
              "      <td>Mahou Senshi Louie</td>\n",
              "      <td>adventure, comedy, fantasy, magic, shounen</td>\n",
              "      <td>TV</td>\n",
              "    </tr>\n",
              "    <tr>\n",
              "      <th>10953</th>\n",
              "      <td>28833</td>\n",
              "      <td>Chain Chronicle: Haecceitas no Hikari</td>\n",
              "      <td>action, adventure, fantasy, magic, shounen</td>\n",
              "      <td>TV</td>\n",
              "    </tr>\n",
              "    <tr>\n",
              "      <th>290</th>\n",
              "      <td>31741</td>\n",
              "      <td>Magi: Sinbad no Bouken (TV)</td>\n",
              "      <td>action, adventure, fantasy, magic, shounen</td>\n",
              "      <td>TV</td>\n",
              "    </tr>\n",
              "    <tr>\n",
              "      <th>101</th>\n",
              "      <td>18115</td>\n",
              "      <td>Magi: The Kingdom of Magic</td>\n",
              "      <td>action, adventure, fantasy, magic, shounen</td>\n",
              "      <td>TV</td>\n",
              "    </tr>\n",
              "    <tr>\n",
              "      <th>268</th>\n",
              "      <td>14513</td>\n",
              "      <td>Magi: The Labyrinth of Magic</td>\n",
              "      <td>action, adventure, fantasy, magic, shounen</td>\n",
              "      <td>TV</td>\n",
              "    </tr>\n",
              "    <tr>\n",
              "      <th>795</th>\n",
              "      <td>8086</td>\n",
              "      <td>Densetsu no Yuusha no Densetsu</td>\n",
              "      <td>action, adventure, fantasy, magic, shounen</td>\n",
              "      <td>TV</td>\n",
              "    </tr>\n",
              "    <tr>\n",
              "      <th>255</th>\n",
              "      <td>22043</td>\n",
              "      <td>Fairy Tail (2014)</td>\n",
              "      <td>action, adventure, comedy, fantasy, magic, sho...</td>\n",
              "      <td>TV</td>\n",
              "    </tr>\n",
              "    <tr>\n",
              "      <th>288</th>\n",
              "      <td>6702</td>\n",
              "      <td>Fairy Tail</td>\n",
              "      <td>action, adventure, comedy, fantasy, magic, sho...</td>\n",
              "      <td>TV</td>\n",
              "    </tr>\n",
              "  </tbody>\n",
              "</table>\n",
              "</div>"
            ],
            "text/plain": [
              "       anime_id  ... type\n",
              "1854        332  ...   TV\n",
              "959         331  ...   TV\n",
              "3592       1018  ...   TV\n",
              "2524       1164  ...   TV\n",
              "10953     28833  ...   TV\n",
              "290       31741  ...   TV\n",
              "101       18115  ...   TV\n",
              "268       14513  ...   TV\n",
              "795        8086  ...   TV\n",
              "255       22043  ...   TV\n",
              "288        6702  ...   TV\n",
              "\n",
              "[11 rows x 4 columns]"
            ]
          },
          "metadata": {
            "tags": []
          },
          "execution_count": 20
        }
      ]
    },
    {
      "cell_type": "markdown",
      "metadata": {
        "id": "SD6pbnw7X_nP",
        "colab_type": "text"
      },
      "source": [
        "## TF - IDF implementation without library"
      ]
    },
    {
      "cell_type": "code",
      "metadata": {
        "id": "LZnKwRUeX_nR",
        "colab_type": "code",
        "outputId": "ec0ec36b-9419-404c-9291-3b3d570d99bf",
        "colab": {
          "base_uri": "https://localhost:8080/",
          "height": 195
        }
      },
      "source": [
        "# Calculating TF\n",
        "tf = df['bag_of_words'].apply(lambda x: pd.value_counts(x.split(\",\"))).sum(axis = 0).reset_index()\n",
        "tf.columns = ['words','tf']\n",
        "\n",
        "# removing duplicate words\n",
        "for i,word1 in enumerate(tf['words']):\n",
        "    tf.loc[i, 'words']= word1.strip()\n",
        "tf2 = {}\n",
        "for i,word1 in enumerate(tf['words']):\n",
        "    if word1 not in tf2.keys():\n",
        "        tf2[word1] = tf.loc[i, 'tf']\n",
        "    else:\n",
        "        tf2[word1] += tf.loc[i, 'tf']\n",
        "tf = pd.DataFrame.from_dict(tf2, orient='index').reset_index()\n",
        "tf.columns = ['words','tf']\n",
        "tf.head()"
      ],
      "execution_count": 21,
      "outputs": [
        {
          "output_type": "execute_result",
          "data": {
            "text/html": [
              "<div>\n",
              "<style scoped>\n",
              "    .dataframe tbody tr th:only-of-type {\n",
              "        vertical-align: middle;\n",
              "    }\n",
              "\n",
              "    .dataframe tbody tr th {\n",
              "        vertical-align: top;\n",
              "    }\n",
              "\n",
              "    .dataframe thead th {\n",
              "        text-align: right;\n",
              "    }\n",
              "</style>\n",
              "<table border=\"1\" class=\"dataframe\">\n",
              "  <thead>\n",
              "    <tr style=\"text-align: right;\">\n",
              "      <th></th>\n",
              "      <th>words</th>\n",
              "      <th>tf</th>\n",
              "    </tr>\n",
              "  </thead>\n",
              "  <tbody>\n",
              "    <tr>\n",
              "      <th>0</th>\n",
              "      <td>Movie</td>\n",
              "      <td>2348.0</td>\n",
              "    </tr>\n",
              "    <tr>\n",
              "      <th>1</th>\n",
              "      <td>supernatural</td>\n",
              "      <td>1037.0</td>\n",
              "    </tr>\n",
              "    <tr>\n",
              "      <th>2</th>\n",
              "      <td>romance</td>\n",
              "      <td>1464.0</td>\n",
              "    </tr>\n",
              "    <tr>\n",
              "      <th>3</th>\n",
              "      <td>school</td>\n",
              "      <td>1220.0</td>\n",
              "    </tr>\n",
              "    <tr>\n",
              "      <th>4</th>\n",
              "      <td>drama</td>\n",
              "      <td>2016.0</td>\n",
              "    </tr>\n",
              "  </tbody>\n",
              "</table>\n",
              "</div>"
            ],
            "text/plain": [
              "          words      tf\n",
              "0         Movie  2348.0\n",
              "1  supernatural  1037.0\n",
              "2       romance  1464.0\n",
              "3        school  1220.0\n",
              "4         drama  2016.0"
            ]
          },
          "metadata": {
            "tags": []
          },
          "execution_count": 21
        }
      ]
    },
    {
      "cell_type": "code",
      "metadata": {
        "id": "Pib-4BtIX_nT",
        "colab_type": "code",
        "colab": {}
      },
      "source": [
        "# Calculating IDF\n",
        "N = df.shape[0]\n",
        "idf = {}\n",
        "for i,word in enumerate(tf['words']):\n",
        "    tf.loc[i, 'idf'] = np.log(N/(len(df[df['bag_of_words'].str.contains(word)])))\n",
        "    idf[word] = np.log(N/(len(df[df['bag_of_words'].str.contains(word)])))\n"
      ],
      "execution_count": 0,
      "outputs": []
    },
    {
      "cell_type": "code",
      "metadata": {
        "id": "u_FdnJ5UX_nV",
        "colab_type": "code",
        "outputId": "d70ff6db-6e06-48de-8d73-c03e6e5bdfcf",
        "colab": {
          "base_uri": "https://localhost:8080/",
          "height": 249
        }
      },
      "source": [
        "# Creating tfidf vectors\n",
        "tff = pd.DataFrame(columns=tf['words'])\n",
        "for i in range(N):\n",
        "    dict_ = dict.fromkeys(tf['words'], 0)\n",
        "    for word in df['bag_of_words'][i].split(\", \"):\n",
        "        dict_[word] = (1/len(df['bag_of_words'][i].split(\", \"))) * idf[word]\n",
        "    tff = tff.append(dict_, ignore_index=True)\n",
        "tff.head()"
      ],
      "execution_count": 23,
      "outputs": [
        {
          "output_type": "execute_result",
          "data": {
            "text/html": [
              "<div>\n",
              "<style scoped>\n",
              "    .dataframe tbody tr th:only-of-type {\n",
              "        vertical-align: middle;\n",
              "    }\n",
              "\n",
              "    .dataframe tbody tr th {\n",
              "        vertical-align: top;\n",
              "    }\n",
              "\n",
              "    .dataframe thead th {\n",
              "        text-align: right;\n",
              "    }\n",
              "</style>\n",
              "<table border=\"1\" class=\"dataframe\">\n",
              "  <thead>\n",
              "    <tr style=\"text-align: right;\">\n",
              "      <th>words</th>\n",
              "      <th>Movie</th>\n",
              "      <th>supernatural</th>\n",
              "      <th>romance</th>\n",
              "      <th>school</th>\n",
              "      <th>drama</th>\n",
              "      <th>adventure</th>\n",
              "      <th>action</th>\n",
              "      <th>shounen</th>\n",
              "      <th>magic</th>\n",
              "      <th>military</th>\n",
              "      <th>TV</th>\n",
              "      <th>fantasy</th>\n",
              "      <th>samurai</th>\n",
              "      <th>parody</th>\n",
              "      <th>comedy</th>\n",
              "      <th>sci-fi</th>\n",
              "      <th>historical</th>\n",
              "      <th>thriller</th>\n",
              "      <th>sports</th>\n",
              "      <th>super power</th>\n",
              "      <th>OVA</th>\n",
              "      <th>space</th>\n",
              "      <th>slice of life</th>\n",
              "      <th>mecha</th>\n",
              "      <th>music</th>\n",
              "      <th>seinen</th>\n",
              "      <th>mystery</th>\n",
              "      <th>martial arts</th>\n",
              "      <th>vampire</th>\n",
              "      <th>shoujo</th>\n",
              "      <th>psychological</th>\n",
              "      <th>police</th>\n",
              "      <th>horror</th>\n",
              "      <th>Special</th>\n",
              "      <th>demons</th>\n",
              "      <th>ecchi</th>\n",
              "      <th>josei</th>\n",
              "      <th>shounen ai</th>\n",
              "      <th>game</th>\n",
              "      <th>dementia</th>\n",
              "      <th>harem</th>\n",
              "      <th>Music</th>\n",
              "      <th>cars</th>\n",
              "      <th>ONA</th>\n",
              "      <th>kids</th>\n",
              "      <th>shoujo ai</th>\n",
              "      <th>unknown</th>\n",
              "      <th>Unknown</th>\n",
              "      <th>hentai</th>\n",
              "      <th>yaoi</th>\n",
              "      <th>yuri</th>\n",
              "    </tr>\n",
              "  </thead>\n",
              "  <tbody>\n",
              "    <tr>\n",
              "      <th>0</th>\n",
              "      <td>0.331109</td>\n",
              "      <td>0.494556</td>\n",
              "      <td>0.425588</td>\n",
              "      <td>0.462052</td>\n",
              "      <td>0.361599</td>\n",
              "      <td>0.000000</td>\n",
              "      <td>0.000000</td>\n",
              "      <td>0.000000</td>\n",
              "      <td>0.000000</td>\n",
              "      <td>0.000000</td>\n",
              "      <td>0.000000</td>\n",
              "      <td>0.000000</td>\n",
              "      <td>0.000000</td>\n",
              "      <td>0.0000</td>\n",
              "      <td>0.000000</td>\n",
              "      <td>0.000000</td>\n",
              "      <td>0.000000</td>\n",
              "      <td>0.000000</td>\n",
              "      <td>0.0</td>\n",
              "      <td>0.0</td>\n",
              "      <td>0.0</td>\n",
              "      <td>0.0</td>\n",
              "      <td>0.0</td>\n",
              "      <td>0.0</td>\n",
              "      <td>0.0</td>\n",
              "      <td>0.0</td>\n",
              "      <td>0.0</td>\n",
              "      <td>0.0</td>\n",
              "      <td>0.0</td>\n",
              "      <td>0.0</td>\n",
              "      <td>0.0</td>\n",
              "      <td>0.0</td>\n",
              "      <td>0.0</td>\n",
              "      <td>0.0</td>\n",
              "      <td>0.0</td>\n",
              "      <td>0.0</td>\n",
              "      <td>0.0</td>\n",
              "      <td>0.0</td>\n",
              "      <td>0.0</td>\n",
              "      <td>0.0</td>\n",
              "      <td>0.0</td>\n",
              "      <td>0.0</td>\n",
              "      <td>0.0</td>\n",
              "      <td>0.0</td>\n",
              "      <td>0.0</td>\n",
              "      <td>0.0</td>\n",
              "      <td>0.0</td>\n",
              "      <td>0.0</td>\n",
              "      <td>0.0</td>\n",
              "      <td>0.0</td>\n",
              "      <td>0.0</td>\n",
              "    </tr>\n",
              "    <tr>\n",
              "      <th>1</th>\n",
              "      <td>0.000000</td>\n",
              "      <td>0.000000</td>\n",
              "      <td>0.000000</td>\n",
              "      <td>0.000000</td>\n",
              "      <td>0.225999</td>\n",
              "      <td>0.206943</td>\n",
              "      <td>0.182944</td>\n",
              "      <td>0.241843</td>\n",
              "      <td>0.345018</td>\n",
              "      <td>0.420303</td>\n",
              "      <td>0.147192</td>\n",
              "      <td>0.209037</td>\n",
              "      <td>0.000000</td>\n",
              "      <td>0.0000</td>\n",
              "      <td>0.000000</td>\n",
              "      <td>0.000000</td>\n",
              "      <td>0.000000</td>\n",
              "      <td>0.000000</td>\n",
              "      <td>0.0</td>\n",
              "      <td>0.0</td>\n",
              "      <td>0.0</td>\n",
              "      <td>0.0</td>\n",
              "      <td>0.0</td>\n",
              "      <td>0.0</td>\n",
              "      <td>0.0</td>\n",
              "      <td>0.0</td>\n",
              "      <td>0.0</td>\n",
              "      <td>0.0</td>\n",
              "      <td>0.0</td>\n",
              "      <td>0.0</td>\n",
              "      <td>0.0</td>\n",
              "      <td>0.0</td>\n",
              "      <td>0.0</td>\n",
              "      <td>0.0</td>\n",
              "      <td>0.0</td>\n",
              "      <td>0.0</td>\n",
              "      <td>0.0</td>\n",
              "      <td>0.0</td>\n",
              "      <td>0.0</td>\n",
              "      <td>0.0</td>\n",
              "      <td>0.0</td>\n",
              "      <td>0.0</td>\n",
              "      <td>0.0</td>\n",
              "      <td>0.0</td>\n",
              "      <td>0.0</td>\n",
              "      <td>0.0</td>\n",
              "      <td>0.0</td>\n",
              "      <td>0.0</td>\n",
              "      <td>0.0</td>\n",
              "      <td>0.0</td>\n",
              "      <td>0.0</td>\n",
              "    </tr>\n",
              "    <tr>\n",
              "      <th>2</th>\n",
              "      <td>0.000000</td>\n",
              "      <td>0.000000</td>\n",
              "      <td>0.000000</td>\n",
              "      <td>0.000000</td>\n",
              "      <td>0.000000</td>\n",
              "      <td>0.000000</td>\n",
              "      <td>0.182944</td>\n",
              "      <td>0.241843</td>\n",
              "      <td>0.000000</td>\n",
              "      <td>0.000000</td>\n",
              "      <td>0.147192</td>\n",
              "      <td>0.000000</td>\n",
              "      <td>0.552457</td>\n",
              "      <td>0.4257</td>\n",
              "      <td>0.121665</td>\n",
              "      <td>0.222695</td>\n",
              "      <td>0.340598</td>\n",
              "      <td>0.000000</td>\n",
              "      <td>0.0</td>\n",
              "      <td>0.0</td>\n",
              "      <td>0.0</td>\n",
              "      <td>0.0</td>\n",
              "      <td>0.0</td>\n",
              "      <td>0.0</td>\n",
              "      <td>0.0</td>\n",
              "      <td>0.0</td>\n",
              "      <td>0.0</td>\n",
              "      <td>0.0</td>\n",
              "      <td>0.0</td>\n",
              "      <td>0.0</td>\n",
              "      <td>0.0</td>\n",
              "      <td>0.0</td>\n",
              "      <td>0.0</td>\n",
              "      <td>0.0</td>\n",
              "      <td>0.0</td>\n",
              "      <td>0.0</td>\n",
              "      <td>0.0</td>\n",
              "      <td>0.0</td>\n",
              "      <td>0.0</td>\n",
              "      <td>0.0</td>\n",
              "      <td>0.0</td>\n",
              "      <td>0.0</td>\n",
              "      <td>0.0</td>\n",
              "      <td>0.0</td>\n",
              "      <td>0.0</td>\n",
              "      <td>0.0</td>\n",
              "      <td>0.0</td>\n",
              "      <td>0.0</td>\n",
              "      <td>0.0</td>\n",
              "      <td>0.0</td>\n",
              "      <td>0.0</td>\n",
              "    </tr>\n",
              "    <tr>\n",
              "      <th>3</th>\n",
              "      <td>0.000000</td>\n",
              "      <td>0.000000</td>\n",
              "      <td>0.000000</td>\n",
              "      <td>0.000000</td>\n",
              "      <td>0.000000</td>\n",
              "      <td>0.000000</td>\n",
              "      <td>0.000000</td>\n",
              "      <td>0.000000</td>\n",
              "      <td>0.000000</td>\n",
              "      <td>0.000000</td>\n",
              "      <td>0.392512</td>\n",
              "      <td>0.000000</td>\n",
              "      <td>0.000000</td>\n",
              "      <td>0.0000</td>\n",
              "      <td>0.000000</td>\n",
              "      <td>0.593854</td>\n",
              "      <td>0.000000</td>\n",
              "      <td>1.650319</td>\n",
              "      <td>0.0</td>\n",
              "      <td>0.0</td>\n",
              "      <td>0.0</td>\n",
              "      <td>0.0</td>\n",
              "      <td>0.0</td>\n",
              "      <td>0.0</td>\n",
              "      <td>0.0</td>\n",
              "      <td>0.0</td>\n",
              "      <td>0.0</td>\n",
              "      <td>0.0</td>\n",
              "      <td>0.0</td>\n",
              "      <td>0.0</td>\n",
              "      <td>0.0</td>\n",
              "      <td>0.0</td>\n",
              "      <td>0.0</td>\n",
              "      <td>0.0</td>\n",
              "      <td>0.0</td>\n",
              "      <td>0.0</td>\n",
              "      <td>0.0</td>\n",
              "      <td>0.0</td>\n",
              "      <td>0.0</td>\n",
              "      <td>0.0</td>\n",
              "      <td>0.0</td>\n",
              "      <td>0.0</td>\n",
              "      <td>0.0</td>\n",
              "      <td>0.0</td>\n",
              "      <td>0.0</td>\n",
              "      <td>0.0</td>\n",
              "      <td>0.0</td>\n",
              "      <td>0.0</td>\n",
              "      <td>0.0</td>\n",
              "      <td>0.0</td>\n",
              "      <td>0.0</td>\n",
              "    </tr>\n",
              "    <tr>\n",
              "      <th>4</th>\n",
              "      <td>0.000000</td>\n",
              "      <td>0.000000</td>\n",
              "      <td>0.000000</td>\n",
              "      <td>0.000000</td>\n",
              "      <td>0.000000</td>\n",
              "      <td>0.000000</td>\n",
              "      <td>0.182944</td>\n",
              "      <td>0.241843</td>\n",
              "      <td>0.000000</td>\n",
              "      <td>0.000000</td>\n",
              "      <td>0.147192</td>\n",
              "      <td>0.000000</td>\n",
              "      <td>0.552457</td>\n",
              "      <td>0.4257</td>\n",
              "      <td>0.121665</td>\n",
              "      <td>0.222695</td>\n",
              "      <td>0.340598</td>\n",
              "      <td>0.000000</td>\n",
              "      <td>0.0</td>\n",
              "      <td>0.0</td>\n",
              "      <td>0.0</td>\n",
              "      <td>0.0</td>\n",
              "      <td>0.0</td>\n",
              "      <td>0.0</td>\n",
              "      <td>0.0</td>\n",
              "      <td>0.0</td>\n",
              "      <td>0.0</td>\n",
              "      <td>0.0</td>\n",
              "      <td>0.0</td>\n",
              "      <td>0.0</td>\n",
              "      <td>0.0</td>\n",
              "      <td>0.0</td>\n",
              "      <td>0.0</td>\n",
              "      <td>0.0</td>\n",
              "      <td>0.0</td>\n",
              "      <td>0.0</td>\n",
              "      <td>0.0</td>\n",
              "      <td>0.0</td>\n",
              "      <td>0.0</td>\n",
              "      <td>0.0</td>\n",
              "      <td>0.0</td>\n",
              "      <td>0.0</td>\n",
              "      <td>0.0</td>\n",
              "      <td>0.0</td>\n",
              "      <td>0.0</td>\n",
              "      <td>0.0</td>\n",
              "      <td>0.0</td>\n",
              "      <td>0.0</td>\n",
              "      <td>0.0</td>\n",
              "      <td>0.0</td>\n",
              "      <td>0.0</td>\n",
              "    </tr>\n",
              "  </tbody>\n",
              "</table>\n",
              "</div>"
            ],
            "text/plain": [
              "words     Movie  supernatural   romance    school  ...  Unknown  hentai  yaoi  yuri\n",
              "0      0.331109      0.494556  0.425588  0.462052  ...      0.0     0.0   0.0   0.0\n",
              "1      0.000000      0.000000  0.000000  0.000000  ...      0.0     0.0   0.0   0.0\n",
              "2      0.000000      0.000000  0.000000  0.000000  ...      0.0     0.0   0.0   0.0\n",
              "3      0.000000      0.000000  0.000000  0.000000  ...      0.0     0.0   0.0   0.0\n",
              "4      0.000000      0.000000  0.000000  0.000000  ...      0.0     0.0   0.0   0.0\n",
              "\n",
              "[5 rows x 51 columns]"
            ]
          },
          "metadata": {
            "tags": []
          },
          "execution_count": 23
        }
      ]
    },
    {
      "cell_type": "code",
      "metadata": {
        "id": "3J_V4cnZX_nX",
        "colab_type": "code",
        "colab": {}
      },
      "source": [
        "cosine_sim_ = cosine_similarity(tff, tff)"
      ],
      "execution_count": 0,
      "outputs": []
    },
    {
      "cell_type": "markdown",
      "metadata": {
        "id": "IlotiAPLX_nZ",
        "colab_type": "text"
      },
      "source": [
        "### Comparing both with and without library tfidf implementation and recommending on the basis of contents"
      ]
    },
    {
      "cell_type": "code",
      "metadata": {
        "id": "bRREl-wPX_na",
        "colab_type": "code",
        "outputId": "d9a0bb71-8deb-41b5-e004-a07dbafb99df",
        "colab": {
          "base_uri": "https://localhost:8080/",
          "height": 423
        }
      },
      "source": [
        "# Predicting movies similar to \"Fairy Tail\"\n",
        "indices = recommendation('Fairy Tail', cosine_sim_)\n",
        "print(indices)\n",
        "df[['anime_id','name', 'genre', 'type']].loc[indices]"
      ],
      "execution_count": 25,
      "outputs": [
        {
          "output_type": "stream",
          "text": [
            "[0.94857288 0.94857288 0.94857288 0.94857288 0.97758854 0.97758854\n",
            " 0.97758854 0.97758854 0.97758854 1.         1.        ]\n",
            "[ 2524  1854  3592   959   101   268   795 10953   290   288   255]\n"
          ],
          "name": "stdout"
        },
        {
          "output_type": "execute_result",
          "data": {
            "text/html": [
              "<div>\n",
              "<style scoped>\n",
              "    .dataframe tbody tr th:only-of-type {\n",
              "        vertical-align: middle;\n",
              "    }\n",
              "\n",
              "    .dataframe tbody tr th {\n",
              "        vertical-align: top;\n",
              "    }\n",
              "\n",
              "    .dataframe thead th {\n",
              "        text-align: right;\n",
              "    }\n",
              "</style>\n",
              "<table border=\"1\" class=\"dataframe\">\n",
              "  <thead>\n",
              "    <tr style=\"text-align: right;\">\n",
              "      <th></th>\n",
              "      <th>anime_id</th>\n",
              "      <th>name</th>\n",
              "      <th>genre</th>\n",
              "      <th>type</th>\n",
              "    </tr>\n",
              "  </thead>\n",
              "  <tbody>\n",
              "    <tr>\n",
              "      <th>2524</th>\n",
              "      <td>1164</td>\n",
              "      <td>Mahou Senshi Louie</td>\n",
              "      <td>adventure, comedy, fantasy, magic, shounen</td>\n",
              "      <td>TV</td>\n",
              "    </tr>\n",
              "    <tr>\n",
              "      <th>1854</th>\n",
              "      <td>332</td>\n",
              "      <td>Dokidoki Densetsu: Mahoujin Guru Guru</td>\n",
              "      <td>adventure, comedy, fantasy, magic, shounen</td>\n",
              "      <td>TV</td>\n",
              "    </tr>\n",
              "    <tr>\n",
              "      <th>3592</th>\n",
              "      <td>1018</td>\n",
              "      <td>Majutsushi Orphen: Revenge</td>\n",
              "      <td>adventure, comedy, fantasy, magic, shounen</td>\n",
              "      <td>TV</td>\n",
              "    </tr>\n",
              "    <tr>\n",
              "      <th>959</th>\n",
              "      <td>331</td>\n",
              "      <td>Mahoujin Guru Guru</td>\n",
              "      <td>adventure, comedy, fantasy, magic, shounen</td>\n",
              "      <td>TV</td>\n",
              "    </tr>\n",
              "    <tr>\n",
              "      <th>101</th>\n",
              "      <td>18115</td>\n",
              "      <td>Magi: The Kingdom of Magic</td>\n",
              "      <td>action, adventure, fantasy, magic, shounen</td>\n",
              "      <td>TV</td>\n",
              "    </tr>\n",
              "    <tr>\n",
              "      <th>268</th>\n",
              "      <td>14513</td>\n",
              "      <td>Magi: The Labyrinth of Magic</td>\n",
              "      <td>action, adventure, fantasy, magic, shounen</td>\n",
              "      <td>TV</td>\n",
              "    </tr>\n",
              "    <tr>\n",
              "      <th>795</th>\n",
              "      <td>8086</td>\n",
              "      <td>Densetsu no Yuusha no Densetsu</td>\n",
              "      <td>action, adventure, fantasy, magic, shounen</td>\n",
              "      <td>TV</td>\n",
              "    </tr>\n",
              "    <tr>\n",
              "      <th>10953</th>\n",
              "      <td>28833</td>\n",
              "      <td>Chain Chronicle: Haecceitas no Hikari</td>\n",
              "      <td>action, adventure, fantasy, magic, shounen</td>\n",
              "      <td>TV</td>\n",
              "    </tr>\n",
              "    <tr>\n",
              "      <th>290</th>\n",
              "      <td>31741</td>\n",
              "      <td>Magi: Sinbad no Bouken (TV)</td>\n",
              "      <td>action, adventure, fantasy, magic, shounen</td>\n",
              "      <td>TV</td>\n",
              "    </tr>\n",
              "    <tr>\n",
              "      <th>288</th>\n",
              "      <td>6702</td>\n",
              "      <td>Fairy Tail</td>\n",
              "      <td>action, adventure, comedy, fantasy, magic, sho...</td>\n",
              "      <td>TV</td>\n",
              "    </tr>\n",
              "    <tr>\n",
              "      <th>255</th>\n",
              "      <td>22043</td>\n",
              "      <td>Fairy Tail (2014)</td>\n",
              "      <td>action, adventure, comedy, fantasy, magic, sho...</td>\n",
              "      <td>TV</td>\n",
              "    </tr>\n",
              "  </tbody>\n",
              "</table>\n",
              "</div>"
            ],
            "text/plain": [
              "       anime_id  ... type\n",
              "2524       1164  ...   TV\n",
              "1854        332  ...   TV\n",
              "3592       1018  ...   TV\n",
              "959         331  ...   TV\n",
              "101       18115  ...   TV\n",
              "268       14513  ...   TV\n",
              "795        8086  ...   TV\n",
              "10953     28833  ...   TV\n",
              "290       31741  ...   TV\n",
              "288        6702  ...   TV\n",
              "255       22043  ...   TV\n",
              "\n",
              "[11 rows x 4 columns]"
            ]
          },
          "metadata": {
            "tags": []
          },
          "execution_count": 25
        }
      ]
    },
    {
      "cell_type": "markdown",
      "metadata": {
        "id": "FxTJ_uUkX_nc",
        "colab_type": "text"
      },
      "source": [
        "## Creating user profile and recommending movies "
      ]
    },
    {
      "cell_type": "code",
      "metadata": {
        "id": "zglcrNscX_nc",
        "colab_type": "code",
        "colab": {}
      },
      "source": [
        "user_ratings = pd.read_csv(\"/content/drive/My Drive/Colab Notebooks/rating.csv\")"
      ],
      "execution_count": 0,
      "outputs": []
    },
    {
      "cell_type": "code",
      "metadata": {
        "id": "hS7k7lR-X_ng",
        "colab_type": "code",
        "outputId": "53027f86-4277-455d-8ef2-478bb548346f",
        "colab": {
          "base_uri": "https://localhost:8080/",
          "height": 402
        }
      },
      "source": [
        "user_ratings.groupby(user_ratings[\"rating\"]).count()"
      ],
      "execution_count": 27,
      "outputs": [
        {
          "output_type": "execute_result",
          "data": {
            "text/html": [
              "<div>\n",
              "<style scoped>\n",
              "    .dataframe tbody tr th:only-of-type {\n",
              "        vertical-align: middle;\n",
              "    }\n",
              "\n",
              "    .dataframe tbody tr th {\n",
              "        vertical-align: top;\n",
              "    }\n",
              "\n",
              "    .dataframe thead th {\n",
              "        text-align: right;\n",
              "    }\n",
              "</style>\n",
              "<table border=\"1\" class=\"dataframe\">\n",
              "  <thead>\n",
              "    <tr style=\"text-align: right;\">\n",
              "      <th></th>\n",
              "      <th>user_id</th>\n",
              "      <th>anime_id</th>\n",
              "    </tr>\n",
              "    <tr>\n",
              "      <th>rating</th>\n",
              "      <th></th>\n",
              "      <th></th>\n",
              "    </tr>\n",
              "  </thead>\n",
              "  <tbody>\n",
              "    <tr>\n",
              "      <th>-1</th>\n",
              "      <td>1476496</td>\n",
              "      <td>1476496</td>\n",
              "    </tr>\n",
              "    <tr>\n",
              "      <th>1</th>\n",
              "      <td>16649</td>\n",
              "      <td>16649</td>\n",
              "    </tr>\n",
              "    <tr>\n",
              "      <th>2</th>\n",
              "      <td>23150</td>\n",
              "      <td>23150</td>\n",
              "    </tr>\n",
              "    <tr>\n",
              "      <th>3</th>\n",
              "      <td>41453</td>\n",
              "      <td>41453</td>\n",
              "    </tr>\n",
              "    <tr>\n",
              "      <th>4</th>\n",
              "      <td>104291</td>\n",
              "      <td>104291</td>\n",
              "    </tr>\n",
              "    <tr>\n",
              "      <th>5</th>\n",
              "      <td>282806</td>\n",
              "      <td>282806</td>\n",
              "    </tr>\n",
              "    <tr>\n",
              "      <th>6</th>\n",
              "      <td>637775</td>\n",
              "      <td>637775</td>\n",
              "    </tr>\n",
              "    <tr>\n",
              "      <th>7</th>\n",
              "      <td>1375287</td>\n",
              "      <td>1375287</td>\n",
              "    </tr>\n",
              "    <tr>\n",
              "      <th>8</th>\n",
              "      <td>1646019</td>\n",
              "      <td>1646019</td>\n",
              "    </tr>\n",
              "    <tr>\n",
              "      <th>9</th>\n",
              "      <td>1254096</td>\n",
              "      <td>1254096</td>\n",
              "    </tr>\n",
              "    <tr>\n",
              "      <th>10</th>\n",
              "      <td>955715</td>\n",
              "      <td>955715</td>\n",
              "    </tr>\n",
              "  </tbody>\n",
              "</table>\n",
              "</div>"
            ],
            "text/plain": [
              "        user_id  anime_id\n",
              "rating                   \n",
              "-1      1476496   1476496\n",
              " 1        16649     16649\n",
              " 2        23150     23150\n",
              " 3        41453     41453\n",
              " 4       104291    104291\n",
              " 5       282806    282806\n",
              " 6       637775    637775\n",
              " 7      1375287   1375287\n",
              " 8      1646019   1646019\n",
              " 9      1254096   1254096\n",
              " 10      955715    955715"
            ]
          },
          "metadata": {
            "tags": []
          },
          "execution_count": 27
        }
      ]
    },
    {
      "cell_type": "code",
      "metadata": {
        "id": "l-1QTI7uX_nj",
        "colab_type": "code",
        "outputId": "5b8c9c36-9bf4-455b-e9ac-7d6811afed28",
        "colab": {
          "base_uri": "https://localhost:8080/",
          "height": 373
        }
      },
      "source": [
        "# dropping missing ratings\n",
        "user_ratings.drop(user_ratings[user_ratings['rating']==-1].index, axis=0, inplace=True)\n",
        "user_ratings.groupby(user_ratings[\"rating\"]).count()"
      ],
      "execution_count": 28,
      "outputs": [
        {
          "output_type": "execute_result",
          "data": {
            "text/html": [
              "<div>\n",
              "<style scoped>\n",
              "    .dataframe tbody tr th:only-of-type {\n",
              "        vertical-align: middle;\n",
              "    }\n",
              "\n",
              "    .dataframe tbody tr th {\n",
              "        vertical-align: top;\n",
              "    }\n",
              "\n",
              "    .dataframe thead th {\n",
              "        text-align: right;\n",
              "    }\n",
              "</style>\n",
              "<table border=\"1\" class=\"dataframe\">\n",
              "  <thead>\n",
              "    <tr style=\"text-align: right;\">\n",
              "      <th></th>\n",
              "      <th>user_id</th>\n",
              "      <th>anime_id</th>\n",
              "    </tr>\n",
              "    <tr>\n",
              "      <th>rating</th>\n",
              "      <th></th>\n",
              "      <th></th>\n",
              "    </tr>\n",
              "  </thead>\n",
              "  <tbody>\n",
              "    <tr>\n",
              "      <th>1</th>\n",
              "      <td>16649</td>\n",
              "      <td>16649</td>\n",
              "    </tr>\n",
              "    <tr>\n",
              "      <th>2</th>\n",
              "      <td>23150</td>\n",
              "      <td>23150</td>\n",
              "    </tr>\n",
              "    <tr>\n",
              "      <th>3</th>\n",
              "      <td>41453</td>\n",
              "      <td>41453</td>\n",
              "    </tr>\n",
              "    <tr>\n",
              "      <th>4</th>\n",
              "      <td>104291</td>\n",
              "      <td>104291</td>\n",
              "    </tr>\n",
              "    <tr>\n",
              "      <th>5</th>\n",
              "      <td>282806</td>\n",
              "      <td>282806</td>\n",
              "    </tr>\n",
              "    <tr>\n",
              "      <th>6</th>\n",
              "      <td>637775</td>\n",
              "      <td>637775</td>\n",
              "    </tr>\n",
              "    <tr>\n",
              "      <th>7</th>\n",
              "      <td>1375287</td>\n",
              "      <td>1375287</td>\n",
              "    </tr>\n",
              "    <tr>\n",
              "      <th>8</th>\n",
              "      <td>1646019</td>\n",
              "      <td>1646019</td>\n",
              "    </tr>\n",
              "    <tr>\n",
              "      <th>9</th>\n",
              "      <td>1254096</td>\n",
              "      <td>1254096</td>\n",
              "    </tr>\n",
              "    <tr>\n",
              "      <th>10</th>\n",
              "      <td>955715</td>\n",
              "      <td>955715</td>\n",
              "    </tr>\n",
              "  </tbody>\n",
              "</table>\n",
              "</div>"
            ],
            "text/plain": [
              "        user_id  anime_id\n",
              "rating                   \n",
              "1         16649     16649\n",
              "2         23150     23150\n",
              "3         41453     41453\n",
              "4        104291    104291\n",
              "5        282806    282806\n",
              "6        637775    637775\n",
              "7       1375287   1375287\n",
              "8       1646019   1646019\n",
              "9       1254096   1254096\n",
              "10       955715    955715"
            ]
          },
          "metadata": {
            "tags": []
          },
          "execution_count": 28
        }
      ]
    },
    {
      "cell_type": "code",
      "metadata": {
        "id": "SZZGaHRFX_nl",
        "colab_type": "code",
        "colab": {}
      },
      "source": [
        "import random\n",
        "# Using the same test data that is generated in Collaborative filtering for comparing the results\n",
        "def get_test_data():    \n",
        "    \n",
        "    # test_data_users = [36112, 23604, 26867, 30558, 55900, 21256, 40027, 67337, 69934, 61587, 18357, 16907, 57904, 69741, 14220, 37539, 53879, 45611, 50095, 53348, 36318, 8157, 29255, 67689, 57239, 7740, 12496, 27932, 60977, 36703, 8520, 62520, 46291, 41439, 27950, 71103, 70437, 27763, 64931, 49575, 12316, 14039, 13887, 11891, 1133, 58817, 58038, 23077, 6422, 36364]\n",
        "    #test_data_users = [11521, 45871, 70274, 60731, 19653, 21230, 70563, 11163, 35496, 51674, 23249, 15541, 33002, 36471, 28337, 39803, 1432, 24922, 73095, 71949, 37560, 58721, 52680, 17296, 35718, 42575, 68679, 66509, 3485, 32221, 38639, 58334, 10998, 2091, 54514, 40496, 24249, 68323, 35260, 52097, 39764, 48308, 3489, 39302, 67475, 53802, 60389, 68410, 39602, 59321, 403, 71247, 31777, 32379, 47386, 28084, 72261, 4943, 33479, 34479, 37512, 30349, 3332, 27704, 65459, 32112, 62150, 12631, 60859, 57055, 1631, 31091, 39491, 23546, 37900, 14700, 65089, 41681, 46301, 71870, 16658, 12773, 1032, 41447, 60860, 17883, 44579, 46187, 57520, 6088, 7143, 64273, 55373, 2902, 32307, 33449, 18250, 63814, 62592, 67245]\n",
        "    #test_data_users = [11521, 45871, 70274, 60731, 19653, 21230, 70563, 11163, 35496, 51674, 23249, 15541, 33002, 36471, 28337, 39803, 1432, 24922, 73095, 71949, 37560, 58721, 52680, 17296, 35718, 42575, 68679, 66509, 3485]\n",
        "    test_data_users = pd.read_csv(\"/content/drive/My Drive/Colab Notebooks/test_data_user.csv\")\n",
        "    test_data_animes = pd.read_csv(\"/content/drive/My Drive/Colab Notebooks/test_data_animes.csv\")\n",
        "    return test_data_users[\"user_id\"].to_list(), test_data_animes['test_animes'].to_list()"
      ],
      "execution_count": 0,
      "outputs": []
    },
    {
      "cell_type": "code",
      "metadata": {
        "id": "5dVLmIzEX_np",
        "colab_type": "code",
        "colab": {}
      },
      "source": [
        "# Splitting data into train test sets\n",
        "def prepare_data(test_user, test_animes):\n",
        "    training_data = user_ratings.copy(deep=True)\n",
        "    #dropping test data\n",
        "    for user in test_user:       \n",
        "        for anime in training_data.loc[training_data['user_id']==user]['anime_id'].values:\n",
        "            if anime in test_animes:\n",
        "                training_data.loc[training_data['user_id']==user].drop(training_data.loc[training_data['user_id']==user][training_data.loc[training_data['user_id']==user]['anime_id']==anime].index, axis=0, inplace=True)\n",
        "    return training_data"
      ],
      "execution_count": 0,
      "outputs": []
    },
    {
      "cell_type": "code",
      "metadata": {
        "id": "hEGFKceHX_nu",
        "colab_type": "code",
        "outputId": "a1c1f07d-e9ee-4ecc-b223-2322f1060c2b",
        "colab": {
          "base_uri": "https://localhost:8080/",
          "height": 312
        }
      },
      "source": [
        "# create figure and axis\n",
        "fig, ax = plt.subplots()\n",
        "ax.hist(user_ratings['rating'])\n",
        "ax.set_title('Ratings their counts')\n",
        "ax.set_xlabel('Ratings')\n",
        "ax.set_ylabel('Frequency')"
      ],
      "execution_count": 31,
      "outputs": [
        {
          "output_type": "execute_result",
          "data": {
            "text/plain": [
              "Text(0, 0.5, 'Frequency')"
            ]
          },
          "metadata": {
            "tags": []
          },
          "execution_count": 31
        },
        {
          "output_type": "display_data",
          "data": {
            "image/png": "[encoded data removed]",
            "text/plain": [
              "<Figure size 432x288 with 1 Axes>"
            ]
          },
          "metadata": {
            "tags": []
          }
        }
      ]
    },
    {
      "cell_type": "code",
      "metadata": {
        "id": "gJ3ro_fxX_nx",
        "colab_type": "code",
        "colab": {}
      },
      "source": [
        "def create_user_profile(user, train_data):\n",
        "    data = train_data.loc[train_data['user_id']==user]\n",
        "    mean = data.mean()['rating']\n",
        "    # data['likeness'] = 0\n",
        "    data = data.assign(likeness=0)\n",
        "    data.loc[:, \"likeness\"] = data.loc[:, \"rating\"] - mean\n",
        "    \n",
        "    # creating user table for all the movies rated by him/her    \n",
        "    user_prof = pd.DataFrame(columns=tf['words'])\n",
        "\n",
        "    # in case user has no ratings\n",
        "    if len(data['anime_id']) == 0:\n",
        "        dict_ = dict.fromkeys(tf['words'], 0)\n",
        "        user_prof = user_prof.append(dict_, ignore_index=True)\n",
        "        user_profile = []\n",
        "        for col in user_prof.columns:\n",
        "            user_profile.append(0)\n",
        "        return user_profile, data\n",
        "    \n",
        "    for id in data['anime_id']:\n",
        "        if df.loc[df['anime_id']==id].shape[0] > 0:\n",
        "            dict_ = dict.fromkeys(tf['words'], 0)\n",
        "            for word in df.loc[df['anime_id']==id]['bag_of_words'].values[0].split(', '):            \n",
        "                dict_[word] = (1/len(df.loc[df['anime_id']==id]['bag_of_words'].values[0].split(', '))) * idf[word]\n",
        "            user_prof = user_prof.append(dict_, ignore_index=True)\n",
        "        else :\n",
        "            dict_ = dict.fromkeys(tf['words'], 0)            \n",
        "            user_prof = user_prof.append(dict_, ignore_index=True)\n",
        "\n",
        "    # Creating user prfile by doing weighted sum of the attributes he/she has rated\n",
        "    user_profile = []\n",
        "    for col in user_prof.columns:\n",
        "        user_profile.append(user_prof[col] @ data['likeness'].values)\n",
        "    return user_profile, data"
      ],
      "execution_count": 0,
      "outputs": []
    },
    {
      "cell_type": "code",
      "metadata": {
        "id": "ZeEkgle4X_nz",
        "colab_type": "code",
        "colab": {}
      },
      "source": [
        "def evaluation_metrics(cosine_sim_, user, test_animes):\n",
        "    data = user_ratings.loc[user_ratings['user_id']==user]\n",
        "    \n",
        "    # shifting the rating with center at zero\n",
        "    mean = data.mean()['rating']\n",
        "    # data['likeness'] = 0\n",
        "    data = data.assign(likeness=0)\n",
        "    data.loc[:, \"likeness\"] = data.loc[:, \"rating\"] - mean\n",
        "\n",
        "    predicted_likeness = {}\n",
        "    for x in data[\"anime_id\"]:\n",
        "        if x in test_animes:\n",
        "            predicted_likeness[x] = cosine_sim_[0][df.loc[df['anime_id']==x].index[0]]\n",
        "    true_pos = 0\n",
        "    true_neg = 0\n",
        "    false_pos = 0\n",
        "    false_neg = 0\n",
        "    threshold = 0\n",
        "    for x in predicted_likeness.keys():\n",
        "        predic = predicted_likeness[x]\n",
        "        actual = data.loc[data[\"anime_id\"]==x, 'likeness'].values[0]\n",
        "        if predic >= threshold and actual >= 0:\n",
        "            true_pos += 1\n",
        "        elif predic >= threshold and actual < 0:\n",
        "            false_pos += 1\n",
        "        elif predic < threshold and actual >= 0:\n",
        "            false_neg += 1\n",
        "        else:\n",
        "            true_neg += 1\n",
        "    return true_pos, true_neg, false_pos, false_neg"
      ],
      "execution_count": 0,
      "outputs": []
    },
    {
      "cell_type": "code",
      "metadata": {
        "id": "XIzu8aq-2_f_",
        "colab_type": "code",
        "colab": {}
      },
      "source": [
        "def result(true_pos, true_neg, false_pos, false_neg):\n",
        "    print(\"-------------------------------------------Evaluation--------------------------------------------\")\n",
        "    print(\"true_pos : \"+ str(true_pos) +\"\\ntrue_neg : \"+str(true_neg)+\"\\nfalse_pos : \"+ str(false_pos) +\"\\nfalse_neg : \"+ str(false_neg) +\"\\n\")\n",
        "    precision = true_pos/(true_pos + false_pos)\n",
        "    recall = true_pos/(true_pos + false_neg)\n",
        "    accuracy = (true_pos + true_neg)/(true_pos + false_neg + true_neg + false_pos)\n",
        "    print(\"Precision : \"+str(precision*100) + \"\\nRecall : \"+str(recall*100)+\"\\nAccuracy : \"+str(accuracy*100))"
      ],
      "execution_count": 0,
      "outputs": []
    },
    {
      "cell_type": "code",
      "metadata": {
        "id": "gksC0fRBX_n7",
        "colab_type": "code",
        "colab": {}
      },
      "source": [
        "def start(test_user, test_animes, training_data):\n",
        "    true_pos = 0\n",
        "    true_neg = 0\n",
        "    false_pos = 0\n",
        "    false_neg = 0\n",
        "    counter = 0\n",
        "    for user in test_user:\n",
        "        user_profile, data = create_user_profile(user, training_data)\n",
        "        user_prof = np.asarray(user_profile)\n",
        "        user_prof = user_prof.reshape(-1, 51)\n",
        "        #print(user)\n",
        "        #index, cosine_sim_user = recommendation_with_user_profile(user_prof)\n",
        "        cosine_sim_user = cosine_similarity(user_prof, tff)\n",
        "        tp, tn, fp, fn = evaluation_metrics(cosine_sim_user, user, test_animes)\n",
        "        true_pos += tp\n",
        "        true_neg += tn\n",
        "        false_pos += fp\n",
        "        false_neg += fn\n",
        "        #print(tp)\n",
        "        counter += 1\n",
        "        if counter%100 == 0:\n",
        "            print(\"User done: \"+ str(counter))\n",
        "    result(true_pos, true_neg, false_pos, false_neg)\n",
        "    return true_pos, true_neg, false_pos, false_neg"
      ],
      "execution_count": 0,
      "outputs": []
    },
    {
      "cell_type": "code",
      "metadata": {
        "id": "34kDblHxBc4q",
        "colab_type": "code",
        "outputId": "d2bf778e-80c5-4cbf-a18d-f1a327ba4b02",
        "colab": {
          "base_uri": "https://localhost:8080/",
          "height": 134
        }
      },
      "source": [
        "test_user, test_animes= get_test_data()\n",
        "print(len(test_user))\n",
        "print(len(test_animes))\n",
        "training_data = prepare_data(test_user, test_animes)"
      ],
      "execution_count": 46,
      "outputs": [
        {
          "output_type": "stream",
          "text": [
            "995\n",
            "3304\n"
          ],
          "name": "stdout"
        },
        {
          "output_type": "stream",
          "text": [
            "/usr/local/lib/python3.6/dist-packages/pandas/core/frame.py:3997: SettingWithCopyWarning: \n",
            "A value is trying to be set on a copy of a slice from a DataFrame\n",
            "\n",
            "See the caveats in the documentation: https://pandas.pydata.org/pandas-docs/stable/user_guide/indexing.html#returning-a-view-versus-a-copy\n",
            "  errors=errors,\n"
          ],
          "name": "stderr"
        }
      ]
    },
    {
      "cell_type": "code",
      "metadata": {
        "id": "O1XiaAkJBZ6Y",
        "colab_type": "code",
        "colab": {}
      },
      "source": [
        "true_pos, true_neg, false_pos, false_neg = start(test_user, test_animes, training_data)"
      ],
      "execution_count": 0,
      "outputs": []
    },
    {
      "cell_type": "code",
      "metadata": {
        "id": "ZmkkgwTfzVSV",
        "colab_type": "code",
        "outputId": "de039fd7-2fae-464e-da52-854cb1cf64dd",
        "colab": {
          "base_uri": "https://localhost:8080/",
          "height": 168
        }
      },
      "source": [
        "result(true_pos, true_neg, false_pos, false_neg)\n"
      ],
      "execution_count": 60,
      "outputs": [
        {
          "output_type": "stream",
          "text": [
            "-------------------------------------------Evaluation--------------------------------------------\n",
            "true_pos : 893\n",
            "true_neg : 933\n",
            "false_pos : 415\n",
            "false_neg : 509\n",
            "\n",
            "Precision : 68.27217125382263\n",
            "Recall : 63.69472182596291\n",
            "Accuracy : 66.4\n"
          ],
          "name": "stdout"
        }
      ]
    },
    {
      "cell_type": "code",
      "metadata": {
        "id": "wixLcoGrX_oB",
        "colab_type": "code",
        "outputId": "77c89dbc-f05d-48a3-f6e0-00404fc5f87f",
        "colab": {
          "base_uri": "https://localhost:8080/",
          "height": 360
        }
      },
      "source": [
        "# recommender function\n",
        "def recommendation_with_user_profile(user):\n",
        "    user_profile, data = create_user_profile(user, user_ratings)\n",
        "    # Reshaping the array\n",
        "    user_prof = np.asarray(user_profile)\n",
        "    user_prof = user_prof.reshape(-1, 51)\n",
        "    cosine_sim_user = cosine_similarity(user_prof, tff)\n",
        "    ind = np.argpartition(cosine_sim_user[0], -10)[-10:]\n",
        "    ind = ind[np.argsort(cosine_sim_user[0][ind])]    \n",
        "    return ind, cosine_sim_user\n",
        "\n",
        "index, cosine_sim_user = recommendation_with_user_profile(3)\n",
        "print(\"Recommending movies for user \"+ str(3))\n",
        "df[['anime_id', 'name', 'genre', 'type']].loc[index]"
      ],
      "execution_count": 65,
      "outputs": [
        {
          "output_type": "stream",
          "text": [
            "Recommending movies for user 3\n"
          ],
          "name": "stdout"
        },
        {
          "output_type": "execute_result",
          "data": {
            "text/html": [
              "<div>\n",
              "<style scoped>\n",
              "    .dataframe tbody tr th:only-of-type {\n",
              "        vertical-align: middle;\n",
              "    }\n",
              "\n",
              "    .dataframe tbody tr th {\n",
              "        vertical-align: top;\n",
              "    }\n",
              "\n",
              "    .dataframe thead th {\n",
              "        text-align: right;\n",
              "    }\n",
              "</style>\n",
              "<table border=\"1\" class=\"dataframe\">\n",
              "  <thead>\n",
              "    <tr style=\"text-align: right;\">\n",
              "      <th></th>\n",
              "      <th>anime_id</th>\n",
              "      <th>name</th>\n",
              "      <th>genre</th>\n",
              "      <th>type</th>\n",
              "    </tr>\n",
              "  </thead>\n",
              "  <tbody>\n",
              "    <tr>\n",
              "      <th>122</th>\n",
              "      <td>11771</td>\n",
              "      <td>Kuroko no Basket</td>\n",
              "      <td>comedy, school, shounen, sports</td>\n",
              "      <td>TV</td>\n",
              "    </tr>\n",
              "    <tr>\n",
              "      <th>3536</th>\n",
              "      <td>20473</td>\n",
              "      <td>Teekyuu 3</td>\n",
              "      <td>comedy, school, shounen, sports</td>\n",
              "      <td>TV</td>\n",
              "    </tr>\n",
              "    <tr>\n",
              "      <th>4261</th>\n",
              "      <td>15125</td>\n",
              "      <td>Teekyuu</td>\n",
              "      <td>comedy, school, shounen, sports</td>\n",
              "      <td>TV</td>\n",
              "    </tr>\n",
              "    <tr>\n",
              "      <th>254</th>\n",
              "      <td>18689</td>\n",
              "      <td>Diamond no Ace</td>\n",
              "      <td>comedy, school, shounen, sports</td>\n",
              "      <td>TV</td>\n",
              "    </tr>\n",
              "    <tr>\n",
              "      <th>3710</th>\n",
              "      <td>18121</td>\n",
              "      <td>Teekyuu 2</td>\n",
              "      <td>comedy, school, shounen, sports</td>\n",
              "      <td>TV</td>\n",
              "    </tr>\n",
              "    <tr>\n",
              "      <th>58</th>\n",
              "      <td>24415</td>\n",
              "      <td>Kuroko no Basket 3rd Season</td>\n",
              "      <td>comedy, school, shounen, sports</td>\n",
              "      <td>TV</td>\n",
              "    </tr>\n",
              "    <tr>\n",
              "      <th>100</th>\n",
              "      <td>30230</td>\n",
              "      <td>Diamond no Ace: Second Season</td>\n",
              "      <td>comedy, school, shounen, sports</td>\n",
              "      <td>TV</td>\n",
              "    </tr>\n",
              "    <tr>\n",
              "      <th>11038</th>\n",
              "      <td>31422</td>\n",
              "      <td>Minami Kamakura Koukou Joshi Jitensha-bu</td>\n",
              "      <td>school, shounen, sports</td>\n",
              "      <td>TV</td>\n",
              "    </tr>\n",
              "    <tr>\n",
              "      <th>3050</th>\n",
              "      <td>32494</td>\n",
              "      <td>Days (TV)</td>\n",
              "      <td>school, shounen, sports</td>\n",
              "      <td>TV</td>\n",
              "    </tr>\n",
              "    <tr>\n",
              "      <th>1484</th>\n",
              "      <td>183</td>\n",
              "      <td>Whistle!</td>\n",
              "      <td>school, shounen, sports</td>\n",
              "      <td>TV</td>\n",
              "    </tr>\n",
              "  </tbody>\n",
              "</table>\n",
              "</div>"
            ],
            "text/plain": [
              "       anime_id  ... type\n",
              "122       11771  ...   TV\n",
              "3536      20473  ...   TV\n",
              "4261      15125  ...   TV\n",
              "254       18689  ...   TV\n",
              "3710      18121  ...   TV\n",
              "58        24415  ...   TV\n",
              "100       30230  ...   TV\n",
              "11038     31422  ...   TV\n",
              "3050      32494  ...   TV\n",
              "1484        183  ...   TV\n",
              "\n",
              "[10 rows x 4 columns]"
            ]
          },
          "metadata": {
            "tags": []
          },
          "execution_count": 65
        }
      ]
    }
  ]
}