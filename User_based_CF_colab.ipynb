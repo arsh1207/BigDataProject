{
  "nbformat": 4,
  "nbformat_minor": 0,
  "metadata": {
    "kernelspec": {
      "display_name": "Python 3",
      "language": "python",
      "name": "python3"
    },
    "language_info": {
      "codemirror_mode": {
        "name": "ipython",
        "version": 3
      },
      "file_extension": ".py",
      "mimetype": "text/x-python",
      "name": "python",
      "nbconvert_exporter": "python",
      "pygments_lexer": "ipython3",
      "version": "3.5.6"
    },
    "colab": {
      "name": "User_based_CF_colab.ipynb",
      "provenance": [],
      "collapsed_sections": [],
      "include_colab_link": true
    }
  },
  "cells": [
    {
      "cell_type": "markdown",
      "metadata": {
        "id": "view-in-github",
        "colab_type": "text"
      },
      "source": [
        "<a href=\"https://colab.research.google.com/github/arsh1207/BigDataProject/blob/master/User_based_CF_colab.ipynb\" target=\"_parent\"><img src=\"https://colab.research.google.com/assets/colab-badge.svg\" alt=\"Open In Colab\"/></a>"
      ]
    },
    {
      "cell_type": "code",
      "metadata": {
        "id": "Xowopr87Tg7p",
        "colab_type": "code",
        "colab": {}
      },
      "source": [
        "from pyspark.rdd import RDD\n",
        "from pyspark.sql import Row\n",
        "from pyspark.sql import DataFrame\n",
        "from pyspark.sql import SparkSession\n",
        "import numpy as np\n",
        "import pandas as pd\n",
        "#import matplotlib.pyplot as plt\n",
        "import dask.array as da\n",
        "from numpy import cov\n",
        "from numpy import std\n",
        "from sklearn.metrics.pairwise import cosine_similarity\n",
        "import random\n",
        "import math"
      ],
      "execution_count": 0,
      "outputs": []
    },
    {
      "cell_type": "code",
      "metadata": {
        "id": "E_8sqoQcUN-4",
        "colab_type": "code",
        "colab": {}
      },
      "source": [
        "!apt-get install openjdk-8-jdk-headless -qq > /dev/null\n",
        "!wget -q https://downloads.apache.org/spark/spark-3.0.0-preview2/spark-3.0.0-preview2-bin-hadoop2.7.tgz\n",
        "!tar -xvf spark-3.0.0-preview2-bin-hadoop2.7.tgz\n",
        "!pip install -q findspark"
      ],
      "execution_count": 0,
      "outputs": []
    },
    {
      "cell_type": "code",
      "metadata": {
        "id": "IvtYUkf-UWB0",
        "colab_type": "code",
        "colab": {}
      },
      "source": [
        "import os\n",
        "os.environ[\"JAVA_HOME\"] = \"/usr/lib/jvm/java-8-openjdk-amd64\"\n",
        "os.environ[\"SPARK_HOME\"] = \"/content/spark-3.0.0-preview2-bin-hadoop2.7\""
      ],
      "execution_count": 0,
      "outputs": []
    },
    {
      "cell_type": "code",
      "metadata": {
        "id": "fgyVaPM2UjsD",
        "colab_type": "code",
        "colab": {}
      },
      "source": [
        "import findspark\n",
        "findspark.init()\n",
        "from pyspark.sql import SparkSession\n",
        "spark = SparkSession.builder.master(\"local[*]\").getOrCreate()"
      ],
      "execution_count": 0,
      "outputs": []
    },
    {
      "cell_type": "markdown",
      "metadata": {
        "id": "xGrUdYsMTg7x",
        "colab_type": "text"
      },
      "source": [
        "# User User based Collaborative filtering"
      ]
    },
    {
      "cell_type": "code",
      "metadata": {
        "id": "0odGD6UmTg7z",
        "colab_type": "code",
        "colab": {}
      },
      "source": [
        "def init_spark():\n",
        "    spark = SparkSession \\\n",
        "        .builder \\\n",
        "        .config(\"spark.driver.memory\", \"15g\") \\\n",
        "        .appName(\"Python Spark SQL basic example\") \\\n",
        "        .config(\"spark.some.config.option\", \"some-value\") \\\n",
        "        .getOrCreate()\n",
        "    return spark"
      ],
      "execution_count": 0,
      "outputs": []
    },
    {
      "cell_type": "code",
      "metadata": {
        "id": "UeVsJTHvTg76",
        "colab_type": "code",
        "colab": {}
      },
      "source": [
        "spark = init_spark()"
      ],
      "execution_count": 0,
      "outputs": []
    },
    {
      "cell_type": "code",
      "metadata": {
        "id": "4GCd-Vl2Yovl",
        "colab_type": "code",
        "colab": {
          "base_uri": "https://localhost:8080/",
          "height": 121
        },
        "outputId": "0172c3c0-e9bb-42ec-f534-2102ed72b0ae"
      },
      "source": [
        "from google.colab import drive\n",
        "drive.mount('/content/drive')"
      ],
      "execution_count": 8,
      "outputs": [
        {
          "output_type": "stream",
          "text": [
            "Go to this URL in a browser: https://accounts.google.com/o/oauth2/auth?client_id=947318989803-6bn6qk8qdgf4n4g3pfee6491hc0brc4i.apps.googleusercontent.com&redirect_uri=urn%3aietf%3awg%3aoauth%3a2.0%3aoob&response_type=code&scope=email%20https%3a%2f%2fwww.googleapis.com%2fauth%2fdocs.test%20https%3a%2f%2fwww.googleapis.com%2fauth%2fdrive%20https%3a%2f%2fwww.googleapis.com%2fauth%2fdrive.photos.readonly%20https%3a%2f%2fwww.googleapis.com%2fauth%2fpeopleapi.readonly\n",
            "\n",
            "Enter your authorization code:\n",
            "··········\n",
            "Mounted at /content/drive\n"
          ],
          "name": "stdout"
        }
      ]
    },
    {
      "cell_type": "code",
      "metadata": {
        "id": "rB7F6PbGZEUM",
        "colab_type": "code",
        "colab": {
          "base_uri": "https://localhost:8080/",
          "height": 151
        },
        "outputId": "9453e822-4b2f-484a-d5d4-8bbe2f067cf1"
      },
      "source": [
        "!ls \"/content/drive/My Drive/Colab Notebooks\""
      ],
      "execution_count": 21,
      "outputs": [
        {
          "output_type": "stream",
          "text": [
            " anime.csv\n",
            " Bike_Sharing.ipynb\n",
            " Classifier_Interpretability_Project.ipynb\n",
            "'Copy of Part1_TensorFlow.ipynb'\n",
            "'Copy of Part2_Music_Generation.ipynb'\n",
            " rating.csv\n",
            " Untitled0.ipynb\n",
            " User_based_CF.ipynb\n"
          ],
          "name": "stdout"
        }
      ]
    },
    {
      "cell_type": "code",
      "metadata": {
        "id": "VDVL6oJmTg8D",
        "colab_type": "code",
        "colab": {}
      },
      "source": [
        "# Reading Data from anime.csv\n",
        "df2 = pd.read_csv('/content/drive/My Drive/Colab Notebooks/anime.csv')"
      ],
      "execution_count": 0,
      "outputs": []
    },
    {
      "cell_type": "code",
      "metadata": {
        "id": "_pgF4UumTg8J",
        "colab_type": "code",
        "colab": {}
      },
      "source": [
        "# Redaing from rating.csv and transforming data\n",
        "df = spark.read.text(\"/content/drive/My Drive/Colab Notebooks/rating.csv\").rdd\n",
        "data = df.map(lambda x: x[0].split(','))\n",
        "data2 = data.groupBy(lambda x : x[0])"
      ],
      "execution_count": 0,
      "outputs": []
    },
    {
      "cell_type": "code",
      "metadata": {
        "id": "OcHDxQ8KTg8P",
        "colab_type": "code",
        "colab": {}
      },
      "source": [
        "data3 = data2.collect()"
      ],
      "execution_count": 0,
      "outputs": []
    },
    {
      "cell_type": "code",
      "metadata": {
        "id": "zhS_4tl5Tg8V",
        "colab_type": "code",
        "colab": {}
      },
      "source": [
        "# Preparing data : a dictionary utility = {users: {anime : ratings}}\n",
        "utility = {}\n",
        "all_animes = []\n",
        "all_users = []\n",
        "for user in range(len(data3)):\n",
        "    if data3[user][0] == 'user_id':\n",
        "        continue\n",
        "    utility[int(data3[user][0])] = {}\n",
        "    #if int(data3[user][0]) not in all_users:\n",
        "    #    all_users.append(int(i[0]))\n",
        "    for i in data3[user][1]:        \n",
        "        if int(i[1]) not in all_animes:\n",
        "            all_animes.append(int(i[1]))\n",
        "        if int(i[2]) == -1:\n",
        "            continue            \n",
        "        utility[int(i[0])][int(i[1])] = int(i[2])"
      ],
      "execution_count": 0,
      "outputs": []
    },
    {
      "cell_type": "code",
      "metadata": {
        "id": "EE_3QKf-Tg8c",
        "colab_type": "code",
        "colab": {}
      },
      "source": [
        "utility"
      ],
      "execution_count": 0,
      "outputs": []
    },
    {
      "cell_type": "code",
      "metadata": {
        "id": "0Ij9z_PyTg8w",
        "colab_type": "code",
        "colab": {}
      },
      "source": [
        "all_users = list(utility.keys())"
      ],
      "execution_count": 0,
      "outputs": []
    },
    {
      "cell_type": "code",
      "metadata": {
        "id": "-rHFTy29Tg81",
        "colab_type": "code",
        "colab": {}
      },
      "source": [
        "del data3"
      ],
      "execution_count": 0,
      "outputs": []
    },
    {
      "cell_type": "code",
      "metadata": {
        "id": "I4HbXto9Tg85",
        "colab_type": "code",
        "colab": {},
        "outputId": "210dbc55-25a9-4940-b61e-08adb1793022"
      },
      "source": [
        "import gc\n",
        "gc.collect()"
      ],
      "execution_count": 0,
      "outputs": [
        {
          "output_type": "execute_result",
          "data": {
            "text/plain": [
              "80"
            ]
          },
          "metadata": {
            "tags": []
          },
          "execution_count": 1
        }
      ]
    },
    {
      "cell_type": "code",
      "metadata": {
        "id": "E7yJYzddTg8_",
        "colab_type": "code",
        "colab": {}
      },
      "source": [
        "def sim2(matrix, user1, user2):\n",
        "    #This method returns the similarity between two users\n",
        "    #It uses Pearson Correlation Coefficient for similarity calculation\n",
        "    matched = []\n",
        "    for anime in matrix[user1].keys():\n",
        "        if anime in matrix[user2].keys():\n",
        "            matched.append(anime) \n",
        "    x = []\n",
        "    y = []    \n",
        "    for anime in matched:\n",
        "        x.append(matrix[user1][anime])\n",
        "        y.append(matrix[user2][anime])        \n",
        "\n",
        "    f = (lambda i, j: i - j)\n",
        "    x = f(x, np.mean(x))\n",
        "    y = f(y, np.mean(y))\n",
        "    # Pearson Correlation Coefficient formula below\n",
        "    numerator = (lambda x, y : x*y)\n",
        "    denominator = (lambda x: x*x)\n",
        "    d = math.sqrt(sum(denominator(x))) * math.sqrt(sum(denominator(y)))\n",
        "    if d == 0:\n",
        "        return 0\n",
        "    similarity = sum(numerator(x, y))/ d\n",
        "    return similarity"
      ],
      "execution_count": 0,
      "outputs": []
    },
    {
      "cell_type": "code",
      "metadata": {
        "id": "bc7LAzFyTg9C",
        "colab_type": "code",
        "colab": {}
      },
      "source": [
        "def most_similar_user(matrix, user, n=500):\n",
        "    # This method returna a list of n most similar users\n",
        "    similarity = {}\n",
        "    for p in matrix.keys():\n",
        "        similarity[p] = sim2(matrix, user, p)\n",
        "    sorted_list = sorted(similarity.items(), key = lambda kv:(kv[1], kv[0]))\n",
        "    return sorted_list[-n:]     "
      ],
      "execution_count": 0,
      "outputs": []
    },
    {
      "cell_type": "code",
      "metadata": {
        "id": "i4EQesQ0Tg9E",
        "colab_type": "code",
        "colab": {}
      },
      "source": [
        "def recommend(matrix, user):\n",
        "    # this method returns the predictions wrt most similar users\n",
        "    similar_users = most_similar_user(matrix, user)\n",
        "    predictions = {}\n",
        "    for anime in all_animes:\n",
        "        num = 0\n",
        "        den = 0\n",
        "        for user_ in similar_users:\n",
        "            if anime in matrix[user_[0]].keys():\n",
        "                num += matrix[user_[0]][anime] * user_[1]\n",
        "                den += user_[1]\n",
        "        if den == 0:\n",
        "            continue\n",
        "        #print(matrix[user[0]])\n",
        "        #if anime in matrix[user[0]].keys():\n",
        "        predictions[anime] = float(num/den)\n",
        "    return predictions"
      ],
      "execution_count": 0,
      "outputs": []
    },
    {
      "cell_type": "code",
      "metadata": {
        "id": "PjYdaa1-Tg9I",
        "colab_type": "code",
        "colab": {}
      },
      "source": [
        "# Creating Test data of randomly selecting 50 users\n",
        "test= int(0.05 * len(all_users))\n",
        "test_data_user = []\n",
        "for _ in range(50):\n",
        "    random_user = random.randint(1, len(all_users))\n",
        "    if all_users[random_user] not in test_data_user:\n",
        "        test_data_user.append(all_users[random_user])"
      ],
      "execution_count": 0,
      "outputs": []
    },
    {
      "cell_type": "code",
      "metadata": {
        "id": "kxbgWhrZTg9K",
        "colab_type": "code",
        "colab": {}
      },
      "source": [
        "# Creating test data of ramdomly selecting 30% of the total animes list\n",
        "test_animes = int(0.3 * len(all_animes))\n",
        "test_data_animes = []\n",
        "for _ in range(test_animes):\n",
        "    random_anime = random.randint(1, len(all_animes))\n",
        "    if all_animes[random_anime] not in test_data_animes:\n",
        "        test_data_animes.append(all_users[random_anime])"
      ],
      "execution_count": 0,
      "outputs": []
    },
    {
      "cell_type": "code",
      "metadata": {
        "id": "dmpet1-ZTg9N",
        "colab_type": "code",
        "colab": {}
      },
      "source": [
        "# making a deep copy of the data \n",
        "import copy\n",
        "training_data = copy.deepcopy(utility)"
      ],
      "execution_count": 0,
      "outputs": []
    },
    {
      "cell_type": "code",
      "metadata": {
        "id": "hbfp-McwTg9P",
        "colab_type": "code",
        "colab": {}
      },
      "source": [
        "#Creating training data by deleting the test data from the original data\n",
        "for user in test_data_user:\n",
        "    for anime in test_data_animes:\n",
        "        if anime in training_data[user].keys():        \n",
        "            del training_data[user][anime]                        "
      ],
      "execution_count": 0,
      "outputs": []
    },
    {
      "cell_type": "code",
      "metadata": {
        "id": "22nE7fb8Tg9S",
        "colab_type": "code",
        "colab": {}
      },
      "source": [
        "def start():\n",
        "    predicted = {}\n",
        "    for user in test_data_user:\n",
        "        predicted[user] = recommend(training_data, user)\n",
        "        print(user)\n",
        "    return predicted"
      ],
      "execution_count": 0,
      "outputs": []
    },
    {
      "cell_type": "code",
      "metadata": {
        "id": "JSWuEVQATg9U",
        "colab_type": "code",
        "colab": {
          "base_uri": "https://localhost:8080/",
          "height": 924
        },
        "outputId": "fb295dce-d3d5-43ff-8028-7081ffd25dce"
      },
      "source": [
        "predicted1 = start()"
      ],
      "execution_count": 63,
      "outputs": [
        {
          "output_type": "stream",
          "text": [
            "/usr/local/lib/python3.6/dist-packages/numpy/core/fromnumeric.py:3335: RuntimeWarning: Mean of empty slice.\n",
            "  out=out, **kwargs)\n",
            "/usr/local/lib/python3.6/dist-packages/numpy/core/_methods.py:161: RuntimeWarning: invalid value encountered in double_scalars\n",
            "  ret = ret.dtype.type(ret / rcount)\n"
          ],
          "name": "stderr"
        },
        {
          "output_type": "stream",
          "text": [
            "67748\n",
            "65659\n",
            "51644\n",
            "61196\n",
            "6201\n",
            "28697\n",
            "62818\n",
            "51042\n",
            "9727\n",
            "44058\n",
            "25878\n",
            "2029\n",
            "5897\n",
            "8921\n",
            "32657\n",
            "70750\n",
            "31461\n",
            "62316\n",
            "43756\n",
            "34870\n",
            "12697\n",
            "51812\n",
            "34802\n",
            "60325\n",
            "47140\n",
            "65640\n",
            "12233\n",
            "62644\n",
            "62319\n",
            "10282\n",
            "21022\n",
            "70060\n",
            "55748\n",
            "48533\n",
            "12581\n",
            "35971\n",
            "40629\n",
            "10457\n",
            "35554\n",
            "72520\n",
            "25475\n",
            "39907\n",
            "51140\n",
            "37903\n",
            "61457\n",
            "51133\n",
            "2236\n",
            "7820\n",
            "67670\n",
            "30751\n"
          ],
          "name": "stdout"
        }
      ]
    },
    {
      "cell_type": "code",
      "metadata": {
        "id": "7_MNfwzMebmn",
        "colab_type": "code",
        "colab": {}
      },
      "source": [
        "def RMSE(actual, predicted):\n",
        "    error = 0\n",
        "    n = 0\n",
        "    for user in test_data_user:\n",
        "        for anime in test_data_animes:\n",
        "            if anime in predicted[user].keys() and anime in actual[user].keys():\n",
        "                error += (actual[user][anime] - predicted[user][anime])**2\n",
        "                n += 1\n",
        "    return math.sqrt(error/n)"
      ],
      "execution_count": 0,
      "outputs": []
    },
    {
      "cell_type": "code",
      "metadata": {
        "id": "48bIxxqpTg9Y",
        "colab_type": "code",
        "colab": {
          "base_uri": "https://localhost:8080/",
          "height": 34
        },
        "outputId": "14bfa088-2790-4540-aef3-9dd4547f77c7"
      },
      "source": [
        "RMSE(utility, predicted1)"
      ],
      "execution_count": 65,
      "outputs": [
        {
          "output_type": "execute_result",
          "data": {
            "text/plain": [
              "2.0913927814953595"
            ]
          },
          "metadata": {
            "tags": []
          },
          "execution_count": 65
        }
      ]
    },
    {
      "cell_type": "markdown",
      "metadata": {
        "id": "Sm9othsPTg9a",
        "colab_type": "text"
      },
      "source": [
        "## Applying the common practice "
      ]
    },
    {
      "cell_type": "code",
      "metadata": {
        "id": "Ia7tKJjvejXr",
        "colab_type": "code",
        "colab": {}
      },
      "source": [
        "avg_rating_of_user = {}\n",
        "global_avg = 0\n",
        "counter = 0\n",
        "for user in all_users:\n",
        "    count = 0\n",
        "    summ = 0\n",
        "    for anime in utility[user].keys():\n",
        "        summ += utility[user][anime]\n",
        "        count += 1\n",
        "        global_avg += utility[user][anime]\n",
        "        counter += 1\n",
        "    if count != 0:\n",
        "        avg_rating_of_user[user] = summ/count\n",
        "    else:\n",
        "        avg_rating_of_user[user] = 0\n",
        "global_avg = global_avg/counter"
      ],
      "execution_count": 0,
      "outputs": []
    },
    {
      "cell_type": "code",
      "metadata": {
        "id": "FllfdC11xsbi",
        "colab_type": "code",
        "colab": {
          "base_uri": "https://localhost:8080/",
          "height": 34
        },
        "outputId": "7b4558fd-0755-4641-aa9e-1339c5577ade"
      },
      "source": [
        "global_avg"
      ],
      "execution_count": 27,
      "outputs": [
        {
          "output_type": "execute_result",
          "data": {
            "text/plain": [
              "7.808496893124035"
            ]
          },
          "metadata": {
            "tags": []
          },
          "execution_count": 27
        }
      ]
    },
    {
      "cell_type": "code",
      "metadata": {
        "id": "LPkEIt_ITg9a",
        "colab_type": "code",
        "colab": {}
      },
      "source": [
        "avg_rating_of_animes = {}\n",
        "for anime in all_animes:\n",
        "    count = 0\n",
        "    summ = 0\n",
        "    for user in all_users:\n",
        "        if anime in utility[user].keys():\n",
        "            summ += utility[user][anime]\n",
        "            count += 1\n",
        "    if count != 0:\n",
        "        avg_rating_of_animes[anime] = summ/count\n",
        "    else:\n",
        "        avg_rating_of_animes[anime] = 0\n",
        "    "
      ],
      "execution_count": 0,
      "outputs": []
    },
    {
      "cell_type": "code",
      "metadata": {
        "id": "bG5HBMNXTg9c",
        "colab_type": "code",
        "colab": {}
      },
      "source": [
        "def recommend_with_regularization(matrix, user):\n",
        "    # this method returns the predictions wrt most similar users\n",
        "    similar_users = most_similar_user(matrix, user)\n",
        "    predictions = {}\n",
        "    for anime in all_animes:\n",
        "        num = 0\n",
        "        den = 0\n",
        "        for user_ in similar_users:\n",
        "            if anime in matrix[user_[0]].keys():\n",
        "                b_xj = global_avg + (avg_rating_of_user[user_[0]] - global_avg) + (avg_rating_of_animes[anime]- global_avg)\n",
        "                num += (matrix[user_[0]][anime]- b_xj) * user_[1]\n",
        "                den += user_[1]\n",
        "        if den == 0:\n",
        "            continue\n",
        "        # if anime in matrix[user[0]].keys():\n",
        "        b_xi = global_avg + (avg_rating_of_user[user] - global_avg) + (avg_rating_of_animes[anime] - global_avg)\n",
        "        if b_xi + float(num/den) > 10:\n",
        "            predictions[anime] = 10\n",
        "        else:\n",
        "            predictions[anime] = b_xi + float(num/den)\n",
        "    return predictions"
      ],
      "execution_count": 0,
      "outputs": []
    },
    {
      "cell_type": "code",
      "metadata": {
        "id": "STh55fT6i1SC",
        "colab_type": "code",
        "colab": {}
      },
      "source": [
        "def start2():\n",
        "    predicted = {}\n",
        "    for user in test_data_user:\n",
        "        predicted[user] = recommend_with_regularization(training_data, user)\n",
        "        print(user)\n",
        "    return predicted"
      ],
      "execution_count": 0,
      "outputs": []
    },
    {
      "cell_type": "code",
      "metadata": {
        "id": "Gml1p5KW1FBs",
        "colab_type": "code",
        "colab": {}
      },
      "source": [
        "recommend_with_regularization(training_data, 3)"
      ],
      "execution_count": 0,
      "outputs": []
    },
    {
      "cell_type": "code",
      "metadata": {
        "id": "STNGR_TEkout",
        "colab_type": "code",
        "colab": {
          "base_uri": "https://localhost:8080/",
          "height": 924
        },
        "outputId": "683553be-2694-4e4a-9d2b-668d01c810d8"
      },
      "source": [
        "predicted = start2()"
      ],
      "execution_count": 82,
      "outputs": [
        {
          "output_type": "stream",
          "text": [
            "/usr/local/lib/python3.6/dist-packages/numpy/core/fromnumeric.py:3335: RuntimeWarning: Mean of empty slice.\n",
            "  out=out, **kwargs)\n",
            "/usr/local/lib/python3.6/dist-packages/numpy/core/_methods.py:161: RuntimeWarning: invalid value encountered in double_scalars\n",
            "  ret = ret.dtype.type(ret / rcount)\n"
          ],
          "name": "stderr"
        },
        {
          "output_type": "stream",
          "text": [
            "67748\n",
            "65659\n",
            "51644\n",
            "61196\n",
            "6201\n",
            "28697\n",
            "62818\n",
            "51042\n",
            "9727\n",
            "44058\n",
            "25878\n",
            "2029\n",
            "5897\n",
            "8921\n",
            "32657\n",
            "70750\n",
            "31461\n",
            "62316\n",
            "43756\n",
            "34870\n",
            "12697\n",
            "51812\n",
            "34802\n",
            "60325\n",
            "47140\n",
            "65640\n",
            "12233\n",
            "62644\n",
            "62319\n",
            "10282\n",
            "21022\n",
            "70060\n",
            "55748\n",
            "48533\n",
            "12581\n",
            "35971\n",
            "40629\n",
            "10457\n",
            "35554\n",
            "72520\n",
            "25475\n",
            "39907\n",
            "51140\n",
            "37903\n",
            "61457\n",
            "51133\n",
            "2236\n",
            "7820\n",
            "67670\n",
            "30751\n"
          ],
          "name": "stdout"
        }
      ]
    },
    {
      "cell_type": "code",
      "metadata": {
        "id": "qlJ70y3jmJjI",
        "colab_type": "code",
        "colab": {
          "base_uri": "https://localhost:8080/",
          "height": 34
        },
        "outputId": "5783a5bb-b75d-43c1-fb80-a1cded170f96"
      },
      "source": [
        "RMSE(utility, predicted)"
      ],
      "execution_count": 83,
      "outputs": [
        {
          "output_type": "execute_result",
          "data": {
            "text/plain": [
              "1.5373710265944023"
            ]
          },
          "metadata": {
            "tags": []
          },
          "execution_count": 83
        }
      ]
    },
    {
      "cell_type": "code",
      "metadata": {
        "id": "yngwgh9BTg9f",
        "colab_type": "code",
        "colab": {
          "base_uri": "https://localhost:8080/",
          "height": 54
        },
        "outputId": "e9ba2ad1-b80f-4225-e3cd-5174242b17ee"
      },
      "source": [
        "print(utility[51133])"
      ],
      "execution_count": 68,
      "outputs": [
        {
          "output_type": "stream",
          "text": [
            "{59: 10, 68: 10, 93: 10, 94: 10, 177: 10, 210: 9, 232: 10, 242: 9, 251: 9, 371: 10, 372: 8, 431: 10, 455: 9, 476: 10, 486: 7, 907: 8, 969: 10, 1535: 10, 1575: 10, 1579: 10, 1698: 10, 2116: 10, 2251: 10, 2904: 10, 2952: 10, 3392: 10, 3457: 10, 3613: 9, 4477: 10, 4752: 10, 5300: 10, 5678: 10, 7311: 7, 8888: 8, 9253: 10, 9919: 7, 10162: 8, 10379: 10, 11111: 7, 11665: 9, 12413: 9, 16498: 10, 19815: 8, 20507: 9}\n"
          ],
          "name": "stdout"
        }
      ]
    },
    {
      "cell_type": "code",
      "metadata": {
        "id": "7-BofM5gTg9i",
        "colab_type": "code",
        "colab": {
          "base_uri": "https://localhost:8080/",
          "height": 54
        },
        "outputId": "f61a218c-8cab-430a-ddc0-79816af98a67"
      },
      "source": [
        "print(predicted[51133])"
      ],
      "execution_count": 84,
      "outputs": [
        {
          "output_type": "stream",
          "text": [
            "{30: 9.65527621128264, 32: 10, 120: 8.437252348581989, 121: 9.774637900010541, 199: 10, 430: 9.546552087729474, 431: 10, 523: 9.779881829851751, 853: 9.407338408490366, 908: 9.39021343162333, 934: 9.543861011231687, 1535: 10, 1689: 9.598771626635164, 1723: 8.571582033833906, 2025: 9.550555288422458, 2167: 9.640351485326553, 2236: 10, 2593: 8.47357320109363, 2759: 9.88045565026162, 2890: 9.216097506233174, 2966: 9.389911570282827, 3092: 9.458823376289027, 3457: 10, 3470: 8.940808759409268, 3782: 8.716288191560285, 3783: 8.550496396647171, 3784: 10, 4059: 9.635537570946617, 4081: 10, 4181: 10, 4182: 9.117180994332879, 4224: 9.953969394914498, 4280: 8.217163063313839, 4282: 9.526860787143972, 4814: 9.186897281845757, 4898: 9.501997445449044, 5114: 10, 5204: 7.393667787473097, 5205: 9.097799562654178, 5630: 9.249530359492505, 5680: 9.379880547168565, 5681: 9.745075909512721, 6045: 9.355371812769603, 6127: 8.067782747042566, 6351: 9.273576924669053, 6372: 9.353139460078278, 6421: 9.934669819725826, 6547: 9.728546219190745, 6553: 9.063930117501545, 6573: 8.931315460113483, 6637: 10, 6682: 8.051042187956451, 6707: 8.692466492534763, 6746: 9.654143035366978, 6862: 9.41287949280261, 7054: 9.516110092041924, 7674: 9.91670342819638, 7791: 9.716210643545072, 8063: 9.543229518421334, 8074: 9.16601414035418, 8408: 9.393193867879184, 8630: 8.513415453981517, 9135: 9.276569967802345, 9253: 10, 9617: 9.415471701212544, 9656: 9.093799441513186, 9734: 9.160826260226111, 9756: 9.86611594705705, 9919: 8.65512487974958, 9926: 9.641804677514397, 9989: 10, 10029: 9.702668778928796, 10161: 8.924526611601065, 10278: 9.274861837859943, 10321: 8.709361318643788, 10408: 9.993799981625243, 10604: 9.387724593173074, 10620: 9.661745940311665, 10800: 9.286487892396035, 10863: 9.917809587873244, 11111: 8.682256603486598, 11123: 9.749862582714245, 11553: 9.182662931247732, 11633: 9.232790203679999, 11737: 9.275100301637881, 11757: 9.466926576560093, 11771: 9.843734092196193, 11843: 9.842399706980096, 12189: 9.70196635143431, 12355: 10, 12711: 10, 13469: 8.86047745750488, 13601: 9.833739195336058, 13807: 7.3291741870759175, 14227: 8.98002191420679, 14289: 9.06504560337903, 14467: 9.011197272029786, 14513: 9.572832001850786, 14713: 9.365994383992277, 14741: 9.561118035774745, 15037: 8.250261330905198, 15051: 9.207092375686727, 15225: 8.946066482792352, 15487: 10, 15605: 7.786901609262342, 15687: 9.445494888988193, 15879: 9.54149064761863, 16035: 9.069721673254282, 16417: 9.180148173850824, 16498: 10, 16592: 8.814766512998597, 16742: 8.99622036716384, 16762: 9.048226687358026, 16866: 10, 16894: 10, 16916: 9.494075815555627, 16934: 9.159820156603793, 17259: 9.352495543672013, 17513: 6.835367228354441, 18153: 9.102141193201762, 18441: 8.951690128712587, 18507: 9.068216678487206, 18671: 9.589420104857515, 18897: 9.482506675307016, 19111: 9.931094041802416, 19221: 9.191723914863296, 19429: 8.536577413211976, 19669: 9.30007553720789, 20507: 8.957972549110284, 20583: 9.916163639661677, 20689: 9.199923458443664, 20787: 8.572203384672163, 21105: 8.747107944768373, 21327: 8.84547511700253, 21603: 9.069257086999023, 21995: 9.206404188006566, 22125: 9.432152406417112, 22145: 9.795175306823916, 22265: 9.377367756734353, 22319: 9.277413955695781, 22789: 10, 23079: 7.5712957016468145, 23283: 9.58279474107423, 23289: 9.82369192271599, 23333: 8.155140418443668, 23421: 10, 24211: 8.768836084760249, 27633: 10, 4975: 8.373528073152132, 31: 9.271365199475884, 918: 10, 1686: 9.394656701860487, 2001: 10, 11977: 9.76753597110042, 11979: 9.81247138639228, 11981: 10, 12883: 9.334314503779972, 15335: 10, 16918: 9.781770650948774, 18115: 9.891179428052693, 227: 9.30521067627085, 356: 9.119007882181124, 512: 9.80011646596282, 1575: 10, 2251: 10, 2904: 10, 3002: 10, 3901: 9.744932905058919, 4654: 9.451950305712277, 5040: 9.961181894704623, 5081: 10, 5300: 10, 6114: 10, 6594: 10, 6880: 9.25037782196536, 8888: 8.492765311563462, 8937: 9.413201527067345, 9062: 9.736729909819642, 9260: 9.451200617892592, 10087: 9.972763087344683, 10218: 10, 10793: 9.237133472114035, 11061: 10, 11577: 10, 11597: 9.815830141635956, 11701: 8.363671871441472, 11741: 10, 12113: 10, 12115: 10, 13125: 9.711764786714994, 14075: 9.21277566304019, 14345: 9.135842003104257, 14719: 10, 14807: 9.185528756957329, 14813: 9.407480197081057, 15039: 9.839197489090111, 15197: 8.443181818181818, 15689: 9.370125495633593, 15809: 9.234961423289404, 16512: 8.898628463203064, 16782: 9.607993902895574, 16904: 9.104413702239789, 17074: 10, 17265: 9.648813777770128, 18679: 9.799890712707784, 19815: 9.097265651147968, 20899: 9.963213791843092, 21339: 9.487853143272497, 21353: 8.365030330514433, 21511: 8.763078421377744, 21855: 9.724265611777032, 21881: 8.744794493844077, 22135: 10, 22147: 8.996507891864148, 22199: 9.22291808140436, 22297: 9.777681467178724, 22535: 10, 22687: 9.12008337888451, 22729: 9.098293118977034, 23273: 10, 23281: 9.081263576131544, 23321: 9.524038652448693, 23755: 10, 23847: 9.927313747280195, 24151: 9.727100639138943, 24415: 10, 24439: 9.802629053940338, 24833: 9.60910219274591, 25013: 9.34832771264431, 25183: 8.677914270585688, 25781: 10, 25835: 10, 26055: 10, 26243: 8.975963142668851, 27631: 9.033865761055143, 27655: 8.212647461950612, 27821: 9.31009693363934, 27899: 8.546125372458325, 27991: 9.519108253698237, 28025: 9.97336459542987, 28121: 8.814637838323222, 28171: 9.62597636187954, 28223: 9.893293060195209, 28249: 9.376586688831624, 28283: 9.495397008055235, 28497: 9.062540213116144, 28621: 9.141599249488358, 28623: 8.63937514530662, 28701: 10, 28735: 10, 28891: 10, 28907: 9.453896141526016, 28999: 9.283415667615364, 29758: 8.542667754616632, 29803: 9.774230799868844, 30015: 9.652703546284789, 30187: 8.376356179702661, 30276: 10, 30654: 9.403205861519446, 30806: 8.630000376530585, 30911: 8.495397008055235, 31043: 10, 31181: 9.988692892108418, 31240: 9.932878208714053, 31251: 9.755484474373363, 31389: 9.2075527509367, 31478: 9.247941704482956, 31559: 9.689047477634656, 31580: 9.15668657623263, 31636: 8.697412731868347, 31637: 9.454110188718216, 31722: 8.934429824457224, 31821: 10, 31859: 9.645722760433479, 31964: 9.577337333850334, 32282: 9.804031621871358, 32379: 7.893446566163344, 32542: 9.257119821806556, 32729: 8.952145458414506, 32998: 9.173480573293656, 33091: 9.811332503113325, 33558: 8.859176360328574, 25: 9.272078431572211, 223: 9.765359398322211, 225: 8.722165021047736, 392: 9.915899061801925, 813: 9.980114560237324, 849: 9.14008614276248, 2476: 7.288923373989064, 11761: 8.902538517970072, 13535: 9.333830989696866, 14527: 9.387304807152137, 14833: 8.935897630282255, 18677: 9.146605591360395, 20973: 9.947841581495428, 52: 8.930065291564642, 59: 10, 60: 9.118471819729079, 102: 8.41134681288123, 104: 9.504829133131018, 145: 8.308510822593954, 161: 10, 232: 10, 243: 8.645191384687468, 249: 9.064992132022132, 251: 8.53066001685579, 341: 8.815823117692277, 449: 8.318562233505842, 450: 8.591358382040445, 451: 8.659489533895574, 452: 8.791569500970775, 507: 10, 530: 8.472134606255146, 531: 9.747730576902265, 532: 8.79583905236607, 552: 9.344161636608874, 687: 8.5185576856118, 721: 9.917714771147951, 740: 8.396045846784693, 874: 9.049597127605638, 877: 9.810520238368536, 882: 8.297773654916512, 883: 8.207845900869156, 996: 8.641033101050375, 1132: 8.981814855326439, 1239: 7.995447254771564, 1313: 8.833007680216452, 1486: 8.65151515151515, 1562: 9.902069379824056, 1669: 8.374667808764196, 2034: 9.360726856679694, 2116: 9.966783216783217, 2923: 9.309717579370126, 2961: 9.247482302949523, 2971: 7.930122116689281, 3731: 9.23897725390012, 4080: 6.930122116689281, 4722: 9.634067899771942, 4752: 10, 5678: 10, 6586: 9.603486462099807, 6811: 9.849516371819256, 6964: 7.933566433566433, 7082: 9.66470710691141, 9441: 8.685391120507399, 9513: 9.359871615069618, 11499: 8.872822980358716, 15085: 8.10691719024245, 16518: 7.432467532467532, 16706: 9.634359227921664, 16890: 8.190404040404042, 19759: 10, 20031: 9.18695851534937, 20541: 8.955619324208199, 21405: 9.50496912152533, 21563: 8.96408845850941, 20: 9.263031242841283, 154: 9.281433856919941, 269: 9.646416207126853, 2472: 8.988274302220416, 4437: 8.98541536592153, 5030: 7.19325646341202, 5530: 9.260321917342688, 6325: 9.140732107900224, 6895: 9.93300440547196, 8246: 9.082252833979526, 8768: 10, 10589: 8.895132653545277, 11617: 9.13288513411862, 11887: 9.356638532891843, 12461: 8.197658822658823, 13667: 9.38747711350766, 13759: 9.825744969102841, 1: 10, 6: 10, 33: 9.927171996957776, 62: 8.695679358558815, 63: 7.9294245752268795, 79: 8.829185341790584, 93: 9.9199604743083, 94: 10.0, 96: 10, 133: 8.081724667117673, 146: 9.052211287032156, 174: 8.695807358059458, 204: 8.844598037621294, 226: 9.343989899456483, 241: 8.529983468696818, 270: 9.395572338768682, 291: 8.934790585758329, 297: 8.17121212121212, 376: 8.89192103939186, 403: 8.946605891813817, 448: 9.345669324844378, 467: 10, 487: 9.06008946562693, 889: 9.66105497113691, 1195: 9.309254719681295, 1519: 10, 1559: 9.625131678494123, 1818: 9.70622114299563, 2494: 8.521046658845643, 2993: 8.647884383898308, 3455: 8.963346465348808, 3503: 8.6328937749153, 3667: 9.14787342694448, 3974: 8.66663380286273, 4063: 9.049528093196189, 4214: 8.850562592288476, 4744: 7.707570133167325, 4999: 8.819578494570008, 5074: 7.628629579375849, 5216: 9.48895104895105, 5277: 9.186486259678002, 5341: 10, 5682: 9.778857279973694, 5781: 9.337241551659892, 5958: 9.373418964752453, 6166: 8.329346577656551, 6201: 8.77944888454282, 6205: 8.4814941141185, 6324: 8.864178237972288, 6500: 8.286891044103653, 6633: 6.3181818181818175, 7088: 8.87732041554441, 7148: 8.519258652174269, 7593: 8.97854349805241, 7724: 9.646010549748196, 8277: 8.999974793276385, 8407: 9.633739872102073, 8675: 9.36012459009404, 8841: 8.878942882874833, 9041: 9.040994576094311, 9181: 9.095445479170024, 9367: 8.850807241258064, 9936: 8.640103150918508, 10079: 8.518865090655407, 10172: 8.672622403891928, 10213: 8.517948812980288, 10397: 8.490271223913377, 10456: 9.376074629039449, 10719: 9.215755289082834, 11759: 9.116813162726526, 12293: 8.467214129551568, 12487: 9.43577309366783, 12549: 8.534895089129405, 13161: 9.004033863015549, 13221: 4.178646934460888, 13357: 9.074098289103192, 13663: 9.518060556388889, 14749: 9.283198739204657, 15377: 7.938609810259533, 15451: 9.194833128272549, 15583: 9.127364246633963, 17729: 9.106863105694922, 18001: 8.630013602730179, 18247: 8.430377344642421, 18277: 9.086989727316018, 19151: 7.398259666731004, 19163: 9.160337220033977, 19775: 9.41915962325342, 20785: 8.999292139799836, 20853: 9.376555798996645, 21033: 8.160848225636556, 22547: 7.984767691456996, 24231: 9.091718699456672, 25157: 8.686502894898313, 5060: 9.324355507355522, 7337: 9.278451361772598, 8479: 9.704359833797156, 28: 9.947690201245189, 47: 9.574301635784764, 90: 9.004221720122834, 136: 9.810594967164718, 164: 9.952125749059931, 245: 10, 415: 9.0339248565055, 416: 8.983811765806273, 513: 9.769255235884607, 572: 10, 597: 9.372118156790044, 1140: 8.16087616087616, 1361: 8.655238028073258, 1462: 7.517446524064171, 1829: 8.228943184629205, 6702: 10, 12049: 9.212644232443285, 16662: 10, 17187: 10, 19191: 10, 20021: 8.708353197049725, 30458: 9.609979214409595, 24: 9.74194373351842, 142: 8.468843345709018, 460: 9.393572592165748, 461: 8.161606164616774, 462: 8.838498955654984, 463: 8.578334337584252, 466: 8.136162955162844, 578: 9.977249509458344, 846: 9.774403020176331, 1094: 8.38153798256538, 1222: 9.163337357131878, 1237: 8.38153798256538, 2020: 8.986223536737237, 2104: 9.59829555457779, 2385: 9.643193233706931, 2386: 9.143193233706933, 2490: 8.934057692004949, 2680: 9.143193233706931, 2927: 9.227541676018129, 4136: 9.2075527509367, 4163: 9.81597897696621, 5056: 9.2075527509367, 5252: 9.26739102533828, 6512: 8.827596615046797, 8740: 10, 9982: 9.468360811348141, 16868: 9.90966810966811, 76: 8.796504730514776, 77: 10, 101: 9.236439168358377, 238: 8.132932108541866, 355: 9.332592424964151, 412: 8.12219218791989, 1066: 9.011423625253215, 1840: 9.516463424102202, 2026: 9.394315032496051, 2787: 9.405231076850574, 3654: 8.544897111452162, 3712: 9.501429194596897, 4382: 8.629914193022541, 4725: 9.66106799598407, 5118: 9.350475135438543, 5667: 8.64818142467161, 6347: 9.256175174491188, 6773: 9.04671616219071, 6987: 7.054336674175776, 7311: 8.319532045458939, 7805: 8.467339769256242, 7858: 9.312635950428426, 7870: 8.994007394647573, 8302: 9.2075527509367, 8424: 9.058762306629202, 8516: 9.634285235446743, 8577: 6.722113606932595, 8769: 9.056978829187868, 9471: 9.349352368784709, 9587: 7.41127790589443, 10067: 8.904945876445021, 10110: 9.15027620501745, 10155: 9.382925451452936, 10209: 8.890686144119636, 10431: 9.012867284559258, 10647: 7.859944802004334, 10790: 9.256309736501779, 10834: 10, 10897: 8.228350948002324, 11266: 8.303685250896075, 11285: 8.936687040669874, 11319: 9.371528085894035, 11783: 8.852447006863729, 12565: 8.86166967976884, 13677: 7.671618852746835, 14027: 8.86303956316227, 15437: 8.944020919432239, 64: 10, 65: 10, 150: 9.696323797030008, 1482: 9.85887417159952, 1719: 9.61440092870858, 1965: 9.002942319287198, 4551: 8.786748671012196, 5262: 9.17817383461791, 6896: 8.782099343955014, 7059: 8.983344610332628, 8476: 8.974794384154306, 66: 9.937988036027138, 169: 9.564753698743045, 591: 8.228475355104287, 777: 10, 886: 8.728475355104289, 1889: 9.776910856238228, 3652: 8.6981527128793, 4896: 9.120290470577704, 5955: 8.485219540941012, 6213: 9.353303771136286, 6572: 9.269867914864884, 6747: 9.355641644320357, 8861: 8.479902263827018, 9379: 8.483876650308165, 9750: 8.617710421643226, 9969: 10, 10020: 9.494970777964468, 10119: 9.795334817026792, 10396: 9.047062166463956, 10490: 8.922997836625143, 10491: 8.290076739254822, 10495: 8.865871898667688, 10578: 8.377125764935887, 10681: 8.313753246753247, 11179: 9.042927390264548, 11313: 7.380642236701235, 11703: 8.679551418066131, 11743: 9.110579180596051, 11785: 9.109160142152989, 11933: 9.34028226333902, 12175: 8.493470185697799, 12291: 8.760359488570034, 12403: 9.450683323840924, 12445: 9.487074411115445, 12505: 7.546914212548016, 12893: 9.358333356358035, 13055: 9.27110877837061, 13367: 8.313821188438137, 13655: 8.68991348978321, 13659: 9.175986503108968, 14189: 9.3899074637684, 14199: 8.479423739638444, 14967: 9.37915833154619, 15109: 9.79663192433893, 15315: 9.099214018559277, 15417: 10, 15699: 9.137433571177347, 16009: 6.603896103896105, 16049: 10, 16355: 9.238240992988535, 17741: 8.091767909509844, 18195: 9.457504050248465, 18397: 9.29002692106153, 18857: 7.21315154697022, 19285: 8.81336796238864, 19315: 5.047712291615324, 20449: 9.355981065448802, 20847: 9.897178268528846, 20939: 10, 21431: 9.168399948285655, 21659: 9.481344133155762, 21863: 8.576955402319777, 24991: 8.984848484848484, 25159: 8.532630753313883, 26349: 8.957551597132433, 26441: 8.014547232466795, 28819: 7.957109449313013, 29786: 9.14458282299131, 30307: 8.834702449914534, 322: 9.069479755757534, 325: 8.34724333356366, 1698: 9.94273006146061, 4477: 10, 5690: 10, 8038: 9.734848484848484, 7: 8.806849033319622, 27: 8.339603006812311, 45: 9.724904936793699, 61: 8.797818909106475, 98: 9.694270860238714, 99: 8.254385823934388, 132: 8.515147710627936, 135: 10, 149: 8.878646922625387, 153: 10, 205: 9.892051971198319, 246: 10, 248: 8.515043776518086, 257: 8.091873901818984, 326: 8.86906633624025, 337: 9.439677145284621, 338: 10, 343: 9.66584300655097, 427: 9.550948955664362, 476: 10, 553: 9.419853779732813, 863: 8.635254988913523, 879: 10, 1098: 8.909090909090908, 1546: 8.332903909191106, 1579: 9.94732350982351, 1604: 9.970808812634472, 1609: 6.840722068629045, 1691: 9.140469401483086, 2148: 8.058390574896285, 2562: 6.689451626784412, 3268: 6.17864693446089, 3392: 9.583333333333332, 3588: 9.400229495012422, 4719: 6.4131185270425775, 5041: 10, 6163: 8.945300462249612, 6645: 6.738244963991233, 6793: 9.269770924976736, 7592: 9.76959683478754, 8086: 8.905006027652519, 8525: 8.951759601577614, 8876: 9.245822095098434, 9136: 9.285661080285344, 9539: 8.76285805316179, 9675: 9.224823806298389, 9981: 8.088035162692846, 10049: 9.665233261988666, 10080: 9.272667741793086, 10805: 9.224823806298389, 11241: 8.223895363955563, 11751: 8.558867023561682, 11763: 2.4207459207459205, 12753: 8.664643767447505, 14663: 7.630150057443413, 14765: 9.198181818181817, 15117: 9.171790994380826, 17743: 8.85299007812178, 19369: 9.218542251892055, 19685: 7.824215959173019, 20053: 7.600486826610176, 20767: 9.325142602495543, 21067: 7.534742779100219, 21085: 8.882412431873917, 21185: 10, 21439: 9.638748176005125, 21843: 9.84528904560639, 22043: 9.792374753699127, 22101: 9.359980500935213, 22877: 7.4607873726373, 23037: 5.981818181818182, 23233: 8.585773482359295, 23317: 10, 23673: 8.693590111185673, 24455: 8.982178752331166, 25099: 7.726197462996482, 26165: 7.193819573283861, 27787: 8.958559138835778, 28617: 8.86911728455926, 28927: 9.219085922472656, 29854: 9.551969696969698, 30205: 9.787110756799228, 30240: 9.640338864919414, 30503: 9.496093394105825, 30544: 9.364088840583685, 30831: 9.092141360358653, 30885: 8.098822843822845, 31098: 9.694848484848485, 31404: 8.70073231352964, 32526: 8.399262899262899, 32696: 10, 240: 9.185789224903278, 371: 10, 457: 10, 601: 9.27157176997379, 819: 8.963591312182862, 855: 9.41140174568603, 907: 8.637490859219156, 1210: 9.746493142831325, 1813: 8.98758796876506, 2508: 9.812701902622981, 2605: 9.500059113723182, 2924: 9.865857437472044, 3167: 8.804614749739352, 3210: 10, 3467: 9.170558941456408, 4789: 10, 6956: 9.26179321556035, 7465: 9.172232460242737, 8426: 10, 9366: 9.177179847912045, 10521: 9.66444320599245, 10711: 8.873510101347726, 15379: 8.92453293366309, 15775: 9.427592385555819, 16067: 9.641053172919413, 16353: 8.990102768441986, 17777: 7.797182877834077, 18139: 8.909456890280135, 20047: 8.316154908900703, 22123: 9.03592375366569, 22189: 8.090333716915996, 25649: 8.186602870813397, 25879: 10, 27989: 9.61302656524454, 28297: 9.627711581996463, 29067: 8.924073823943717, 30705: 10, 31414: 9.706190610723317, 32093: 10, 32268: 9.30736603332426, 32828: 9.395190023992418, 7817: 8.813596302324395, 9922: 8.880024687449644, 11433: 9.406952452854071, 49: 9.134549660865451, 50: 9.27270401888267, 304: 9.852275774633076, 357: 9.27248426957785, 527: 9.528104103940308, 1117: 8.885372168567473, 1118: 8.927672111084348, 1119: 8.679753287090586, 1120: 8.528876325067154, 4792: 10, 5526: 8.735031737767134, 268: 9.642003865897848, 368: 8.091543914939747, 384: 8.882832415952338, 1696: 8.201705939075627, 10418: 8.313855457115611, 71: 9.361123436377484, 72: 9.409677957185558, 73: 9.508509459155063, 157: 9.159917860069708, 177: 10.0, 237: 9.875114562019114, 267: 10, 481: 8.968863652833573, 894: 8.258532894371948, 895: 8.950038816968945, 896: 9.400596199465625, 897: 9.172830340093105, 898: 9.169189902601705, 899: 9.164304231975441, 900: 9.046957883910698, 901: 9.715527397400383, 902: 9.355427317959537, 903: 9.03306342289842, 904: 8.303337824794012, 905: 9.558523857121648, 906: 9.371683158635976, 984: 9.276321350157792, 985: 9.595931737391297, 986: 9.891244394501559, 1571: 9.393543894174208, 1619: 6.950365726227795, 1732: 7.950365726227796, 3655: 9.10645944058375, 4188: 9.751515151515154, 4581: 8.988422766908485, 4618: 10, 5034: 9.23096744525316, 5079: 9.253044525890186, 6714: 8.954545454545457, 8425: 9.710613282839178, 8465: 9.759379429171172, 9331: 8.119649145169399, 10017: 8.576080389533564, 44: 10, 433: 9.286270616543893, 1530: 9.5917578066418, 1726: 8.880695275075027, 2418: 9.898537240127057, 2926: 8.933454671808502, 5365: 10, 8422: 8.849275008145975, 11077: 9.790984534455871, 167: 8.51116427432217, 210: 8.666887817326923, 239: 9.603382050817245, 1292: 8.7802545771571, 2129: 8.862137092222106, 4901: 10, 6675: 10, 6922: 8.850043834063683, 8557: 8.99415100390765, 8795: 9.505602964284481, 9938: 8.936911553066425, 10165: 10, 10378: 8.929954111082093, 12413: 9.05842502593948, 13331: 9.452375735650886, 15125: 8.037191089625546, 18119: 9.121022926477497, 21507: 7.850963600019263, 23251: 8.830813386279983, 26085: 7.541983981613972, 27927: 8.035923753665688, 28825: 8.601580369858194, 31374: 9.024521183611515, 31848: 9.901141951655651, 32182: 9.719568156456843, 330: 9.434462181768389, 7711: 9.530752156846571, 9330: 8.38890577586572, 9515: 8.49799352185137, 9790: 9.643323037927619, 12467: 9.09706757227217, 12729: 9.085033295888488, 12783: 9.16822890178577, 16157: 7.631590163235732, 21653: 8.693582865794772, 24703: 9.119603793699843, 25015: 7.9825904203323566, 25397: 8.386347825386338, 27775: 9.549493729173884, 28285: 8.59123629892046, 30749: 8.994138810708888, 31338: 8.110409692132988, 31442: 9.285496850470798, 31716: 8.916984213391398, 32083: 9.495397008055235, 32380: 9.649473009122131, 32595: 7.253385484922411, 8986: 9.651515151515152, 137: 10, 6211: 10, 10271: 9.867325498575498, 5: 10, 1887: 9.184165568482415, 4155: 10, 5355: 9.12911473644054, 7338: 9.69484240143997, 7902: 8.719141603344708, 8440: 9.632475208572238, 23199: 8.89294627638414, 23701: 8.803407825099798, 27831: 9.462027015252524, 28677: 9.127142443782029, 31297: 9.021885521885523, 31405: 8.36907656876504, 31704: 9.488451293645092, 31772: 8.548783051136633, 33161: 10, 19: 9.939029376706715, 43: 9.74736367132665, 46: 9.474644403215832, 53: 8.90067666351913, 57: 10, 67: 9.66283462787355, 68: 10, 119: 9.3517679503595, 123: 9.375874005027232, 147: 9.792482875287803, 170: 9.963994268397252, 189: 8.637789930557918, 190: 9.092534512915469, 191: 9.52982202982203, 192: 8.88961038961039, 242: 8.711967135908145, 263: 10, 264: 9.905869689227128, 265: 9.757186959590944, 317: 9.35008358565197, 323: 9.399042709938845, 339: 10, 377: 10, 378: 10, 382: 8.487250269031021, 387: 9.765701759436682, 394: 9.282763583448515, 401: 10, 408: 8.280348719138587, 411: 7.751665136882433, 459: 8.849966422989615, 465: 9.207936486764991, 468: 9.837623996669473, 477: 9.736071643231119, 502: 8.709938948721959, 517: 9.472068306648707, 587: 9.697478801076736, 594: 8.681157418796197, 624: 9.366181818181818, 651: 9.1513304121764, 756: 8.818181818181818, 759: 10, 762: 8.532252003939142, 788: 3.8474772111357476, 790: 9.422779539932073, 793: 9.81559272284219, 801: 10, 807: 10, 834: 8.590543510591, 857: 9.061554897534233, 861: 9.678728274111796, 891: 8.567081805864813, 892: 8.709938948721957, 893: 8.709938948721957, 935: 8.54562675500632, 936: 8.657562194489845, 963: 10, 969: 10.0, 981: 7.779720279720279, 987: 8.109451854450551, 1004: 9.198056091960368, 1135: 9.651515151515152, 1174: 9.651515151515152, 1238: 8.38153798256538, 1311: 9.6301555850241, 1566: 8.964687114857528, 1568: 7.585544650040226, 1589: 9.51818181818182, 1606: 8.880204852974144, 1733: 10, 1738: 10, 1817: 8.617783777765407, 1827: 9.397639045320462, 1860: 8.848310404996008, 1943: 9.944227777845041, 2004: 9.633767352050935, 2107: 9.578334337584254, 2131: 8.825001592503863, 2144: 8.28243310485899, 2210: 7.590909090909092, 2216: 9.175213414737383, 2397: 9.949973971964562, 2404: 8.613523838772384, 2520: 8.07047216349542, 2596: 8.549807422969188, 2683: 9.519368527042579, 2889: 9.108021950889693, 2951: 9.684959569114419, 2962: 8.344077106420144, 2970: 7.590909090909093, 3087: 9.243032683717834, 3091: 10, 3229: 8.725394540784215, 3230: 9.271797786459189, 3247: 8.751515151515152, 3328: 8.641227794533227, 3354: 8.82992633339767, 3358: 9.149392102420308, 3359: 8.826088556826644, 3446: 8.904687070860552, 3613: 9.178499597747386, 3616: 10, 3702: 9.53750475983663, 3759: 9.026337114708037, 3791: 9.378138841517314, 3848: 9.247274928238287, 3956: 9.909043026182419, 3958: 9.581330033018745, 4015: 8.940923038727645, 4087: 10, 4106: 9.162817852613324, 4107: 10, 4134: 9.641700814182084, 4151: 8.099415443879762, 4177: 9.120737636318012, 4186: 8.811707046542486, 4550: 9.2075527509367, 4565: 10, 4720: 8.549820236260913, 4726: 8.956374806813109, 4760: 9.450238309268595, 4835: 9.49292678620371, 4918: 10, 5045: 8.990654524240657, 5065: 9.371482813376645, 5112: 7.934981175050215, 5150: 8.872772629000607, 5152: 8.751599309318596, 5177: 9.839794482653895, 5244: 9.490704970796134, 5258: 10, 5279: 8.807433721013252, 5342: 8.73241334977569, 5356: 8.718519997378849, 5593: 9.724055543499182, 5702: 9.651515151515152, 5717: 9.081709956709958, 5734: 8.417515151515152, 5764: 9.866608341655839, 5772: 7.5172757429931805, 6046: 8.59288770053476, 6165: 8.549820236260915, 6171: 10, 6187: 9.734848484848484, 6443: 6.010489510489511, 6574: 8.807517738589029, 6610: 9.453424531104238, 6634: 9.518836794760187, 6676: 9.419509060917512, 6758: 6.043181818181818, 6772: 8.237638109796068, 6791: 9.169281556505785, 6864: 10, 6945: 10, 6954: 10, 6958: 9.2075527509367, 6974: 9.317047109069362, 7017: 8.394710827156981, 7193: 9.341825019700796, 7468: 9.051599678925456, 7590: 8.78069153161319, 7627: 9.297538417119036, 7647: 8.877577745000591, 7739: 7.904638790789488, 7769: 8.45905473203106, 7875: 9.06568418596771, 8129: 9.371988497020958, 8171: 8.51578660860098, 8190: 9.734848484848484, 8231: 9.051599678925456, 8247: 9.2064135004965, 8460: 8.440823511955763, 8514: 7.67562712516841, 8532: 9.05908312841005, 8619: 9.2075527509367, 9065: 9.756992886949629, 9074: 9.447321216348344, 9201: 9.646825975933096, 9213: 9.985517725517726, 9220: 9.152501344809037, 9252: 7.175627125168409, 9289: 9.369933545195574, 9355: 9.520225704818492, 9362: 9.2075527509367, 9396: 9.035923753665688, 9510: 9.521251993620414, 9544: 9.358181818181817, 9745: 9.186398872445384, 9760: 9.706537348639136, 9834: 8.070813397129186, 9863: 9.02918183780901, 9941: 10, 9999: 8.516909202564767, 10030: 10, 10073: 7.686004391088475, 10076: 8.459488592466428, 10162: 9.33725858530339, 10163: 9.15083792138597, 10197: 8.152501344809039, 10216: 10, 10260: 9.914557263394471, 10298: 9.118908030857137, 10379: 10, 10460: 9.343314162791216, 10465: 9.25789330430049, 10568: 9.576834525061706, 10588: 8.799412921037398, 10686: 9.454471348359277, 10702: 8.772727272727273, 10721: 9.42100250569385, 10794: 9.102292043555616, 11113: 8.891711229946523, 11665: 9.0, 11739: 9.725464688513778, 11769: 9.38153798256538, 12365: 10, 12471: 9.203671655387383, 12581: 7.054162833653278, 12859: 9.12930479317931, 13587: 8.98694265585022, 13939: 8.584273458853621, 14397: 9.904697865278624, 16001: 9.972883409374935, 16005: 9.091046059066702, 16241: 9.93083030329994, 16444: 8.609942806857969, 16524: 8.742348871740653, 18179: 9.806216006216006, 18465: 8.66600790513834, 18745: 8.711038961038962, 19363: 10, 19647: 10, 19703: 10, 20977: 9.271406778364513, 21329: 10, 21939: 10, 24277: 9.948951048951049, 27833: 9.427979739450189, 28977: 10, 32485: 8.891711229946523, 550: 8.880718059135402, 5962: 8.602855477855478, 158: 10, 196: 8.516996862081328, 444: 9.840722068629045, 482: 9.037082024057637, 1729: 10, 1836: 8.471625396317297, 1983: 10, 2581: 9.746016871679839, 3468: 10, 3469: 10, 3750: 10, 3927: 9.844074597768108, 3972: 8.193420458884376, 4192: 9.581363980674377, 6023: 9.35666221524722, 6287: 7.807743231711705, 6288: 8.971277783563005, 6951: 9.785020586889745, 8676: 9.078388686678593, 9925: 7.907462811552002, 122: 9.46529024637921, 159: 10, 195: 8.951105607328765, 198: 9.352858082743142, 303: 7.502797202797202, 306: 9.046957652840007, 393: 9.927890086104373, 443: 8.094893555051701, 509: 8.871781731851463, 564: 8.745769572561272, 746: 8.340664071952892, 761: 7.981273410567409, 789: 9.404137242632817, 941: 8.6922903453136, 997: 9.626863625470529, 1003: 10, 1108: 8.782300618121514, 1198: 7.694652406417112, 1240: 9.194470715311079, 1278: 7.657467532467532, 1557: 7.769794721407624, 1564: 8.842586522268633, 1614: 9.947066178854259, 1674: 9.933566433566433, 1953: 10, 1998: 8.493524019839809, 2124: 9.999179166503222, 2225: 7.337412587412588, 3228: 8.936302760647012, 3366: 7.992503085150145, 4026: 9.594025439580996, 4490: 9.38153798256538, 5163: 9.92381562099872, 138: 10, 139: 10, 2952: 10, 3572: 9.579050374404357, 7222: 6.4207459207459205, 7580: 9.188012987118498, 11235: 8.848982965077298, 479: 9.161375093114405, 516: 10, 856: 10, 1470: 7.486721144024514, 1473: 7.498942709173342, 1536: 9.072570669235606, 1607: 10, 2369: 9.171212121212122, 2963: 9.867882366169615, 3225: 9.0246801675825, 3407: 6.93012211668928, 3594: 9.182642441675153, 5162: 9.340756861595363, 5525: 8.542609182109862, 5909: 8.510390873908397, 6377: 10, 6381: 9.42354316689928, 6425: 8.178646934460888, 6444: 9.260594162528546, 8311: 9.5391341991342, 8536: 8.215485748605106, 9479: 8.029965257672263, 10447: 7.955783203494471, 10464: 8.645593316433667, 10611: 7.781042646208585, 12317: 7.870814840368647, 12967: 8.522827282683748, 13333: 9.065450725744844, 14353: 9.799008724790967, 14511: 8.938871473354231, 14829: 9.089123682989696, 15119: 8.39571839434289, 15793: 7.3181818181818175, 16011: 8.695228117522422, 16397: 7.054292929292928, 16668: 8.623648064964579, 17247: 10, 17827: 8.960272481733902, 17831: 9.213597269680072, 18095: 8.40771862546056, 18295: 9.757180677219104, 18753: 9.433063071195354, 18767: 7.492880613362542, 19769: 8.52969282611381, 20517: 8.165244515758214, 20555: 6.8181818181818175, 20931: 8.625604056950067, 21177: 8.064553035198285, 21273: 8.76845709071138, 21561: 8.66100763271816, 21809: 8.152501344809037, 22835: 8.621417530862516, 24705: 8.41730904154003, 24765: 9.086805718464271, 24855: 6.782099343955014, 25283: 9.042591882254328, 25731: 9.747950509084916, 26443: 9.767019663687208, 28387: 8.56797503571697, 29093: 10, 29095: 9.737841650865736, 202: 10, 1157: 9.193181818181818, 1731: 8.935479279802125, 22433: 9.166283084004602, 24873: 8.601602897488974, 51: 8.390144855144856, 228: 9.279384453285935, 514: 8.788773216031279, 5306: 8.579422128259338, 8995: 9.079422128259338, 329: 10, 570: 10, 658: 10, 2246: 10, 1956: 8.843382965915692, 1532: 8.71662650237961, 3375: 10, 10497: 10, 15195: 8.690744037684063, 19257: 8.562626262626264, 27727: 8.845589377182327, 296: 9.225813181595402, 442: 8.58346042718238, 1121: 8.026018678415266, 1122: 9.001277215891653, 2142: 7.678544254018719, 2201: 7.92760710553814, 2847: 8.078802851988211, 3299: 9.079348482162986, 4246: 7.712686427709489, 4981: 9.894991281664657, 6033: 10, 6948: 9.422656606294126, 7396: 7.7131642125480155, 9000: 9.493044629494609, 9117: 9.284597570174537, 9347: 8.4590311377424, 9888: 8.346352160507665, 10504: 9.2075527509367, 10849: 9.2075527509367, 10934: 8.19818181818182, 11005: 8.764616422782417, 11013: 8.99680649422878, 11019: 9.031738311752054, 12503: 8.403857083566418, 12673: 7.063717831745157, 13093: 8.676728826728827, 13403: 9.712656867460788, 13411: 8.90565520075184, 14073: 6.5068610634648385, 14811: 9.270442609464153, 14827: 8.20125874125874, 14893: 8.402267300085144, 15133: 6.998919779407585, 15453: 9.2075527509367, 15649: 9.399262899262899, 15751: 9.202514416495877, 16099: 8.121426970309239, 16694: 9.550573876827396, 17121: 9.193746203317433, 17391: 9.066729963554616, 17409: 6.915223665223666, 17505: 9.333893454151871, 17641: 8.692066149812629, 17821: 9.946753246753246, 17895: 8.943139561324758, 18041: 9.208536686243692, 18413: 9.2075527509367, 18523: 9.147756282075205, 19117: 10, 19211: 8.699368220045466, 19383: 7.96793334870258, 19841: 9.15491651205937, 19855: 10, 20045: 8.709469226306831, 20545: 8.622625114487683, 20649: 8.656891495601172, 20709: 8.99564760194426, 21635: 9.05429292929293, 21647: 10, 21679: 7.709159261790842, 21681: 8.360485408654624, 21879: 8.29454536675104, 22273: 8.406515151515151, 22537: 7.6179333487025795, 22865: 8.855417147133045, 23099: 9.2075527509367, 23309: 8.997098881651874, 23433: 7.152501344809037, 23945: 8.884360474940443, 24031: 8.62796364660952, 24037: 7.694848484848485, 24365: 9.271406778364513, 24751: 8.186602870813399, 288: 8.119515697709558, 464: 9.371006527078363, 528: 9.433477137078382, 6877: 9.420080234073193, 9581: 8.823127058677576, 10638: 9.2075527509367, 12069: 9.750396798535295, 13629: 9.9005994005994, 13859: 7.339739320429536, 14045: 8.035923753665688, 14355: 9.55653363447556, 15323: 9.44866229558318, 15881: 8.621738252301196, 16149: 10, 16774: 10, 17082: 9.773979287524941, 17341: 9.152501344809037, 17351: 8.035923753665688, 18689: 9.514333767498325, 20033: 9.819611244416777, 20159: 9.356543144615536, 20457: 8.140832049306626, 20871: 8.38153798256538, 21415: 7.7820993439550135, 21797: 8.928004899238157, 22057: 7.945300462249613, 23121: 7.640431103366611, 23277: 9.4242178530177, 23383: 9.369117284559259, 24135: 9.694001027221367, 24913: 10, 25161: 9.956947598466535, 25241: 8.332853158528646, 25687: 8.589819687453616, 28391: 9.542591882254328, 29317: 9.485002036705584, 29785: 8.674634130827645, 30127: 8.281539732334537, 30230: 10, 30296: 9.374827807075285, 30300: 9.493300529403367, 30363: 8.945843058953068, 30437: 10, 30782: 8.878276613736137, 31080: 9.9169842133914, 31091: 6.916984213391399, 31143: 7.476453983528544, 31665: 9.694848484848485, 31793: 8.399262899262899, 31798: 9.543943006120703, 31952: 9.03125666410924, 31953: 9.173557624095258, 32013: 9.57010453246717, 32189: 9.601997997607173, 32935: 9.530979437229437, 33028: 9.101997997607175, 33201: 10, 33338: 9.927637678151378, 34103: 9.101997997607175, 11697: 9.21759598347599, 10152: 9.645014282552937, 18245: 9.37605272301119, 22663: 8.881439475004212, 24075: 9.082861981664376, 24133: 8.830136398183269, 28805: 9.69400958774412, 30895: 7.694848484848486, 31163: 8.802782203226819, 32438: 7.065240407662186, 32648: 8.694848484848485, 74: 8.254164045830713, 14921: 9.57536728455926, 48: 8.605639118084559, 58: 8.896799151897701, 80: 9.839920948616601, 81: 9.635254988913525, 91: 9.757478257478256, 97: 9.827121201490595, 100: 9.387296037296037, 107: 7.549820236260914, 115: 8.318181818181818, 116: 8.318181818181818, 117: 8.186398872445384, 129: 8.51116427432217, 155: 9.357032176197382, 165: 7.239750445632801, 168: 9.100965700965702, 180: 10, 181: 10, 182: 9.747788045288047, 208: 10, 209: 9.78903567696671, 272: 8.549820236260913, 298: 8.724624148881775, 369: 8.0084731141874, 372: 8.703690390297533, 391: 8.832824131728241, 400: 9.802630362336162, 405: 8.005325528961599, 419: 9.30209509731461, 435: 9.238137225093746, 504: 10, 522: 9.354658415556253, 534: 9.862448852980414, 535: 9.901048047559675, 536: 9.985969967033089, 537: 7.66358204134367, 538: 8.438543809132044, 539: 9.498669623059868, 567: 9.510730600191385, 568: 10, 569: 10, 598: 10, 603: 7.1384065372829415, 617: 9.507190046356152, 650: 10, 673: 10, 696: 9.694652406417113, 732: 9.375384285027142, 763: 9.160571654713447, 764: 9.635254988913523, 766: 9.92381562099872, 779: 9.203151038428055, 780: 9.610470919869005, 781: 9.610470919869005, 866: 9.98596996703309, 867: 9.830068123091378, 868: 9.830068123091378, 869: 9.83006812309138, 884: 9.2075527509367, 888: 5.5703557312252965, 909: 9.562626262626264, 916: 7.748207931763316, 957: 10, 992: 9.118181818181819, 998: 8.297773654916512, 999: 7.2977736549165115, 1006: 8.502797202797204, 1017: 8.51116427432217, 1019: 8.480653049482163, 1043: 8.840445269016698, 1051: 8.635254988913525, 1074: 8.221518865474517, 1088: 10, 1152: 9.186398872445384, 1170: 9.830068123091378, 1171: 9.330068123091378, 1172: 10, 1182: 10, 1192: 10, 1250: 8.454147838146257, 1255: 7.927218614718615, 1256: 6.927218614718615, 1257: 9.86658927626707, 1258: 7.427218614718614, 1259: 9.0230562117563, 1264: 7.972529129245547, 1303: 9.460474662974743, 1362: 8.562905844155846, 1365: 10, 1416: 9.756957328385898, 1430: 10, 1469: 9.320616883116884, 1487: 7.599871959026888, 1498: 9.04766263877986, 1509: 5.3181818181818175, 1517: 10, 1531: 9.645814312961573, 1533: 7.077156177156178, 1563: 9.09811492854971, 1682: 8.024064171122994, 1710: 8.494802500288113, 1894: 8.14922206228874, 2248: 8.022641608238134, 2268: 9.51578660860098, 2273: 10, 2281: 8.003367003367003, 2985: 7.731974921630094, 3031: 8.070759137769448, 3032: 9.07075913776945, 3033: 9.070759137769448, 3086: 7.261501656238499, 3298: 7.147588815121691, 3447: 8.182379349046016, 4028: 9.473737373737373, 4713: 9.996753246753247, 4793: 8.651099887766554, 5233: 9.833459595959596, 6030: 9.342725265246381, 7322: 9.705716607757594, 7472: 10, 7662: 8.911952024095557, 11531: 10, 13271: 8.712975597762616, 15613: 9.540852259323595, 15959: 9.906417112299465, 16468: 9.38153798256538, 19251: 8.782099343955014, 19951: 9.231974921630094, 565: 9.626718403547672, 1064: 8.839920948616601, 2734: 5.8399209486166015, 2978: 9.49318181818182, 508: 7.915307026944959, 2471: 9.32308481641815, 6489: 9.380701970488214, 10842: 9.2075527509367, 14837: 9.54675107333565, 17397: 8.160921165439014, 22071: 9.035923753665688, 23227: 9.035923753665688, 25389: 9.599720741796713, 32188: 7.775324675324676, 183: 9.40513833992095, 15633: 8.943181818181817, 18393: 9.027062844644393, 30091: 7.227708702088754, 31710: 8.042591882254328, 31764: 9.46321163061567, 24687: 10, 1133: 9.694652406417113, 1033: 10, 469: 8.045960784696526, 8: 8.294135775923854, 16: 9.62743932153754, 18: 9.634643734483221, 22: 9.643785353329383, 109: 9.505042891127403, 124: 9.407343791214759, 134: 10, 143: 8.9104448384764, 144: 8.388191079227544, 166: 9.173177742146718, 185: 9.802908622796263, 186: 10, 187: 9.606449631309182, 193: 8.641466962214745, 230: 9.970286850709543, 273: 10, 274: 9.222150072150072, 276: 10, 290: 8.42074592074592, 292: 8.625841210565216, 302: 8.337412587412588, 318: 7.793385070214338, 348: 7.7697947214076235, 379: 8.761461106608696, 395: 9.036052529526712, 407: 6.439677145284621, 418: 9.22089184528209, 454: 7.599871959026888, 455: 8.7513986013986, 456: 8.101295210166176, 586: 9.916962912709183, 588: 7.930122116689281, 596: 9.930199958771388, 606: 9.59090909090909, 627: 9.1813124688483, 631: 9.069026095855364, 645: 10, 646: 7.502797202797204, 648: 10, 649: 9.038806938768351, 682: 7.7697947214076235, 690: 8.726166246688635, 812: 9.502797202797204, 821: 9.075925925925924, 825: 8.186602870813399, 952: 7.651515151515151, 1190: 9.570355731225298, 1281: 9.240044119031461, 1363: 9.453151038428057, 1364: 9.840825837029668, 1366: 9.374531567383825, 1367: 9.671043195290801, 1505: 9.421043195290801, 1506: 9.501841948900772, 1527: 8.904848484848483, 1709: 8.289813853104839, 2171: 8.835175282234106, 3931: 10, 21521: 9.38153798256538, 741: 9.423075991944769, 1639: 7.464171339960516, 4472: 9.310666621981927, 4866: 7.391402776195962, 5391: 7.498822939107583, 521: 8.879157427937916, 584: 9.210317779565566, 659: 9.767351369191433, 792: 8.562626262626264, 1007: 8.386144108966251, 1008: 8.235140882509304, 1010: 9.562626262626264, 1011: 8.562626262626264, 1110: 9.879157427937916, 1593: 8.707415916103358, 1815: 9.263562592214276, 3221: 9.645814312961573, 6280: 9.198007121084045, 7375: 9.430007751110356, 8857: 9.582825891319194, 14131: 8.398183735166725, 18893: 9.315719847390776, 75: 9.495397008055235, 113: 10, 256: 9.802534471297461, 299: 7.681732056289076, 421: 10, 478: 9.034009849799324, 554: 9.297773654916512, 555: 8.502797202797202, 873: 9.646080579528684, 1142: 9.991851601793144, 1143: 7.599871959026889, 1230: 7.40405138339921, 1746: 6.635254988913526, 1810: 6.340722068629045, 2002: 9.097074864631342, 2176: 9.933566433566433, 2795: 7.897780200410301, 3222: 9.933566433566433, 3223: 9.933566433566433, 3349: 9.933566433566433, 8917: 7.06461038961039, 8934: 9.514450354709133, 9314: 9.130161671583773, 9751: 10, 10372: 8.857218318450203, 10659: 8.391485728079694, 10870: 10, 11021: 9.085610520585952, 11227: 8.782099343955014, 13599: 8.93074188280639, 16870: 9.381510701183808, 18055: 8.156340474811813, 20533: 7.916984213391398, 23325: 7.916984213391399, 390: 8.885537129215418, 990: 9.419751110478812, 1254: 9.40381237876389, 152: 8.6475935828877, 350: 6.180250783699059, 486: 8.395910593974817, 576: 7.894526622725754, 710: 8.67535776997869, 953: 9.640677700642103, 1594: 9.751235147732151, 1601: 9.726345083487939, 1699: 9.534000719146329, 1884: 8.92381562099872, 2752: 9.855436644262324, 5460: 9.835175282234106, 6438: 10, 6467: 10, 12079: 9.449610993300727, 8634: 9.195709423426814, 16732: 8.984154309353876, 19021: 9.224730538886044, 23269: 9.311461388074292, 31376: 9.015238998586849, 2994: 9.154945660211034, 14349: 9.626499798616104, 19489: 9.573737373737373, 25839: 7.782099343955014, 32108: 8.42950653734834, 32551: 8.762839870681674, 32681: 9.241597734097734, 12957: 9.818328368842069, 6151: 8.78008252570469, 6875: 8.00783699059561, 9130: 10, 27891: 8.541299594829752, 12031: 9.253888226230865, 15565: 8.760599706129154, 19365: 10, 21677: 7.549211628479922, 289: 6.6515151515151505, 347: 5.590909090909093, 836: 7.8896103896103895, 1045: 8.465909090909092, 437: 10, 16664: 9.825760322421752, 17389: 9.766703604256346, 20057: 9.818833864092033, 21743: 8.927646012817803, 23327: 10, 29589: 7.709159261790841, 30123: 9.669691652595832, 31173: 10, 31174: 9.833552982321455, 31229: 10, 31318: 9.542591882254328, 15: 9.645285345958296, 17: 9.728063453242305, 114: 9.957017455230055, 156: 8.83652849709278, 162: 10, 175: 10, 201: 10, 207: 10, 221: 9.694848484848485, 229: 8.239594349320594, 252: 9.106999195494772, 275: 7.208994793414082, 281: 7.702797202797203, 293: 8.62569355527102, 358: 8.22905138339921, 366: 7.882697947214076, 389: 10, 404: 8.948910720600217, 420: 5.89712918660287, 445: 7.584848484848486, 471: 7.599871959026889, 488: 8.094991342084974, 524: 8.821184914370543, 529: 9.569796874559799, 543: 9.96934285087418, 546: 9.769794721407624, 558: 8.945344020415682, 563: 7.541711229946525, 573: 8.441311069882499, 581: 8.473737373737373, 590: 8.926968868844, 595: 8.652678688668097, 615: 9.377636604063213, 637: 7.923815620998719, 656: 8.701382901725367, 664: 9.046860464922245, 669: 6.443181818181818, 704: 9.490704970796134, 713: 9.223781653437905, 743: 7.839023554159851, 748: 9.895646606914212, 760: 9.895215258199478, 785: 9.152501344809037, 811: 9.662004662004662, 822: 9.80419672919673, 845: 9.452656595312883, 860: 7.981002345214019, 876: 10, 880: 9.489856309574622, 881: 8.224012072987371, 920: 8.804907481898631, 921: 9.804907481898631, 950: 7.625625300625301, 962: 9.963916225426376, 964: 7.92381562099872, 974: 8.715693822945257, 979: 8.28050123326286, 1015: 9.308383672509802, 1023: 10, 1067: 8.031111079140832, 1084: 9.702797202797203, 1191: 7.584848484848486, 1202: 9.88961038961039, 1231: 8.941311069882499, 1253: 9.247963501880982, 1260: 6.427218614718614, 1271: 7.635254988913525, 1285: 8.76940133037694, 1338: 6.152501344809037, 1379: 8.99099871959027, 1384: 8.293794824578407, 1468: 10, 1543: 7.90939592554761, 1611: 6.465909090909092, 1679: 9.2075527509367, 1749: 8.92381562099872, 1766: 9.465909090909092, 1800: 9.562626262626264, 1807: 8.138406537282943, 1816: 8.48909858074415, 1830: 9.307845900869157, 1842: 9.445344020415682, 1862: 8.75242804262768, 1888: 8.856281492145488, 1913: 9.96491265779082, 1952: 8.182379349046016, 1996: 8.769794721407624, 2041: 8.849107744107744, 2108: 8.930937042902357, 2112: 9.643701198267625, 2123: 8.602050757747346, 2159: 10, 2161: 6.473737373737374, 2166: 8.01334480994635, 2175: 9.99099871959027, 2205: 9.996598786533516, 2330: 8.412521440823328, 2563: 9.368540305724878, 2564: 8.313306411897962, 2730: 7.473920050749539, 2743: 10, 2808: 8.503621378621379, 3080: 8.566302118933699, 3085: 8.772589081460268, 3226: 9.445344020415682, 3297: 10, 3318: 10, 3352: 8.692992510291466, 3389: 8.319310996140263, 3515: 9.390820644738124, 3593: 10, 3620: 9.297773654916512, 3785: 9.489202990981644, 3887: 10, 3954: 7.6475935828877, 4130: 7.846503988032145, 4705: 10, 4772: 9.731442867293117, 4811: 7.907655502392345, 4879: 9.044943292002115, 4884: 9.114598335950332, 5028: 9.945344020415682, 5042: 8.715200969933745, 5080: 10, 5228: 10, 5369: 8.067099567099566, 5957: 9.25068181818182, 5978: 9.906260319782668, 6154: 10, 6291: 9.252106872922933, 6368: 8.338589981447125, 6548: 9.569015151515153, 6794: 8.92381562099872, 6882: 9.92381562099872, 7079: 7.556130134128566, 7135: 9.75151515151515, 7474: 8.668782906082354, 7559: 9.730647899311968, 7655: 7.960565924142083, 7720: 10, 8101: 9.03050044917724, 8348: 10, 8599: 6.272380291464263, 8915: 9.709381671593412, 9124: 10, 9624: 9.229006674440111, 9735: 10, 9741: 7.024073975861625, 9911: 5.486721144024514, 10012: 8.399262899262899, 10187: 9.03050044917724, 10196: 9.23996652120048, 10219: 7.275855181133334, 10249: 9.52286728455926, 10519: 9.76940133037694, 10808: 8.399814471243042, 10928: 9.634050081654872, 10933: 8.36166967976884, 11209: 10, 11441: 9.171027346637104, 11837: 8.555380870321795, 12067: 9.955436720142604, 12449: 6.110897951605916, 12531: 9.599460887663277, 12669: 8.638906336511127, 12685: 8.331002331002333, 12823: 10, 13263: 9.724650724049704, 13391: 7.959632446318506, 13851: 9.478110712500452, 14407: 8.873366892211429, 14751: 8.625184177519152, 15059: 10, 15391: 7.456109900373599, 16201: 9.763851548062075, 16656: 8.152501344809037, 17080: 9.495397008055235, 17157: 8.91514167635046, 17549: 9.611749441198238, 17637: 8.394115992652207, 17643: 9.38153798256538, 17725: 9.2075527509367, 18039: 10, 18045: 8.19818181818182, 18851: 9.121738252301196, 19109: 8.713535230401753, 19255: 9.2075527509367, 19391: 7.9630404671208455, 19613: 10, 20035: 8.2075527509367, 20509: 8.549167145626935, 21167: 8.345959595959597, 21473: 9.27336689221143, 21541: 9.121738252301196, 21667: 9.399262899262897, 22117: 8.95835600636377, 22507: 10, 22689: 8.909716728721254, 22961: 9.163805136262134, 23311: 9.911021664081654, 23725: 8.744107744107744, 24175: 8.949760765550238, 24227: 9.38423240823629, 24261: 8.681943523243001, 24835: 6.152501344809037, 24893: 9.512522060530076, 25011: 8.552340968769785, 26057: 9.2075527509367, 27525: 8.491420813765657, 27911: 8.573035638885514, 27957: 8.840571058571058, 28215: 9.112819499341239, 28537: 7.694848484848485, 28979: 8.932037886925105, 30056: 8.378686493598808, 30191: 9.088674589030003, 30250: 9.38153798256538, 30549: 9.495397008055235, 30901: 8.206190610723317, 30915: 8.339848484848485, 31430: 8.976019996801416, 31552: 8.794545366751038, 31553: 9.392001461909144, 31706: 9.67388871697699, 31711: 7.709159261790841, 31715: 10, 32553: 8.88407940577138, 32947: 5.525837032166145, 33142: 9.916984213391398, 54: 8.31001209352034, 1111: 10, 1581: 8.831525035379743, 1750: 8.92381562099872, 1994: 7.599871959026888, 2030: 8.17864693446089, 2130: 9.145093832663958, 2784: 9.92381562099872, 3231: 9.911277056277058, 4415: 9.249089691597641, 4903: 8.833228935417608, 5507: 10, 5671: 10, 5859: 9.933566433566433, 5940: 8.875138197698492, 6007: 9.82901452048124, 6098: 9.162867284559258, 6802: 10, 9618: 7.170615880550611, 9736: 8.259236477918092, 10357: 9.003181818181819, 10582: 8.242730893460813, 10798: 9.562675374937095, 12149: 8.374980691919601, 12281: 10, 14173: 9.2075527509367, 14293: 7.247472968014643, 14629: 7.154916512059369, 14941: 9.250101509705575, 15325: 8.874966141768247, 15617: 9.318181818181817, 16385: 8.932037886925105, 17535: 8.565455386778845, 17875: 8.193181818181817, 18713: 9.2075527509367, 23319: 8.649230920922895, 25859: 8.573737373737373, 26023: 9.2075527509367, 26449: 9.2075527509367, 30740: 8.91550751639359, 31326: 9.29454536675104, 31737: 9.064321683254704, 634: 8.682554287817446, 8142: 10, 9332: 9.76048466524657, 5762: 9.393650700760084, 12477: 9.027102689901293, 440: 8.701534286608913, 585: 9.913212845696247, 731: 9.694331839681041, 850: 9.018132411067194, 1246: 9.599871959026888, 2153: 8.570355731225296, 4548: 8.331607744107744, 6152: 8.183046683046683, 7861: 9.657467532467532, 8187: 7.457696244642058, 9776: 9.302442389845279, 1335: 8.382143463692646, 2899: 8.53690143225027, 3485: 8.182379349046016, 4970: 9.046831088636754, 6064: 9.772727272727273, 6884: 8.137414056531703, 3656: 8.57535805316179, 5231: 9.182763956257933, 6787: 5.40909090909091, 7058: 9.173737373737374, 7669: 10, 7705: 6.784848484848485, 8449: 8.56649099692578, 8560: 10, 10507: 7.8705627705627705, 11339: 9.594016476369418, 178: 9.135386119257085, 770: 10, 820: 9.493181818181819, 885: 10, 1029: 9.419268774703559, 1030: 8.536057158789497, 1049: 10, 1205: 9.803353079668867, 1370: 9.66785172465532, 3326: 8.538181818181819, 3401: 9.80335307966887, 3701: 10, 3841: 9.217807586692912, 4037: 8.758459595959597, 4458: 8.576802507836991, 4872: 9.742642249836495, 6774: 9.963244418023452, 7785: 9.693867311559913, 8068: 7.801383997358575, 9120: 9.342905903446294, 10083: 8.473737373737373, 10448: 10, 18661: 8.963414084895112, 24701: 10, 25681: 10, 31483: 10, 32915: 9.794545366751041, 589: 10, 933: 9.599871959026888, 949: 9.555518116674529, 1002: 10, 2986: 8.923981050613216, 4038: 8.228438228438229, 8666: 10, 15911: 8.414760512576715, 23225: 9.07242903213729, 24451: 8.054292929292929, 29787: 7.586999022482894, 30279: 9.879353311788842, 30902: 9.490720565355886, 490: 8.31205569205569, 2589: 10, 3419: 8.804907481898631, 724: 8.08322245623573, 736: 10, 2150: 10, 2313: 10, 2417: 8.149353786310307, 6203: 8.102439421044071, 7110: 7.975946856895338, 11355: 10, 23441: 9.882697947214076, 320: 7.851495661594225, 441: 8.095255506810634, 975: 9.804907481898631, 976: 9.804907481898631, 1177: 8.318181818181818, 1441: 8.338589981447125, 1592: 8.891711229946523, 1690: 10, 1858: 8.729619215296776, 2164: 9.484615168670754, 3219: 7.876151391613259, 3342: 8.646341730589771, 3466: 9.92381562099872, 5597: 9.2075527509367, 6712: 9.2075527509367, 7588: 7.803475935828877, 8100: 8.470724191063175, 9107: 9.250884774140589, 10893: 9.42074592074592, 1838: 7.42929292929293, 1890: 9.422659430122117, 3713: 9.994786409942787, 5774: 9.570355731225296, 6904: 10, 3090: 9.566302118933699, 501: 9.42077441077441, 618: 8.094589732945897, 1485: 10, 2547: 9.6763907734057, 4447: 10, 9963: 9.62664815045116, 10350: 10, 667: 9.213306411897962, 838: 7.318181818181818, 1358: 9.651515151515152, 1654: 7.713306411897962, 2403: 8.811475470374763, 5914: 7.550903906749937, 6164: 9.612299465240643, 6867: 10, 7768: 8.30592128178335, 9014: 9.100790513833992, 10308: 10, 10739: 9.504952434952436, 11341: 9.24921630094044, 13709: 9.389831814329499, 14515: 7.78013833992095, 14669: 9.571521779655752, 18495: 6.938871473354233, 25519: 8.950140581068418, 25907: 6.589786756453423, 383: 9.502797202797204, 1694: 3.49415196743555, 2608: 9.961357392607392, 2942: 7.804907481898633, 4196: 8.61924841835393, 5178: 8.135534120672125, 5196: 8.797228321426232, 8023: 7.975097500386596, 9047: 9.61928350105518, 14175: 10, 20543: 8.57905138339921, 31741: 10, 32281: 10, 9907: 10, 10075: 9.437593548260951, 11033: 10, 12637: 10, 12979: 10, 14951: 10, 17205: 8.073737373737375, 20745: 9.5907848144365, 20877: 10, 24997: 9.426574429155075, 32026: 8.338589981447125, 34240: 10, 4460: 6.673101919106966, 1412: 9.340779414530598, 7304: 8.99260042283298, 12117: 9.11617543423289, 14735: 9.11617543423289, 16528: 10, 21419: 8.82009700286034, 25567: 8.29686845412652, 28619: 9.495397008055235, 28625: 4.31818181818182, 28755: 9.744114193909892, 32365: 8.79454536675104, 579: 9.369740044275824, 841: 10, 1224: 8.210654936461388, 1896: 9.82695913701482, 2871: 10, 4596: 9.92381562099872, 6768: 10, 9203: 8.261686520592622, 9865: 10, 11031: 5.694848484848485, 13267: 9.2075527509367, 16273: 7.3992628992629, 16700: 9.175324675324678, 17273: 9.268181818181818, 17849: 7.152501344809037, 19799: 8.152501344809037, 22673: 8.616427432216906, 22859: 9.2075527509367, 29809: 9.38153798256538, 859: 7.841702855208398, 875: 10, 4672: 10, 11491: 8.771216681158224, 11889: 10, 12231: 9.348061667767661, 13377: 10, 14835: 9.035923753665688, 18099: 10, 1847: 8.487470575966153, 2602: 7.522328963765716, 5039: 8.061769985695086, 10191: 9.2075527509367, 14617: 9.2075527509367, 33421: 7.495397008055235, 694: 8.765617715617715, 940: 8.712547092315411, 1096: 9.709159261790841, 1262: 6.442075623491553, 1722: 8.77046434250289, 11001: 10, 11161: 8.126237373737375, 12367: 7.77972027972028, 13731: 7.566302118933699, 2363: 8.343512962133651, 5941: 9.843024104620973, 1808: 10, 3464: 7.989054275145825, 8490: 8.070759137769446, 277: 10, 870: 8.392255892255893, 8211: 9.355412034009156, 10417: 8.817164375519813, 250: 9.16876028851215, 1526: 8.62047877582597, 1565: 5.950365726227795, 2832: 8.904137242632817, 6178: 6.673181818181819, 7596: 9.20286728455926, 7730: 10, 3323: 6.9596159979345735, 19319: 10, 24625: 9.715617715617716, 31904: 8.495397008055235, 2156: 7.482927543621258, 15313: 7.46095133759299, 20267: 7.152501344809038, 1013: 10, 823: 7.381537982565379, 2798: 7.170657692252377, 4473: 9.32533745324443, 15097: 8.705017633589062, 20655: 7.198181818181819, 21073: 8.399262899262899, 30524: 10, 31994: 6.383116883116883, 32023: 7.706190610723317, 32682: 9.152501344809036, 2842: 8.987803811308964, 24627: 9.966899766899767, 31733: 8.900271370420624, 20479: 7.647295742232451, 1588: 9.339920948616601, 7066: 10, 12665: 7.957252517869147, 12679: 8.84637345372832, 15771: 9.251706621196591, 2969: 10, 719: 9.81025188292269, 5902: 10, 621: 10, 3057: 9.74726345083488, 3121: 8.710982839056598, 4195: 9.013007958109254, 6399: 9.01048951048951, 7748: 8.38153798256538, 8481: 9.566302118933699, 8668: 7.51578660860098, 9202: 7.895646606914213, 9328: 7.381537982565381, 16239: 8.869859900373598, 18229: 8.33899757064314, 18411: 8.852772160015785, 21557: 10, 837: 7.873004626601749, 125: 9.207575357947253, 197: 7.186398872445384, 200: 7.7697947214076235, 417: 8.284303711270002, 670: 8.798549655878176, 1219: 9.02099871959027, 1471: 7.486721144024514, 1472: 7.486721144024514, 1570: 8.213182347609646, 1659: 10, 2132: 8.92381562099872, 3614: 8.960565924142081, 4798: 8.01048951048951, 5220: 8.135956899327427, 5504: 8.439677145284621, 5973: 8.507074668957358, 9598: 8.229444537332988, 11371: 9.233549948652923, 16910: 8.763913010066858, 830: 8.38153798256538, 1525: 8.017722444079032, 1668: 9.900203923697898, 1670: 9.562626262626264, 2006: 8.918157004286035, 2263: 9.325331372799727, 2398: 8.985211158949891, 4197: 8.49288061336254, 4874: 7.182379349046017, 5458: 8.488304798649626, 10015: 4.818181818181819, 10470: 9.38153798256538, 22777: 10, 24405: 9.513147295742233, 25517: 9.363150984037059, 27815: 4.755681818181818, 29976: 9.495397008055235, 6408: 9.15673660580323, 126: 8.935605461163302, 668: 9.92381562099872, 738: 7.284413161465401, 910: 8.247850632183669, 1184: 8.784994910343748, 1218: 8.003586694815514, 1721: 8.92381562099872, 1852: 9.133698467734988, 1988: 8.837665386256935, 2170: 8.51116427432217, 2772: 8.869374620322787, 2905: 8.577474026132291, 3166: 8.837665386256937, 3549: 8.44207562349155, 3577: 9.92381562099872, 3653: 9.910826930679455, 5333: 8.577474026132293, 5521: 8.702045005373277, 5713: 9.742642249836496, 8507: 8.577474026132293, 8624: 10, 8726: 9.846503988032143, 8918: 9.156786286429805, 9159: 9.455174976866951, 10444: 9.489534520462357, 10572: 7.954228323333586, 10643: 10, 11079: 8.30379220325888, 11255: 8.577474026132291, 11385: 9.48003600065456, 12119: 7.77972027972028, 12431: 9.648457047539617, 12907: 6.152501344809037, 14645: 9.339676527176529, 14653: 8.87056277056277, 15863: 10, 16395: 10, 16405: 8.751515151515152, 16982: 7.8705627705627705, 17681: 8.286753246753248, 17909: 9.184900293651475, 19023: 8.756417112299465, 20431: 8.161337474425585, 21821: 7.32541980312681, 22225: 8.621417530862516, 24011: 7.589786756453423, 25429: 8.06741533887676, 28221: 9.48739761350996, 30355: 7.987397613509962, 30365: 5.70915926179084, 30384: 9.152501344809039, 30795: 8.916984213391398, 31147: 8.694848484848485, 31223: 9.542591882254328, 31790: 7.753385484922411, 31804: 7.64092375366569, 32245: 8.495397008055235, 32360: 8.495397008055235, 32370: 9.818181818181818, 83: 9.635254988913523, 287: 9.681347115391086, 551: 8.897129186602871, 1050: 8.795967338894167, 1916: 8.839920948616601, 1917: 8.839920948616601, 2747: 9.618181818181817, 3574: 9.56649099692578, 6919: 8.740787182166493, 6920: 7.473737373737374, 5097: 7.170657692252377, 3861: 8.939337872794553, 4786: 9.013007958109256, 6893: 8.905033809695212, 9308: 10, 10380: 10, 11879: 10, 21267: 6.819611244416776, 21325: 8.152501344809036, 21771: 8.651411760282729, 22377: 7.152501344809037, 30948: 8.38153798256538, 2155: 8.92381562099872, 5337: 8.23847391440175, 30385: 9.38153798256538, 11755: 8.756957328385898, 16335: 10, 14627: 10, 26: 9.926930596285434, 665: 8.79283088585414, 666: 8.79283088585414, 3603: 7.399262899262898, 3674: 8.757964938407687, 7367: 9.20412140771078, 10479: 9.2075527509367, 10807: 10, 13183: 9.2075527509367, 16287: 9.166526567040265, 19123: 9.741164248199686, 19165: 9.2075527509367, 19511: 8.356624203039772, 22661: 10, 23237: 9.2075527509367, 23775: 10, 23777: 9.38153798256538, 25045: 8.694848484848485, 25313: 9.839479992624009, 30347: 9.76846455153639, 31128: 8.38153798256538, 31561: 8.36006398200625, 32122: 10, 1401: 8.451310649067498, 5464: 9.44866229558318, 1069: 9.93012211668928, 2816: 9.930122116689283, 548: 7.731974921630094, 2265: 9.01048951048951, 4094: 9.597371170873894, 6172: 9.772835649433869, 11359: 10, 12015: 9.202707187962758, 12017: 9.648457047539617, 13239: 10, 15847: 7.981818181818182, 19193: 10, 22677: 8.715442092154422, 27411: 9.104311955168118, 2950: 8.799659486854608, 644: 9.2075527509367, 840: 8.930122116689281, 4794: 6.954545454545455, 20359: 7.709159261790841, 12057: 8.268227247312375, 23587: 9.035923753665688, 10336: 9.538181818181819, 2595: 9.20125874125874, 3627: 10, 32491: 9.514084478832855, 593: 8.92381562099872, 6361: 10, 7744: 7.92381562099872, 8230: 8.549820236260913, 9063: 8.475097500386596, 10108: 9.2075527509367, 12419: 10, 15811: 8.8502860944416, 18619: 9.573741506858136, 19697: 8.2075527509367, 22759: 9.2075527509367, 23447: 10, 23619: 9.2075527509367, 23989: 10, 24695: 7.053346653346653, 25689: 9.2075527509367, 26183: 9.2075527509367, 27601: 9.2075527509367, 29027: 7.70915926179084, 29101: 7.549820236260914, 30237: 9.2075527509367, 31096: 7.694848484848484, 32215: 10, 334: 8.166666666666664, 446: 7.7681818181818185, 447: 9.768181818181816, 520: 7.166666666666665, 1692: 6.77972027972028, 8310: 9.368181818181819, 1072: 9.056379098444284, 1212: 9.301804766921329, 1631: 8.566302118933697, 1734: 8.143293661402312, 3088: 8.728211316706892, 3089: 7.911512703196321, 6885: 9.2075527509367, 163: 8.138406537282941, 1459: 10, 2789: 6.383116883116883, 1101: 7.502797202797202, 1144: 7.502797202797204, 8197: 9.923263487873289, 21189: 8.818181818181817, 30206: 8.898993924759942, 31121: 8.916984213391398, 10622: 9.547055692055693, 25345: 8.538193233706934, 31630: 7.759733860342556, 24543: 9.320761183261185, 5675: 9.849424831819197, 747: 8.669268774703557, 1041: 10, 1042: 10, 1216: 8.570355731225296, 1640: 8.640697346132129, 2238: 10, 5784: 10, 1060: 10, 6115: 8.58885162456591, 365: 7.51927316644708, 734: 8.570355731225298, 755: 8.756548179218987, 1035: 8.570355731225295, 1217: 8.570355731225296, 1637: 5.5703557312252965, 1908: 8.596442687747036, 2220: 8.570355731225296, 2355: 9.465909090909093, 2592: 8.178646934460888, 5719: 9.570355731225295, 8475: 10, 13171: 9.371705217859065, 17843: 10, 31289: 9.38153798256538, 32664: 10, 33934: 9.3992628992629, 33222: 8.9169842133914, 15933: 10, 30714: 9.26701966368721, 428: 7.35168057748703, 429: 9.644794191435983, 688: 10, 689: 9.502797202797202, 30137: 8.602278134923038, 354: 8.138406537282941, 1359: 8.297773654916512, 1407: 4.622529644268775, 1681: 10, 1787: 10, 2367: 5.856281492145488, 2432: 4.8399209486166015, 2873: 8.455479876874975, 2884: 8.955436720142602, 3532: 10, 4205: 9.27251387110542, 4421: 5.856281492145488, 7411: 9.835351560330174, 9874: 9.331022909674596, 9970: 7.255118755118754, 10501: 9.42074592074592, 10502: 9.420745920745919, 10827: 8.268227247312375, 10884: 8.573995771670191, 17867: 10, 31138: 8.595181909734903, 32323: 7.4928806133625425, 1107: 10, 4039: 10, 1769: 9.27881257416141, 2154: 10, 2981: 6.118279857397505, 3842: 10, 17269: 8.359348032827304, 18617: 9.719478114478115, 19653: 7.79023569023569, 1961: 8.580299950726781, 2199: 7.900271370420623, 2354: 9.46590909090909, 2429: 9.46590909090909, 13405: 4.30636313075134, 28299: 7.9926004228329806, 497: 8.8001476055802, 580: 10, 1408: 8.694848484848485, 1972: 7.844497607655505, 2487: 9.51578660860098, 3174: 8.19818181818182, 6401: 9.787066555175207, 6946: 8.648457047539615, 7261: 10, 8337: 9.42074592074592, 10547: 8.68067550373734, 12429: 6.538181818181819, 13115: 9.562626262626264, 15431: 7.77972027972028, 20723: 9.694848484848485, 26359: 6.7753246753246765, 4450: 9.2075527509367, 4765: 9.694848484848485, 10122: 8.19818181818182, 16199: 8.951200617892592, 30344: 9.03592375366569, 1912: 6.5703557312252965, 3001: 9.287592512643394, 13429: 6.152501344809036, 27441: 9.338589981447125, 28105: 8.694848484848485, 32313: 9.694848484848485, 1824: 8.411931818181818, 1065: 10, 2500: 8.17003367003367, 11679: 8.76940133037694, 10918: 10, 27663: 8.763636363636364, 160: 10, 253: 10, 385: 9.518181818181816, 489: 8.20238972046276, 814: 10, 815: 6.570355731225297, 844: 8.647593582887701, 995: 9.855436644262324, 1425: 9.7569573283859, 1426: 9.7569573283859, 1435: 10, 1489: 7.198181818181818, 2158: 9.544848484848487, 2332: 8.566302118933699, 2399: 8.003367003367003, 2448: 9.182379349046016, 2449: 9.182379349046016, 2560: 9.538181818181819, 2928: 10, 3269: 8.87521700030308, 4053: 9.497977100780838, 4156: 7.907655502392345, 4320: 8.7569573283859, 5072: 8.968181818181819, 5225: 8.42074592074592, 5351: 8.013367003367003, 5751: 10, 6379: 7.742642249836495, 6783: 9.817427291018841, 8097: 9.420745920745922, 10334: 9.23561166437179, 10348: 7.152501344809036, 10477: 9.20286728455926, 11483: 10, 13203: 6.4207459207459205, 13863: 7.0814954276492745, 15719: 9.551599678925456, 15729: 8.414333545461528, 18343: 9.451200617892592, 19727: 9.38962784793954, 19845: 9.2075527509367, 20039: 9.2075527509367, 21195: 8.109021130713105, 23301: 9.100790513833992, 23427: 8.131992616470475, 23487: 9.2075527509367, 23697: 10, 24171: 9.2075527509367, 24713: 8.152501344809037, 24727: 9.2075527509367, 24935: 10, 28063: 8.79454536675104, 28447: 7.694848484848485, 29853: 9.2075527509367, 30514: 9.2075527509367, 30991: 9.14043110336661, 31234: 6.530681818181819, 31756: 8.38153798256538, 32301: 9.916984213391398, 32740: 8.694848484848485, 33372: 8.38153798256538, 33658: 9.2075527509367, 34085: 10, 937: 9.576802507836991, 961: 8.930122116689281, 1016: 9.694848484848485, 1286: 7.76940133037694, 1341: 8.09507362556143, 1342: 9.09507362556143, 1343: 8.76940133037694, 1647: 9.76940133037694, 2118: 9.933566433566433, 2290: 7.59507362556143, 2497: 9.666210492016944, 2559: 9.928966131907309, 2753: 10, 2825: 7.422659430122117, 2829: 9.593181818181819, 5025: 9.38153798256538, 18953: 9.152501344809037, 20673: 10, 23933: 7.38153798256538, 28683: 8.38153798256538, 8339: 9.570355731225298, 2356: 9.566302118933697, 5419: 6.152501344809037, 7762: 9.93083030329994, 10687: 7.755681818181818, 1179: 8.166666666666668, 13173: 9.90004746384837, 3402: 9.38153798256538, 10391: 5.338589981447124, 10737: 9.594016476369418, 11543: 10, 20365: 7.790649350649351, 9393: 8.19818181818182, 1931: 9.769794721407624, 2817: 9.56818181818182, 5684: 9.769794721407624, 7305: 8.99260042283298, 7471: 8.99260042283298, 8410: 9.56060606060606, 9917: 5.57680250783699, 10257: 9.782099343955014, 14093: 8.643763213530658, 17249: 8.782099343955014, 730: 7.5703557312252965, 752: 7.5703557312252965, 485: 10, 1638: 10, 709: 9.862290345313601, 4795: 8.068462401795736, 254: 9.572046552481336, 972: 7.049617742990925, 1024: 9.76818181818182, 2136: 9.38153798256538, 30375: 10, 2111: 8.49288061336254, 2603: 8.164335664335665, 3165: 9.804907481898631, 5670: 8.938871473354233, 3604: 7.680592269087844, 413: 5.704967163722447, 3287: 3.0170527859237537, 56: 9.465909090909092, 733: 6.5703557312252965, 5332: 10, 10500: 9.514025625790332, 12123: 10, 12501: 8.01048951048951, 14693: 10, 15591: 9.573737373737375, 206: 9.183799188417584, 4021: 8.078148880105402, 977: 8.570355731225296, 1055: 10, 1113: 7.38153798256538, 1386: 6.769794721407624, 1634: 9.297773654916512, 1635: 9.297773654916512, 1636: 7.2977736549165115, 1909: 8.570355731225296, 2188: 5.154916512059369, 2218: 8.416555789569063, 2267: 9.72634508348794, 2372: 10, 2411: 7.769794721407624, 2779: 8.570355731225296, 2841: 6.694848484848485, 2862: 6.4776376781513765, 3040: 10, 3048: 9.38153798256538, 3094: 10, 3105: 8.38153798256538, 3140: 9.38153798256538, 3309: 7.38153798256538, 3411: 5.255118755118755, 3540: 8.38153798256538, 3556: 9.38153798256538, 3557: 8.208730868115534, 3560: 8.38153798256538, 3566: 7.38153798256538, 3583: 8.38153798256538, 3970: 10, 3980: 7.769794721407624, 4463: 8.38153798256538, 4496: 9.38153798256538, 4555: 10, 4601: 7.575666351986502, 4692: 7.38153798256538, 5402: 8.38153798256538, 5545: 7.38153798256538, 5576: 8.38153798256538, 6220: 10, 6635: 10, 1846: 8.88961038961039, 4334: 7.432467532467532, 9322: 10, 32608: 7.495397008055235, 2479: 8.38153798256538, 13117: 8.715442092154422, 13119: 8.715442092154422, 21427: 7.152501344809037, 10178: 10, 1082: 9.502797202797204, 3478: 10, 2202: 10, 872: 9.566302118933697, 2016: 9.562626262626264, 2212: 10, 6741: 9.056200617892591, 5347: 8.455479876874975, 346: 6.77972027972028, 1874: 7.546924645516195, 944: 9.255118755118755, 1602: 9.782099343955014, 231: 7.651515151515151, 797: 6.92381562099872, 7083: 8.92381562099872, 7782: 7.79454536675104, 32051: 8.741164248199686, 16608: 4.99811151556247, 1194: 6.804907481898633, 2724: 9.937968677358597, 13409: 10, 1451: 10, 1785: 5.297773654916512, 22069: 10, 29575: 10, 30614: 10, 31117: 9.38153798256538, 1196: 8.152501344809036, 3859: 7.538181818181819, 32483: 8.495397008055235, 2137: 8.38153798256538, 2867: 10, 3286: 9.255118755118755, 3537: 10, 3636: 10, 3771: 7.742642249836494, 4360: 5.424882498453927, 4763: 8.51578660860098, 7053: 9.595420132862529, 7456: 9.38153798256538, 8110: 9.462806856452676, 9312: 10, 9435: 10, 9588: 10, 9721: 9.38153798256538, 9849: 9.768227247312375, 10392: 8.038193233706933, 10694: 9.818328368842067, 11067: 9.94866229558318, 11523: 10, 11745: 10, 12059: 8.538193233706933, 12143: 10, 12997: 10, 14657: 9.318328368842067, 15537: 9.255118755118755, 16059: 10, 16472: 8.818328368842067, 16474: 10, 17543: 8.318328368842067, 18655: 9.768227247312375, 19859: 10, 20379: 7.255118755118755, 21069: 8.318328368842067, 21097: 9.318328368842067, 21751: 8.818328368842067, 21829: 9.038193233706933, 22429: 10, 23305: 10, 27603: 10, 28311: 10, 28313: 10, 28779: 9.38153798256538, 29085: 9.38153798256538, 29261: 10, 29916: 9.38153798256538, 30243: 10, 30583: 9.38153798256538, 30658: 9.38153798256538, 30812: 10, 31101: 10, 31189: 10, 31400: 10, 31995: 10, 32667: 9.38153798256538, 2286: 10, 2315: 7.38153798256538, 967: 10, 11507: 9.2075527509367, 11583: 9.2075527509367, 1168: 10, 2262: 6.538181818181819, 1544: 7.839920948616601, 4483: 7.566302118933698, 13019: 9.38153798256538, 2117: 9.933566433566433, 2122: 9.933566433566433, 426: 9.46590909090909, 2109: 8.49288061336254, 2935: 7.339655818740946, 1193: 8.92381562099872, 3449: 7.804907481898631, 1980: 9.420745920745922, 2621: 3.5703557312252974, 9032: 8.184848484848485, 28149: 9.2075527509367, 151: 9.420745920745922, 328: 9.166666666666666, 623: 8.12569355527102, 1453: 8.884907732822414, 10683: 9.474983619983622, 11997: 8.38153798256538, 14539: 10, 20849: 8.818328368842067, 24641: 10, 315: 7.647593582887701, 1031: 6.183046683046683, 2017: 10, 2133: 6.502797202797203, 2495: 10, 1356: 10, 2705: 9.838181818181816, 3907: 9.618181818181817, 422: 10, 423: 10, 612: 6.8694746497983825, 1584: 10, 1841: 9.599871959026888, 1780: 8.297773654916512, 3448: 9.42074592074592, 23787: 10, 5259: 8.38153798256538, 222: 9.566302118933697, 5505: 9.731974921630094, 10370: 9.56060606060606, 10033: 10, 3053: 6.175324675324676, 13169: 9.152501344809037, 9442: 10, 10457: 10, 18653: 7.255118755118755, 20377: 8.818328368842067, 1743: 8.636905729928985, 7334: 8.23847391440175, 10330: 9.782099343955014, 11239: 8.399262899262899, 17020: 7.779720279720279, 2396: 10, 5496: 7.769794721407624, 3010: 9.657467532467532, 424: 8.769794721407624, 1804: 8.465909090909092, 2346: 6.76940133037694, 2607: 9.42074592074592, 386: 9.022608622158074, 1249: 8.651515151515152, 2119: 9.933566433566433, 2120: 9.933566433566433, 2121: 9.933566433566433, 11009: 8.531738311752054, 13231: 9.560606060606062, 283: 8.003367003367003, 708: 10, 2810: 9.093181818181819, 8394: 5.6991341991342, 1802: 8.136295962102414, 4200: 7.7697947214076235, 2866: 9.51578660860098, 7266: 9.38153798256538, 11855: 9.38153798256538, 13559: 10, 16642: 7.930524416581167, 2450: 8.635254988913523, 2796: 7.711038961038962, 4082: 9.2075527509367, 1823: 7.618181818181817, 1683: 9.599871959026888, 2326: 9.38153798256538, 2938: 7.618181818181817, 1550: 10, 9056: 8.76940133037694, 13931: 7.657467532467534, 25805: 8.338589981447125, 31740: 8.38153798256538, 32620: 9.390400440914139, 32997: 9.38153798256538, 2437: 5.461038961038961, 3581: 7.38153798256538, 6691: 9.38153798256538, 2542: 8.422659430122117, 6385: 6.954545454545455, 2110: 8.49288061336254, 2713: 9.27553121577218, 6546: 8.38153798256538, 1868: 9.92381562099872, 2911: 9.17864693446089, 1273: 9.186398872445384, 1834: 8.38153798256538, 3918: 9.448779380947931, 7270: 9.188552188552189, 27509: 9.2075527509367, 17371: 9.38153798256538, 1272: 9.186398872445384, 2883: 8.38153798256538, 4399: 9.38153798256538, 6041: 9.38153798256538, 9487: 10, 10553: 10, 2407: 10, 10938: 10, 31018: 9.38153798256538, 12447: 9.2075527509367, 31298: 9.2075527509367, 31283: 8.100790513833992, 1835: 9.05151515151515, 2569: 10, 3271: 7.769794721407624, 3493: 8.05151515151515, 1360: 8.297773654916512, 2446: 10, 3939: 10, 4492: 9.38153798256538, 4493: 7.38153798256538, 6590: 9.38153798256538, 6689: 10, 7708: 6.255118755118755, 8290: 10, 8292: 10, 8654: 8.318328368842067, 11185: 6.255118755118755, 11747: 9.03592375366569, 13057: 7.255118755118755, 13325: 10, 14127: 8.255118755118755, 14543: 8.818328368842067, 14991: 10, 15839: 10, 16638: 9.035923753665688, 16644: 8.318328368842067, 17539: 7.255118755118755, 17541: 10, 18691: 9.263857749914502, 19101: 8.818328368842067, 19103: 10, 19629: 10, 20801: 9.818328368842067, 21349: 10, 21597: 9.110501740844207, 22543: 10, 23719: 9.38153798256538, 24021: 9.38153798256538, 24273: 9.38153798256538, 24745: 9.38153798256538, 25667: 10, 25877: 10, 27363: 8.038193233706933, 27879: 10, 28309: 10, 28961: 10, 29083: 9.38153798256538, 29573: 9.38153798256538, 29705: 9.38153798256538, 29730: 10, 29807: 9.818328368842067, 29808: 9.38153798256538, 29852: 9.38153798256538, 30454: 9.38153798256538, 30460: 8.38153798256538, 30898: 10, 31118: 9.38153798256538, 32423: 9.38153798256538, 4508: 5.198181818181819, 7568: 9.643763213530656, 8965: 8.035923753665688, 11073: 8.070759137769446, 1097: 8.439677145284621, 3729: 8.318328368842067, 4378: 7.38153798256538, 5209: 9.255118755118755, 9009: 9.255118755118755, 924: 8.51578660860098, 925: 8.51578660860098, 1663: 9.003367003367003, 2408: 10, 3576: 7.1053175467247325, 5070: 8.51578660860098, 5290: 10, 5725: 6.694848484848485, 31108: 8.2075527509367, 31736: 9.38153798256538, 33606: 8.38153798256538, 20613: 10, 2211: 8.900271370420626, 10016: 9.42074592074592, 13175: 5.152501344809036, 1387: 9.297773654916512, 2275: 8.38153798256538, 4004: 9.818328368842067, 4600: 10, 4867: 10, 7458: 10, 10258: 9.152501344809037, 10764: 9.38153798256538, 11827: 9.777168407510873, 16187: 7.768227247312375, 1116: 10, 1558: 9.038193233706933, 6941: 7.152501344809037, 1872: 8.05151515151515, 675: 8.38153798256538, 757: 7.618181818181818, 16381: 8.42074592074592, 1284: 10, 1741: 7.92381562099872, 2910: 9.92381562099872, 3640: 9.42074592074592, 5549: 9.38153798256538, 6953: 8.576802507836991, 1123: 9.627705627705629, 1353: 7.186398872445384, 3525: 7.76940133037694, 3685: 9.566302118933699, 3829: 6.1802507836990594, 19287: 9.38962784793954, 6587: 8.92381562099872, 8626: 8.42074592074592, 1153: 9.473737373737373, 22733: 10, 1403: 10, 1837: 6.562626262626262, 2588: 7.038193233706933, 2917: 10, 3308: 9.38153798256538, 5108: 8.38153798256538, 2715: 10, 1274: 8.186398872445384, 2551: 8.38153798256538, 2782: 6.702797202797203, 2990: 7.38153798256538, 3082: 8.38153798256538, 3383: 8.38153798256538, 3454: 8.38153798256538, 3541: 7.38153798256538, 3542: 8.38153798256538, 3562: 8.38153798256538, 3635: 8.075666351986502, 3639: 7.38153798256538, 3890: 9.38153798256538, 2813: 10, 30825: 9.573737373737373, 31560: 9.152501344809037, 12373: 8.38153798256538, 14563: 6.152501344809037, 15409: 9.38153798256538, 3479: 7.538193233706933, 8837: 8.38153798256538, 3728: 8.38153798256538, 10779: 9.743767659824412, 27939: 9.2075527509367, 31056: 8.552340968769785, 3531: 9.38153798256538, 2840: 10, 24327: 8.38153798256538, 28859: 10, 31518: 9.818328368842067, 17251: 9.38153798256538, 13141: 5.152501344809037, 8234: 7.198181818181818, 1757: 9.599871959026888, 1752: 9.599871959026888, 1753: 9.599871959026888, 1754: 9.599871959026888, 1755: 9.599871959026888, 1756: 9.599871959026888, 1758: 9.599871959026888, 12991: 9.2075527509367, 1385: 5.533784188162068, 3895: 8.38153798256538, 3805: 8.92381562099872, 13223: 8.427637678151378, 1515: 5.8971291866028706, 28179: 7.152501344809038, 545: 9.153798256537982, 23579: 9.38153798256538, 1895: 10, 2468: 9.622529644268775, 3564: 7.38153798256538, 3916: 10, 4178: 8.38153798256538, 4365: 10, 4498: 7.38153798256538, 4774: 7.38153798256538, 4821: 7.38153798256538, 5107: 7.38153798256538, 5160: 7.38153798256538, 5651: 10, 6025: 9.38153798256538, 8651: 9.38153798256538, 9375: 10, 9638: 10, 10429: 9.38153798256538, 10575: 10, 10851: 9.268227247312375, 14129: 10, 14661: 10, 14853: 9.900271370420622, 15539: 9.318328368842067, 18959: 8.818328368842067, 19283: 8.818328368842067, 19431: 9.38153798256538, 19523: 8.255118755118755, 19633: 10, 20757: 9.38153798256538, 21059: 10, 21393: 10, 22081: 10, 22347: 9.38153798256538, 22655: 9.38153798256538, 24849: 7.538193233706933, 24851: 10, 25055: 10, 25669: 10, 27413: 9.38153798256538, 27881: 10, 28517: 10, 28519: 9.38153798256538, 30128: 9.38153798256538, 31885: 8.38153798256538, 32484: 9.38153798256538, 3066: 6.818328368842067, 4693: 8.38153798256538, 6685: 9.38153798256538, 6892: 10, 8655: 9.38153798256538, 4586: 8.93012211668928, 4494: 10, 2259: 6.711038961038962, 6093: 7.769794721407624, 677: 8.502797202797204, 2245: 8.502797202797204, 6554: 10, 1720: 8.599871959026888, 18755: 10, 2945: 10, 4699: 9.38153798256538, 3535: 10, 25875: 7.152501344809037, 10421: 10, 3868: 10, 2874: 8.38153798256538, 3826: 7.38153798256538, 7723: 8.338589981447125, 22983: 8.338589981447125, 30168: 10, 4730: 7.38153798256538, 32153: 9.694848484848485, 10101: 7.38153798256538, 14993: 8.818328368842067, 29915: 9.38153798256538, 30132: 9.38153798256538, 30543: 9.38153798256538, 31401: 10, 33138: 9.38153798256538, 33393: 9.38153798256538, 32511: 9.2075527509367, 33750: 9.38153798256538, 4604: 9.38153798256538, 7611: 10, 10384: 7.381537982565379, 14685: 8.51578660860098, 4103: 9.42074592074592, 5054: 8.255118755118755, 5993: 9.38153798256538, 11969: 10, 32267: 10, 9361: 8.2075527509367, 8652: 9.38153798256538, 13917: 7.38153798256538, 31652: 10, 33515: 10, 16345: 8.152501344809037, 2851: 10, 3093: 8.38153798256538, 3824: 7.38153798256538, 5154: 8.38153798256538, 5570: 9.38153798256538, 6903: 7.38153798256538, 23935: 7.38153798256538, 2187: 7.418181818181818, 2480: 8.38153798256538, 2501: 10, 3428: 8.38153798256538, 3529: 8.38153798256538, 3582: 8.38153798256538, 4369: 8.38153798256538, 4489: 10, 4497: 7.38153798256538, 4645: 8.38153798256538, 4697: 8.38153798256538, 5393: 8.38153798256538, 9211: 10, 1819: 7.473737373737373, 14659: 8.255118755118755, 29703: 9.38153798256538, 22785: 7.381537982565381, 34107: 9.38153798256538, 12035: 10, 28657: 6.035923753665689, 5569: 7.38153798256538, 7455: 10, 32959: 10, 15545: 7.152501344809037, 19207: 7.152501344809037, 5568: 10, 10552: 9.038193233706933, 33979: 10, 280: 10, 3584: 7.38153798256538, 3645: 7.38153798256538, 3950: 8.38153798256538, 4017: 9.38153798256538, 4495: 8.38153798256538, 4644: 7.38153798256538, 4717: 8.38153798256538, 4852: 10, 5558: 8.38153798256538, 5575: 7.38153798256538, 10424: 9.38153798256538, 12551: 7.38153798256538, 13379: 9.38153798256538, 34015: 8.38153798256538, 30269: 9.38153798256538, 30741: 9.38153798256538, 30817: 9.38153798256538, 31331: 8.38153798256538, 31403: 9.38153798256538, 33514: 8.38153798256538, 31634: 4.035923753665689, 7247: 10, 5423: 8.38153798256538, 8900: 8.05151515151515, 5193: 7.152501344809037, 31397: 8.038193233706933, 32982: 9.38153798256538, 20391: 7.3992628992629, 5276: 8.570355731225296, 5648: 7.38153798256538, 5567: 7.38153798256538, 6074: 7.769794721407624, 9316: 9.38153798256538, 9341: 7.38153798256538}\n"
          ],
          "name": "stdout"
        }
      ]
    },
    {
      "cell_type": "code",
      "metadata": {
        "id": "iDedgA_Nzh3q",
        "colab_type": "code",
        "colab": {
          "base_uri": "https://localhost:8080/",
          "height": 54
        },
        "outputId": "c3d955f2-8a7b-416e-e4d1-9d399aa882ef"
      },
      "source": [
        "print(predicted1[51133])"
      ],
      "execution_count": 70,
      "outputs": [
        {
          "output_type": "stream",
          "text": [
            "{30: 8.451612903225808, 32: 9.066666666666668, 120: 7.425, 121: 8.709923664122137, 199: 9.21505376344086, 430: 8.394736842105264, 431: 9.461538461538462, 523: 8.705882352941176, 853: 8.441176470588236, 908: 7.874999999999999, 934: 8.295454545454545, 1535: 9.58029197080292, 1689: 8.535714285714286, 1723: 7.277777777777778, 2025: 8.590163934426231, 2167: 8.513274336283185, 2236: 9.0, 2593: 7.555555555555555, 2759: 8.67741935483871, 2890: 8.0, 2966: 8.275862068965518, 3092: 8.444444444444445, 3457: 9.666666666666668, 3470: 8.0, 3782: 7.714285714285714, 3783: 7.5, 3784: 9.172413793103448, 4059: 8.314285714285715, 4081: 9.333333333333334, 4181: 9.16842105263158, 4182: 8.133333333333333, 4224: 8.806451612903226, 4280: 7.166666666666667, 4282: 8.4, 4814: 8.083333333333334, 4898: 8.46875, 5114: 9.5, 5204: 6.666666666666667, 5205: 8.2, 5630: 8.428571428571429, 5680: 8.325, 5681: 8.636363636363637, 6045: 8.615384615384615, 6127: 6.444444444444444, 6351: 7.972222222222222, 6372: 8.461538461538462, 6421: 8.8, 6547: 8.717647058823529, 6553: 8.0, 6573: 7.935483870967742, 6637: 9.166666666666666, 6682: 7.095238095238096, 6707: 7.6190476190476195, 6746: 8.608108108108109, 6862: 8.166666666666666, 7054: 8.567567567567567, 7674: 9.166666666666668, 7791: 8.511627906976743, 8063: 7.666666666666667, 8074: 8.13076923076923, 8408: 8.277777777777779, 8630: 7.421052631578948, 9135: 8.142857142857142, 9253: 9.622641509433961, 9617: 8.2, 9656: 8.363636363636363, 9734: 7.833333333333333, 9756: 8.613333333333333, 9919: 7.748387096774193, 9926: 8.666666666666666, 9989: 9.060975609756097, 10029: 8.833333333333334, 10161: 8.0, 10278: 8.2, 10321: 8.0, 10408: 8.954545454545455, 10604: 8.25, 10620: 8.58273381294964, 10800: 8.5, 10863: 8.68, 11111: 7.641618497109826, 11123: 8.7, 11553: 7.454545454545455, 11633: 8.217391304347826, 11737: 8.363636363636363, 11757: 8.491228070175438, 11771: 8.982758620689657, 11843: 8.636363636363637, 12189: 8.620689655172415, 12355: 9.194444444444445, 12711: 9.4, 13469: 7.166666666666667, 13601: 8.75, 13807: 5.333333333333334, 14227: 8.075471698113208, 14289: 8.151515151515152, 14467: 8.022727272727273, 14513: 8.666666666666666, 14713: 8.666666666666668, 14741: 8.423728813559322, 15037: 6.863636363636364, 15051: 7.8, 15225: 7.774193548387097, 15487: 9.5, 15605: 6.833333333333334, 15687: 8.2, 15879: 8.333333333333334, 16035: 8.75, 16417: 7.818181818181818, 16498: 9.572115384615385, 16592: 7.611111111111112, 16742: 7.638888888888889, 16762: 7.565217391304348, 16866: 9.0, 16894: 9.13793103448276, 16916: 8.428571428571429, 16934: 7.833333333333333, 17259: 8.333333333333334, 17513: 5.625, 18153: 8.033333333333333, 18441: 8.0, 18507: 8.0, 18671: 8.4, 18897: 8.258064516129034, 19111: 8.5, 19221: 7.85, 19429: 7.124999999999999, 19669: 8.5, 20507: 7.857142857142857, 20583: 8.916666666666666, 20689: 7.833333333333333, 20787: 7.464285714285714, 21105: 7.571428571428571, 21327: 7.666666666666667, 21603: 8.5, 21995: 8.5, 22125: 8.5, 22145: 8.833333333333334, 22265: 8.235294117647058, 22319: 8.379310344827585, 22789: 8.565217391304348, 23079: 6.0, 23283: 8.552631578947368, 23289: 8.444444444444445, 23333: 7.166666666666667, 23421: 8.666666666666666, 24211: 7.0, 27633: 8.0, 4975: 7.44, 31: 8.0, 918: 9.56, 1686: 8.303030303030303, 2001: 9.25609756097561, 11977: 8.545454545454545, 11979: 8.6, 11981: 8.8, 12883: 7.75, 15335: 9.714285714285715, 16918: 8.7, 18115: 8.944444444444445, 227: 8.03448275862069, 356: 7.934782608695652, 512: 8.533333333333335, 1575: 9.595041322314051, 2251: 9.333333333333334, 2904: 9.60747663551402, 3002: 9.166666666666666, 3901: 8.333333333333334, 4654: 8.378378378378379, 5040: 9.0, 5081: 8.885245901639346, 5300: 10.0, 6114: 9.25, 6594: 9.076923076923077, 6880: 8.226415094339623, 8888: 8.090909090909092, 8937: 8.304347826086957, 9062: 8.333333333333334, 9260: 7.5, 10087: 8.826086956521738, 10218: 9.0, 10793: 8.26086956521739, 11061: 9.534883720930232, 11577: 8.95, 11597: 8.558823529411764, 11701: 7.0, 11741: 9.076923076923077, 12113: 9.052631578947368, 12115: 9.235294117647058, 13125: 8.470588235294118, 14075: 8.272727272727273, 14345: 8.126984126984128, 14719: 8.956521739130435, 14807: 8.5, 14813: 8.333333333333334, 15039: 8.75, 15197: 7.5, 15689: 8.173913043478262, 15809: 8.148148148148149, 16512: 8.083333333333334, 16782: 8.607142857142858, 16904: 8.0, 17074: 9.055555555555555, 17265: 8.552631578947368, 18679: 8.645161290322582, 19815: 8.125, 20899: 8.8125, 21339: 8.0, 21353: 7.0, 21511: 7.8, 21855: 8.444444444444445, 21881: 7.767857142857143, 22135: 9.75, 22147: 7.666666666666667, 22199: 8.10909090909091, 22297: 8.782608695652174, 22535: 8.843137254901961, 22687: 8.090909090909092, 22729: 7.9523809523809526, 23273: 9.192307692307692, 23281: 8.0, 23321: 8.466666666666667, 23755: 9.04, 23847: 8.631578947368421, 24151: 9.666666666666666, 24415: 9.466666666666667, 24439: 8.5, 24833: 8.428571428571429, 25013: 8.181818181818182, 25183: 7.444444444444445, 25781: 8.692307692307692, 25835: 8.666666666666666, 26055: 9.076923076923077, 26243: 7.7727272727272725, 27631: 7.333333333333333, 27655: 7.2, 27821: 8.333333333333334, 27899: 7.5600000000000005, 27991: 8.5, 28025: 8.625, 28121: 7.657894736842105, 28171: 8.458333333333334, 28223: 8.578947368421053, 28249: 8.0, 28283: 9.0, 28497: 7.777777777777778, 28621: 7.5, 28623: 7.363636363636363, 28701: 9.3125, 28735: 9.0, 28891: 8.875, 28907: 8.380952380952381, 28999: 7.761904761904762, 29758: 7.666666666666667, 29803: 8.266666666666667, 30015: 8.384615384615385, 30187: 6.0, 30276: 9.0, 30654: 8.428571428571429, 30806: 7.0, 30911: 8.0, 31043: 9.06060606060606, 31181: 8.25, 31240: 8.8125, 31251: 8.333333333333334, 31389: 8.0, 31478: 7.8, 31559: 9.0, 31580: 7.874999999999999, 31636: 7.142857142857143, 31637: 8.090909090909092, 31722: 7.666666666666667, 31821: 10.0, 31859: 8.6, 31964: 8.076923076923077, 32282: 8.625, 32379: 6.333333333333334, 32542: 7.833333333333333, 32729: 7.285714285714286, 32998: 8.0, 33091: 10.0, 33558: 7.5, 25: 8.4, 223: 8.728571428571428, 225: 7.661538461538461, 392: 8.714285714285714, 813: 9.03370786516854, 849: 7.938461538461539, 2476: 6.0, 11761: 8.0, 13535: 8.266666666666667, 14527: 8.666666666666666, 14833: 7.904761904761905, 18677: 8.363636363636363, 20973: 8.0, 52: 7.749999999999999, 59: 9.625, 60: 8.333333333333334, 102: 7.5, 104: 8.0, 145: 7.444444444444445, 161: 10.0, 232: 9.777777777777777, 243: 7.466666666666667, 249: 8.037037037037036, 251: 8.0, 341: 8.0, 449: 7.0, 450: 7.428571428571429, 451: 7.285714285714286, 452: 7.428571428571429, 507: 8.8, 530: 7.136363636363637, 531: 8.428571428571429, 532: 7.7, 552: 8.384615384615385, 687: 7.166666666666667, 721: 8.0, 740: 7.090909090909091, 874: 8.0, 877: 8.818181818181818, 882: 7.0, 883: 7.0, 996: 7.714285714285714, 1132: 7.866666666666666, 1239: 7.142857142857143, 1313: 7.708333333333333, 1486: 7.0, 1562: 9.444444444444445, 1669: 6.6000000000000005, 2034: 8.454545454545455, 2116: 10.0, 2923: 8.125, 2961: 8.0, 2971: 6.0, 3731: 8.470588235294118, 4080: 5.0, 4722: 8.857142857142858, 4752: 9.7, 5678: 9.5, 6586: 9.333333333333332, 6811: 9.0, 6964: 8.0, 7082: 8.333333333333334, 9441: 8.5, 9513: 8.275, 11499: 7.827586206896552, 15085: 7.153846153846154, 16518: 7.0, 16706: 8.571428571428571, 16890: 7.0, 19759: 10.0, 20031: 7.923076923076923, 20541: 7.636363636363637, 21405: 8.142857142857142, 21563: 7.666666666666667, 20: 8.236686390532544, 154: 8.21875, 269: 8.705882352941176, 2472: 7.625, 4437: 7.666666666666667, 5030: 6.6000000000000005, 5530: 8.294117647058824, 6325: 8.0, 6895: 9.0, 8246: 7.92, 8768: 8.5, 10589: 7.695652173913044, 11617: 8.117021276595745, 11887: 8.161290322580646, 12461: 6.8, 13667: 8.0, 13759: 8.666666666666666, 1: 9.03076923076923, 6: 8.868421052631579, 33: 8.625, 62: 7.2, 63: 6.888888888888888, 79: 7.590909090909091, 93: 9.5, 94: 10.0, 96: 9.5, 133: 7.0, 146: 8.5, 174: 7.75, 204: 7.0, 226: 8.196969696969697, 241: 7.214285714285714, 270: 8.38888888888889, 291: 7.5, 297: 7.5, 376: 7.666666666666667, 403: 8.0, 448: 8.2, 467: 9.0, 487: 7.818181818181818, 889: 8.511627906976743, 1195: 8.238095238095239, 1519: 8.896551724137932, 1559: 8.631578947368421, 1818: 8.543478260869565, 2494: 7.571428571428571, 2993: 7.655737704918033, 3455: 7.921052631578948, 3503: 7.555555555555555, 3667: 7.615384615384616, 3974: 7.666666666666667, 4063: 7.838709677419355, 4214: 7.857142857142857, 4744: 6.588235294117647, 4999: 7.842105263157895, 5074: 6.5, 5216: 7.5, 5277: 8.037037037037036, 5341: 8.947368421052632, 5682: 8.8, 5781: 8.0, 5958: 8.214285714285714, 6166: 7.357142857142858, 6201: 7.857142857142857, 6205: 7.2727272727272725, 6324: 7.7, 6500: 7.142857142857143, 6633: 5.0, 7088: 7.909090909090909, 7148: 7.363636363636363, 7593: 7.836734693877551, 7724: 8.333333333333334, 8277: 8.153846153846153, 8407: 8.548387096774194, 8675: 8.136363636363637, 8841: 7.755102040816326, 9041: 7.9787234042553195, 9181: 8.0, 9367: 7.9393939393939394, 9936: 7.6, 10079: 7.214285714285714, 10172: 7.624999999999999, 10213: 7.5, 10397: 7.0, 10456: 8.0, 10719: 8.196078431372548, 11759: 8.096153846153847, 12293: 7.407407407407407, 12487: 8.0, 12549: 7.607142857142857, 13161: 8.181818181818182, 13221: 3.0, 13357: 7.894736842105263, 13663: 8.333333333333334, 14749: 8.066666666666666, 15377: 7.0, 15451: 8.0, 15583: 8.228571428571428, 17729: 7.874999999999999, 18001: 7.777777777777778, 18247: 7.277777777777778, 18277: 7.833333333333333, 19151: 6.333333333333333, 19163: 8.05, 19775: 8.125, 20785: 8.095238095238095, 20853: 7.833333333333333, 21033: 6.25, 22547: 6.833333333333334, 24231: 7.374999999999999, 25157: 7.636363636363637, 5060: 7.882352941176471, 7337: 8.4, 8479: 8.2, 28: 8.333333333333334, 47: 8.3125, 90: 8.142857142857142, 136: 9.076923076923077, 164: 8.72, 245: 9.148148148148149, 415: 7.666666666666667, 416: 7.888888888888889, 513: 8.653846153846153, 572: 8.956521739130435, 597: 8.31578947368421, 1140: 7.333333333333334, 1361: 7.222222222222222, 1462: 6.5, 1829: 7.0, 6702: 9.041666666666666, 12049: 8.0, 16662: 8.875, 17187: 9.5, 19191: 10.0, 20021: 7.5, 30458: 8.5, 24: 8.56, 142: 7.75, 460: 8.2, 461: 6.857142857142858, 462: 7.4, 463: 7.0, 466: 6.333333333333334, 578: 8.8, 846: 8.65, 1094: 6.0, 1222: 8.133333333333333, 1237: 6.0, 2020: 7.5, 2104: 8.555555555555555, 2385: 8.0, 2386: 7.499999999999999, 2490: 7.333333333333334, 2680: 7.499999999999999, 2927: 7.857142857142857, 4136: 8.0, 4163: 8.0, 5056: 8.0, 5252: 7.666666666666667, 6512: 7.666666666666667, 8740: 8.5, 9982: 8.142857142857142, 16868: 8.666666666666666, 76: 7.666666666666667, 77: 10.0, 101: 8.32, 238: 7.5, 355: 8.333333333333334, 412: 7.333333333333334, 1066: 8.0, 1840: 8.436363636363636, 2026: 7.888888888888889, 2787: 8.333333333333334, 3654: 7.6, 3712: 8.395833333333334, 4382: 7.310344827586207, 4725: 8.307692307692308, 5118: 7.666666666666667, 5667: 7.785714285714286, 6347: 8.147540983606557, 6773: 7.9411764705882355, 6987: 5.666666666666666, 7311: 7.172413793103448, 7805: 6.8, 7858: 8.153846153846153, 7870: 7.333333333333332, 8302: 8.0, 8424: 7.9411764705882355, 8516: 8.424242424242424, 8577: 5.25, 8769: 7.790322580645161, 9471: 8.0, 9587: 6.0, 10067: 7.703703703703704, 10110: 8.166666666666666, 10155: 8.4, 10209: 7.624999999999999, 10431: 7.5, 10647: 6.999999999999999, 10790: 8.16, 10834: 9.0, 10897: 6.999999999999999, 11266: 7.2, 11285: 7.931034482758621, 11319: 8.25, 11783: 8.0, 12565: 7.5, 13677: 7.0, 14027: 7.818181818181818, 15437: 7.666666666666667, 64: 9.0, 65: 9.0, 150: 8.625, 1482: 8.782608695652174, 1719: 8.6, 1965: 7.666666666666667, 4551: 8.333333333333334, 5262: 8.4, 6896: 7.0, 7059: 7.944444444444445, 8476: 7.714285714285714, 66: 8.566666666666668, 169: 8.125, 591: 7.0, 777: 9.15, 886: 7.5, 1889: 8.586206896551724, 3652: 7.384615384615385, 4896: 8.0, 5955: 7.25, 6213: 8.333333333333334, 6572: 8.625, 6747: 8.090909090909092, 8861: 7.206896551724138, 9379: 7.368421052631579, 9750: 7.285714285714286, 9969: 9.625, 10020: 8.263157894736842, 10119: 8.0, 10396: 7.9523809523809526, 10490: 7.75, 10491: 6.25, 10495: 7.555555555555555, 10578: 7.0, 10681: 6.8, 11179: 7.944444444444445, 11313: 6.25, 11703: 7.529411764705882, 11743: 8.333333333333334, 11785: 7.888888888888889, 11933: 8.473684210526315, 12175: 7.3, 12291: 7.5, 12403: 7.916666666666667, 12445: 8.416666666666666, 12505: 6.0, 12893: 8.333333333333334, 13055: 7.857142857142857, 13367: 7.454545454545455, 13655: 7.909090909090909, 13659: 7.812499999999999, 14189: 8.0, 14199: 7.076923076923077, 14967: 8.21875, 15109: 9.0, 15315: 7.866666666666666, 15417: 9.777777777777777, 15699: 7.888888888888889, 16009: 6.0, 16049: 8.833333333333334, 16355: 8.25, 17741: 7.2, 18195: 8.8, 18397: 7.947368421052632, 18857: 5.818181818181818, 19285: 7.444444444444445, 19315: 3.5, 20449: 7.571428571428571, 20847: 8.166666666666666, 20939: 8.333333333333334, 21431: 8.0, 21659: 8.23076923076923, 21863: 7.0, 24991: 8.0, 25159: 7.111111111111112, 26349: 7.374999999999999, 26441: 6.25, 28819: 6.333333333333334, 29786: 7.562499999999999, 30307: 7.1764705882352935, 322: 7.7272727272727275, 325: 6.833333333333334, 1698: 9.5, 4477: 10.0, 5690: 9.0, 8038: 9.0, 7: 7.25, 27: 7.4, 45: 8.76, 61: 7.428571428571429, 98: 8.875, 99: 7.2, 132: 7.333333333333334, 135: 9.25, 149: 8.0, 153: 8.75, 205: 8.857142857142858, 246: 10.0, 248: 7.363636363636363, 257: 7.2, 326: 7.4, 337: 9.0, 338: 9.5, 343: 9.0, 427: 7.857142857142857, 476: 10.0, 553: 8.5, 863: 8.0, 879: 9.0, 1098: 7.5, 1546: 5.500000000000001, 1579: 9.5, 1604: 9.035714285714285, 1609: 6.0, 1691: 8.08695652173913, 2148: 6.8, 2562: 5.500000000000001, 3268: 6.0, 3392: 9.0, 3588: 8.406976744186046, 4719: 5.500000000000001, 5041: 10.0, 6163: 8.0, 6645: 5.500000000000001, 6793: 8.333333333333334, 7592: 8.833333333333334, 8086: 7.874999999999999, 8525: 7.955555555555556, 8876: 7.285714285714286, 9136: 8.090909090909092, 9539: 8.0, 9675: 8.0, 9981: 7.25, 10049: 8.666666666666666, 10080: 8.333333333333334, 10805: 8.0, 11241: 7.187499999999999, 11751: 7.666666666666667, 11763: 1.0, 12753: 8.0, 14663: 6.5, 14765: 8.5, 15117: 8.4, 17743: 8.0, 19369: 8.285714285714286, 19685: 6.0, 20053: 6.000000000000001, 20767: 7.5, 21067: 5.500000000000001, 21085: 7.285714285714286, 21185: 9.5, 21439: 8.5, 21843: 8.285714285714286, 22043: 8.5, 22101: 8.333333333333334, 22877: 6.0, 23037: 5.0, 23233: 7.333333333333333, 23317: 10.0, 23673: 7.714285714285714, 24455: 7.818181818181818, 25099: 5.750000000000001, 26165: 6.0, 27787: 7.583333333333333, 28617: 7.5, 28927: 7.928571428571429, 29854: 8.0, 30205: 9.0, 30240: 8.0, 30503: 8.157894736842104, 30544: 8.285714285714286, 30831: 7.6923076923076925, 30885: 6.0, 31098: 7.0, 31404: 7.25, 32526: 7.0, 32696: 8.0, 240: 8.0, 371: 9.0, 457: 8.695652173913043, 601: 7.6, 819: 8.0, 855: 8.4, 907: 8.125, 1210: 8.615384615384615, 1813: 8.0, 2508: 8.75, 2605: 8.357142857142858, 2924: 8.833333333333334, 3167: 7.833333333333333, 3210: 9.0, 3467: 7.777777777777778, 4789: 8.9, 6956: 8.0, 7465: 7.8, 8426: 9.0, 9366: 7.909090909090909, 10521: 8.444444444444445, 10711: 7.666666666666667, 15379: 7.769230769230769, 15775: 7.666666666666667, 16067: 8.555555555555555, 16353: 7.666666666666667, 17777: 6.333333333333334, 18139: 7.545454545454546, 20047: 6.999999999999999, 22123: 7.0, 22189: 7.0, 25649: 7.0, 25879: 8.5, 27989: 7.666666666666667, 28297: 8.266666666666667, 29067: 7.1000000000000005, 30705: 9.0, 31414: 8.5, 32093: 8.0, 32268: 7.6, 32828: 7.333333333333334, 7817: 7.678571428571429, 9922: 7.75, 11433: 8.52, 49: 8.5, 50: 8.2, 304: 8.8, 357: 8.058823529411764, 527: 8.257142857142856, 1117: 7.153846153846154, 1118: 7.374999999999999, 1119: 7.230769230769231, 1120: 6.777777777777778, 4792: 9.0, 5526: 7.2, 268: 8.733333333333334, 368: 7.124999999999999, 384: 7.521739130434782, 1696: 6.8, 10418: 7.105263157894737, 71: 8.161290322580646, 72: 8.142857142857142, 73: 8.2, 157: 7.624999999999999, 177: 10.0, 237: 8.961538461538462, 267: 9.0, 481: 7.590909090909091, 894: 6.7272727272727275, 895: 7.3076923076923075, 896: 7.75, 897: 7.571428571428571, 898: 7.615384615384616, 899: 7.642857142857143, 900: 7.461538461538462, 901: 8.2, 902: 7.666666666666667, 903: 7.571428571428571, 904: 6.785714285714286, 905: 7.75, 906: 7.6923076923076925, 984: 6.666666666666667, 985: 8.125, 986: 8.307692307692308, 1571: 8.666666666666668, 1619: 3.0, 1732: 4.0, 3655: 8.2, 4188: 9.0, 4581: 7.833333333333333, 4618: 10.0, 5034: 7.666666666666667, 5079: 8.333333333333334, 6714: 6.0, 8425: 8.583333333333334, 8465: 9.333333333333332, 9331: 7.0, 10017: 7.0, 44: 9.071428571428571, 433: 8.2, 1530: 8.545454545454545, 1726: 7.857142857142857, 2418: 8.714285714285714, 2926: 7.578947368421053, 5365: 8.4, 8422: 7.666666666666667, 11077: 8.333333333333334, 167: 7.0, 210: 7.444444444444445, 239: 8.4, 1292: 7.730769230769231, 2129: 7.624999999999999, 4901: 8.916666666666666, 6675: 8.5625, 6922: 7.545454545454546, 8557: 7.666666666666667, 8795: 8.045454545454545, 9938: 7.666666666666667, 10165: 9.210526315789474, 10378: 7.333333333333334, 12413: 7.857142857142857, 13331: 8.2, 15125: 7.333333333333334, 18119: 8.0, 21507: 6.249999999999999, 23251: 7.2, 26085: 5.666666666666667, 27927: 6.0, 28825: 7.181818181818182, 31374: 7.333333333333333, 31848: 8.0, 32182: 8.142857142857142, 330: 8.454545454545455, 7711: 8.384615384615385, 9330: 7.4, 9515: 7.394736842105263, 9790: 8.666666666666666, 12467: 8.0625, 12729: 7.428571428571429, 12783: 8.2, 16157: 6.666666666666667, 21653: 7.75, 24703: 8.130434782608695, 25015: 7.5, 25397: 7.166666666666667, 27775: 8.083333333333334, 28285: 7.666666666666667, 30749: 7.5, 31338: 6.75, 31442: 7.874999999999999, 31716: 7.0, 32083: 9.0, 32380: 8.0, 32595: 6.0, 8986: 9.0, 137: 9.5, 6211: 8.785714285714286, 10271: 9.0, 5: 8.833333333333334, 1887: 8.0, 4155: 8.692307692307692, 5355: 8.181818181818182, 7338: 8.533333333333335, 7902: 7.6, 8440: 8.0, 23199: 7.75, 23701: 7.5, 27831: 7.8, 28677: 7.666666666666667, 31297: 8.0, 31405: 6.666666666666667, 31704: 7.909090909090909, 31772: 7.166666666666667, 33161: 9.5, 19: 8.923076923076923, 43: 8.413793103448276, 46: 8.5, 53: 7.749999999999999, 57: 9.61111111111111, 67: 8.25, 68: 9.333333333333334, 119: 8.0, 123: 8.5, 147: 8.5, 170: 9.272727272727273, 189: 7.611111111111112, 190: 7.833333333333333, 191: 9.0, 192: 8.0, 242: 8.0, 263: 9.476190476190476, 264: 9.0, 265: 9.1, 317: 8.19047619047619, 323: 8.142857142857142, 339: 8.947368421052632, 377: 10.0, 378: 10.0, 382: 7.0, 387: 8.166666666666666, 394: 8.0, 401: 9.0, 408: 7.4, 411: 7.0, 459: 7.777777777777778, 465: 8.0, 468: 8.444444444444445, 477: 8.375, 502: 7.285714285714286, 517: 8.153846153846153, 587: 8.571428571428571, 594: 7.363636363636363, 624: 9.0, 651: 8.25, 756: 7.0, 759: 9.25, 762: 7.315789473684211, 788: 2.666666666666667, 790: 8.333333333333334, 793: 9.333333333333332, 801: 9.181818181818182, 807: 9.0, 834: 7.388888888888889, 857: 8.159090909090908, 861: 8.6, 891: 7.142857142857143, 892: 7.285714285714286, 893: 7.285714285714286, 935: 7.4, 936: 7.4, 963: 9.0, 969: 10.0, 981: 6.0, 987: 7.0, 1004: 7.428571428571429, 1135: 8.0, 1174: 8.0, 1238: 6.0, 1311: 9.0, 1566: 8.0, 1568: 6.5, 1589: 9.0, 1606: 7.749999999999999, 1733: 10.0, 1738: 9.0, 1817: 7.5, 1827: 8.6, 1860: 8.0, 1943: 8.689655172413794, 2004: 8.0, 2107: 8.0, 2131: 7.545454545454546, 2144: 7.0, 2210: 7.0, 2216: 8.0, 2397: 8.75, 2404: 7.384615384615385, 2520: 6.0, 2596: 7.5, 2683: 8.5, 2889: 8.066666666666666, 2951: 8.125, 2962: 7.25, 2970: 7.0, 3087: 7.571428571428571, 3091: 9.25, 3229: 7.571428571428571, 3230: 8.285714285714286, 3247: 8.0, 3328: 7.2, 3354: 7.666666666666667, 3358: 7.874999999999999, 3359: 8.0, 3446: 7.2, 3613: 8.25, 3616: 9.5, 3702: 8.538461538461538, 3759: 7.5, 3791: 8.5, 3848: 8.0, 3956: 9.142857142857144, 3958: 8.5, 4015: 7.624999999999999, 4087: 8.8, 4106: 7.75, 4107: 8.8, 4134: 8.285714285714286, 4151: 7.25, 4177: 8.333333333333334, 4186: 7.937499999999999, 4550: 8.0, 4565: 9.0, 4720: 7.0, 4726: 8.0, 4760: 8.5, 4835: 8.481481481481481, 4918: 9.0, 5045: 7.666666666666667, 5065: 8.0, 5112: 7.090909090909091, 5150: 8.0, 5152: 6.833333333333334, 5177: 8.818181818181818, 5244: 8.0, 5258: 9.588235294117647, 5279: 7.285714285714286, 5342: 7.8, 5356: 7.374999999999999, 5593: 8.4, 5702: 8.0, 5717: 8.5, 5734: 7.666666666666667, 5764: 8.7, 5772: 6.333333333333333, 6046: 7.5, 6165: 7.0, 6171: 9.0, 6187: 9.0, 6443: 4.0, 6574: 7.285714285714286, 6610: 8.333333333333334, 6634: 8.75, 6676: 8.333333333333334, 6758: 6.0, 6772: 7.666666666666667, 6791: 8.2, 6864: 9.0, 6945: 8.5, 6954: 10.0, 6958: 8.0, 6974: 8.166666666666666, 7017: 7.222222222222222, 7193: 7.4, 7468: 8.0, 7590: 7.777777777777778, 7627: 8.285714285714286, 7647: 7.666666666666667, 7739: 6.6000000000000005, 7769: 7.157894736842105, 7875: 8.0, 8129: 8.352941176470589, 8171: 7.0, 8190: 9.0, 8231: 8.0, 8247: 8.090909090909092, 8460: 7.083333333333333, 8514: 7.0, 8532: 7.75, 8619: 8.0, 9065: 9.0, 9074: 8.25, 9201: 8.9, 9213: 8.666666666666666, 9220: 7.0, 9252: 6.5, 9289: 8.454545454545455, 9355: 8.0, 9362: 8.0, 9396: 7.0, 9510: 9.5, 9544: 8.0, 9745: 8.0, 9760: 8.5, 9834: 6.5, 9863: 7.428571428571429, 9941: 8.666666666666666, 9999: 7.25, 10030: 9.357142857142858, 10073: 6.571428571428571, 10076: 7.0, 10162: 8.24, 10163: 8.055555555555555, 10197: 6.0, 10216: 8.5, 10260: 9.0, 10298: 7.8, 10379: 9.714285714285715, 10460: 8.4, 10465: 8.0, 10568: 8.7, 10588: 7.777777777777778, 10686: 8.1, 10702: 9.0, 10721: 7.928571428571429, 10794: 8.333333333333334, 11113: 7.0, 11665: 9.0, 11739: 8.666666666666666, 11769: 7.0, 12365: 9.454545454545455, 12471: 8.0, 12581: 6.0, 12859: 7.833333333333333, 13587: 8.0, 13939: 7.749999999999999, 14397: 8.75, 16001: 8.733333333333334, 16005: 8.5, 16241: 7.5, 16444: 7.0, 16524: 7.636363636363637, 18179: 9.666666666666666, 18465: 8.0, 18745: 8.0, 19363: 8.833333333333334, 19647: 9.555555555555555, 19703: 9.0, 20977: 7.75, 21329: 9.5, 21939: 9.2, 24277: 10.0, 27833: 7.333333333333334, 28977: 10.0, 32485: 7.0, 550: 7.9411764705882355, 5962: 7.5, 158: 9.5, 196: 7.749999999999999, 444: 9.0, 482: 7.749999999999999, 1729: 10.0, 1836: 7.25, 1983: 10.0, 2581: 8.5, 3468: 10.0, 3469: 10.0, 3750: 10.0, 3927: 8.875, 3972: 6.75, 4192: 8.6, 6023: 8.0, 6287: 6.8, 6288: 8.0, 6951: 9.333333333333332, 8676: 7.826086956521739, 9925: 6.6000000000000005, 122: 8.333333333333334, 159: 9.5, 195: 7.882352941176471, 198: 8.333333333333334, 303: 5.0, 306: 8.0, 393: 7.75, 443: 6.8, 509: 8.0, 564: 7.0, 746: 7.5, 761: 6.6000000000000005, 789: 8.0, 941: 7.0, 997: 8.285714285714286, 1003: 9.666666666666666, 1108: 7.666666666666667, 1198: 7.0, 1240: 7.8, 1278: 5.0, 1557: 6.0, 1564: 7.333333333333333, 1614: 9.5, 1674: 10.0, 1953: 9.333333333333332, 1998: 7.0, 2124: 9.0, 2225: 6.0, 3228: 8.333333333333334, 3366: 6.5, 4026: 8.0, 4490: 7.0, 5163: 9.0, 138: 9.333333333333334, 139: 9.222222222222221, 2952: 9.1, 3572: 8.25, 7222: 5.0, 7580: 8.333333333333334, 11235: 7.444444444444445, 479: 8.0, 516: 10.0, 856: 9.166666666666666, 1470: 7.0, 1473: 6.5, 1536: 7.909090909090909, 1607: 10.0, 2369: 8.5, 2963: 8.666666666666666, 3225: 7.75, 3407: 5.0, 3594: 8.4, 5162: 8.0, 5525: 7.749999999999999, 5909: 7.571428571428571, 6377: 10.0, 6381: 7.749999999999999, 6425: 8.0, 6444: 8.428571428571429, 8311: 8.666666666666666, 8536: 7.1000000000000005, 9479: 6.5, 10447: 7.5, 10464: 7.6, 10611: 6.714285714285714, 12317: 6.874999999999999, 12967: 7.909090909090909, 13333: 8.0, 14353: 8.285714285714286, 14511: 7.0, 14829: 7.5, 15119: 7.25, 15793: 6.0, 16011: 7.6, 16397: 6.0, 16668: 7.333333333333333, 17247: 9.125, 17827: 7.5, 17831: 8.0, 18095: 7.5, 18295: 8.333333333333334, 18753: 8.625, 18767: 5.0, 19769: 7.5, 20517: 7.0, 20555: 5.0, 20931: 7.0, 21177: 7.0, 21273: 7.2, 21561: 6.666666666666667, 21809: 6.0, 22835: 7.0, 24705: 6.5, 24765: 7.545454545454546, 24855: 5.0, 25283: 8.5, 25731: 8.4, 26443: 7.5, 28387: 8.0, 29093: 8.0, 29095: 8.0, 202: 8.833333333333334, 1157: 8.0, 1731: 8.0, 22433: 8.0, 24873: 7.666666666666667, 51: 7.0, 228: 8.25, 514: 7.0, 5306: 8.0, 8995: 8.5, 329: 9.25, 570: 8.8, 658: 9.5, 2246: 9.5, 1956: 8.0, 1532: 7.5, 3375: 9.0, 10497: 9.5, 15195: 7.666666666666667, 19257: 7.0, 27727: 7.5, 296: 7.75, 442: 7.171428571428571, 1121: 6.222222222222222, 1122: 7.75, 2142: 6.25, 2201: 5.499999999999999, 2847: 6.5, 3299: 8.0, 4246: 6.666666666666666, 4981: 8.5, 6033: 8.947368421052632, 6948: 8.6, 7396: 6.5, 9000: 9.0, 9117: 8.0, 9347: 7.0, 9888: 6.666666666666667, 10504: 8.0, 10849: 8.0, 10934: 6.0, 11005: 7.999999999999999, 11013: 8.038461538461538, 11019: 8.5, 12503: 6.4, 12673: 5.999999999999999, 13093: 7.5, 13403: 9.0, 13411: 8.0, 14073: 6.0, 14811: 8.0, 14827: 6.666666666666667, 14893: 7.6, 15133: 5.500000000000001, 15453: 8.0, 15649: 8.0, 15751: 8.1, 16099: 6.6000000000000005, 16694: 7.8, 17121: 7.0, 17391: 7.5, 17409: 5.666666666666666, 17505: 8.666666666666666, 17641: 7.666666666666667, 17821: 8.5, 17895: 7.761904761904762, 18041: 8.5, 18413: 8.0, 18523: 8.2, 19117: 10.0, 19211: 7.333333333333334, 19383: 6.333333333333333, 19841: 9.0, 19855: 10.0, 20045: 8.0, 20545: 8.0, 20649: 8.0, 20709: 7.666666666666667, 21635: 8.0, 21647: 9.0, 21679: 5.0, 21681: 6.5, 21879: 6.5, 22273: 6.5, 22537: 5.666666666666666, 22865: 7.2, 23099: 8.0, 23309: 6.666666666666667, 23433: 5.0, 23945: 7.0, 24031: 6.857142857142858, 24037: 5.0, 24365: 7.75, 24751: 7.0, 288: 6.666666666666666, 464: 8.0, 528: 7.857142857142857, 6877: 8.0, 9581: 8.0, 10638: 8.0, 12069: 9.0, 13629: 8.0, 13859: 6.166666666666667, 14045: 6.0, 14355: 8.0, 15323: 7.5, 15881: 7.0, 16149: 10.0, 16774: 10.0, 17082: 8.5, 17341: 7.0, 17351: 6.0, 18689: 9.25, 20033: 8.5, 20159: 8.23076923076923, 20457: 7.0, 20871: 6.0, 21415: 6.0, 21797: 7.5, 22057: 7.0, 23121: 6.0, 23277: 8.11111111111111, 23383: 8.0, 24135: 8.5, 24913: 9.0, 25161: 8.0, 25241: 6.75, 25687: 6.75, 28391: 9.0, 29317: 7.75, 29785: 6.75, 30127: 6.333333333333334, 30230: 10.0, 30296: 8.3, 30300: 8.0, 30363: 7.333333333333334, 30437: 8.666666666666666, 30782: 7.0, 31080: 8.0, 31091: 5.0, 31143: 5.500000000000001, 31665: 7.0, 31793: 7.0, 31798: 8.222222222222221, 31952: 8.0, 31953: 8.25, 32013: 8.25, 32189: 8.25, 32935: 9.0, 33028: 7.75, 33201: 8.0, 33338: 8.5, 34103: 7.75, 11697: 8.25, 10152: 8.6, 18245: 8.0, 22663: 7.714285714285714, 24075: 8.0, 24133: 7.5, 28805: 8.142857142857142, 30895: 5.0, 31163: 7.5, 32438: 5.6000000000000005, 32648: 6.0, 74: 7.5, 14921: 8.5, 48: 7.5, 58: 7.714285714285714, 80: 9.0, 81: 9.0, 91: 8.666666666666666, 97: 8.8, 100: 8.333333333333334, 107: 6.0, 115: 7.0, 116: 7.0, 117: 7.0, 129: 7.0, 155: 8.333333333333334, 165: 6.0, 168: 7.5, 180: 10.0, 181: 10.0, 182: 8.0, 208: 7.5, 209: 7.0, 272: 7.0, 298: 7.833333333333333, 369: 5.999999999999999, 372: 7.333333333333333, 391: 7.333333333333334, 400: 8.8, 405: 7.0, 419: 8.666666666666666, 435: 7.333333333333334, 504: 9.0, 522: 8.25, 534: 8.5, 535: 8.5, 536: 9.0, 537: 7.0, 538: 6.999999999999999, 539: 8.5, 567: 8.333333333333334, 568: 8.0, 569: 10.0, 598: 9.0, 603: 6.0, 617: 8.428571428571429, 650: 9.0, 673: 10.0, 696: 9.0, 732: 8.0, 763: 7.5, 764: 9.0, 766: 9.0, 779: 8.0, 780: 8.6, 781: 8.6, 866: 9.0, 867: 9.0, 868: 9.0, 869: 9.0, 884: 8.0, 888: 4.0, 909: 8.0, 916: 6.6000000000000005, 957: 9.0, 992: 8.0, 998: 7.0, 999: 6.0, 1006: 6.0, 1017: 7.0, 1019: 8.0, 1043: 7.0, 1051: 8.0, 1074: 6.9, 1088: 9.0, 1152: 8.0, 1170: 9.0, 1171: 8.5, 1172: 8.666666666666666, 1182: 8.0, 1192: 9.0, 1250: 7.8, 1255: 6.5, 1256: 5.500000000000001, 1257: 8.25, 1258: 6.0, 1259: 7.0, 1264: 7.0, 1303: 8.333333333333334, 1362: 8.25, 1365: 9.4, 1416: 9.0, 1430: 8.714285714285714, 1469: 9.0, 1487: 7.0, 1498: 7.666666666666667, 1509: 4.0, 1517: 10.0, 1531: 8.5, 1533: 5.0, 1563: 7.0, 1682: 5.0, 1710: 7.0, 1894: 6.909090909090909, 2248: 6.714285714285714, 2268: 8.0, 2273: 10.0, 2281: 7.0, 2985: 7.0, 3031: 7.0, 3032: 8.0, 3033: 8.0, 3086: 6.0, 3298: 6.333333333333334, 3447: 7.0, 4028: 9.0, 4713: 10.0, 4793: 7.0, 5233: 9.5, 6030: 8.625, 7322: 8.5, 7472: 9.0, 7662: 8.142857142857142, 11531: 9.5, 13271: 7.333333333333334, 15613: 8.333333333333334, 15959: 10.0, 16468: 7.0, 19251: 7.0, 19951: 8.0, 565: 8.5, 1064: 8.0, 2734: 5.0, 2978: 9.0, 508: 6.5, 2471: 8.666666666666666, 6489: 8.2, 10842: 8.0, 14837: 8.11111111111111, 17397: 7.0, 22071: 7.0, 23227: 7.0, 25389: 8.1, 32188: 7.0, 183: 8.0, 15633: 8.0, 18393: 7.749999999999999, 30091: 5.333333333333333, 31710: 7.5, 31764: 9.0, 24687: 9.5, 1133: 9.0, 1033: 8.714285714285714, 469: 7.142857142857143, 8: 7.0, 16: 8.833333333333334, 18: 9.0, 22: 8.777777777777777, 109: 8.571428571428571, 124: 8.0, 134: 9.0, 143: 7.5, 144: 7.4, 166: 8.333333333333334, 185: 9.1, 186: 9.375, 187: 9.0, 193: 8.0, 230: 9.0, 273: 8.0, 274: 8.25, 276: 9.333333333333332, 290: 7.0, 292: 7.5, 302: 7.0, 318: 6.5, 348: 6.0, 379: 7.2, 395: 7.538461538461538, 407: 6.0, 418: 8.0, 454: 7.0, 455: 7.5, 456: 6.5, 586: 8.0, 588: 6.0, 596: 8.5, 606: 9.0, 627: 8.5, 631: 7.5, 645: 10.0, 646: 5.0, 648: 9.5, 649: 8.5, 682: 6.0, 690: 7.0, 812: 7.0, 821: 8.5, 825: 7.0, 952: 6.0, 1190: 8.0, 1281: 8.0, 1363: 8.25, 1364: 9.0, 1366: 8.5, 1367: 8.5, 1505: 8.25, 1506: 8.333333333333334, 1527: 8.0, 1709: 6.142857142857143, 2171: 7.666666666666667, 3931: 10.0, 21521: 7.0, 741: 8.0, 1639: 5.875, 4472: 8.083333333333334, 4866: 5.6000000000000005, 5391: 5.666666666666667, 521: 8.0, 584: 7.75, 659: 8.0, 792: 7.0, 1007: 7.0, 1008: 7.5, 1010: 8.0, 1011: 7.0, 1110: 9.0, 1593: 7.0, 1815: 8.5, 3221: 8.5, 6280: 7.75, 7375: 9.0, 8857: 8.0, 14131: 6.933333333333334, 18893: 8.333333333333334, 75: 9.0, 113: 8.0, 256: 8.333333333333334, 299: 6.666666666666667, 421: 10.0, 478: 8.5, 554: 8.0, 555: 7.0, 873: 9.333333333333332, 1142: 8.666666666666666, 1143: 7.0, 1230: 6.5, 1746: 6.0, 1810: 5.500000000000001, 2002: 8.166666666666666, 2176: 10.0, 2795: 7.0, 3222: 10.0, 3223: 10.0, 3349: 10.0, 8917: 6.5, 8934: 7.8, 9314: 8.333333333333334, 9751: 9.0, 10372: 8.0, 10659: 7.142857142857143, 10870: 10.0, 11021: 8.2, 11227: 7.0, 13599: 7.555555555555555, 16870: 8.0, 18055: 7.333333333333334, 20533: 6.0, 23325: 6.0, 390: 7.2, 990: 8.666666666666666, 1254: 8.214285714285714, 152: 7.0, 350: 4.0, 486: 7.2727272727272725, 576: 7.5, 710: 7.5, 953: 8.833333333333334, 1594: 8.833333333333334, 1601: 10.0, 1699: 8.857142857142858, 1884: 8.0, 2752: 9.0, 5460: 8.666666666666666, 6438: 10.0, 6467: 9.333333333333332, 12079: 8.333333333333334, 8634: 7.5, 16732: 7.666666666666667, 19021: 7.666666666666667, 23269: 8.0, 31376: 7.0, 2994: 8.105263157894736, 14349: 7.75, 19489: 8.0, 25839: 6.0, 32108: 6.333333333333333, 32551: 6.666666666666667, 32681: 7.333333333333334, 12957: 8.0, 6151: 7.4, 6875: 6.0, 9130: 9.0, 27891: 7.2, 12031: 8.25, 15565: 7.666666666666667, 19365: 9.0, 21677: 6.0, 289: 5.0, 347: 5.0, 836: 7.0, 1045: 8.0, 437: 8.461538461538462, 16664: 9.0, 17389: 9.0, 20057: 8.384615384615385, 21743: 7.666666666666667, 23327: 8.857142857142858, 29589: 5.0, 30123: 8.8, 31173: 10.0, 31174: 7.666666666666667, 31229: 10.0, 31318: 9.0, 15: 8.454545454545455, 17: 8.25, 114: 8.857142857142858, 156: 8.166666666666666, 162: 9.0, 175: 8.0, 201: 9.0, 207: 9.0, 221: 7.0, 229: 7.0, 252: 8.0, 275: 6.333333333333334, 281: 8.0, 293: 7.5, 358: 7.0, 366: 7.0, 389: 8.75, 404: 7.5, 420: 4.0, 445: 7.0, 471: 7.0, 488: 7.0, 524: 8.5, 529: 8.333333333333334, 543: 8.5, 546: 8.0, 558: 7.5, 563: 6.0, 573: 7.5, 581: 8.0, 590: 7.5, 595: 8.0, 615: 6.5, 637: 7.0, 656: 7.0, 664: 8.0, 669: 5.0, 704: 8.0, 713: 8.1, 743: 6.4, 748: 9.0, 760: 9.333333333333332, 785: 7.0, 811: 9.5, 822: 9.25, 845: 8.333333333333334, 860: 6.999999999999999, 876: 9.0, 880: 8.666666666666666, 881: 7.4, 920: 7.0, 921: 8.0, 950: 7.0, 962: 8.8, 964: 7.0, 974: 7.249999999999999, 979: 7.5, 1015: 8.333333333333334, 1023: 8.333333333333334, 1067: 7.0, 1084: 10.0, 1191: 7.0, 1202: 9.0, 1231: 8.0, 1253: 7.428571428571429, 1260: 5.000000000000001, 1271: 7.0, 1285: 7.0, 1338: 4.0, 1379: 8.0, 1384: 6.0, 1468: 9.0, 1543: 7.0, 1611: 6.0, 1679: 8.0, 1749: 8.0, 1766: 9.0, 1800: 8.0, 1807: 7.0, 1816: 7.333333333333334, 1830: 8.0, 1842: 8.0, 1862: 7.0, 1888: 8.0, 1913: 8.666666666666666, 1952: 7.0, 1996: 7.0, 2041: 7.0, 2108: 7.333333333333334, 2112: 9.25, 2123: 7.25, 2159: 9.0, 2161: 6.0, 2166: 7.0, 2175: 9.0, 2205: 9.333333333333332, 2330: 7.5, 2563: 8.0, 2564: 8.0, 2730: 5.500000000000001, 2743: 10.0, 2808: 7.5, 3080: 7.0, 3085: 7.666666666666667, 3226: 8.0, 3297: 9.0, 3318: 10.0, 3352: 7.333333333333334, 3389: 7.5, 3515: 7.571428571428571, 3593: 9.0, 3620: 8.0, 3785: 8.210526315789474, 3887: 10.0, 3954: 6.0, 4130: 5.500000000000001, 4705: 9.0, 4772: 8.666666666666666, 4811: 8.0, 4879: 7.75, 4884: 8.0, 5028: 8.5, 5042: 7.3, 5080: 9.0, 5228: 9.5, 5369: 7.5, 5957: 8.0, 5978: 8.666666666666666, 6154: 7.0, 6291: 8.0, 6368: 5.0, 6548: 7.5, 6794: 8.0, 6882: 9.0, 7079: 6.75, 7135: 9.0, 7474: 7.666666666666667, 7559: 8.666666666666666, 7655: 7.0, 7720: 9.5, 8101: 7.6, 8348: 10.0, 8599: 6.0, 8915: 9.0, 9124: 10.0, 9624: 7.5, 9735: 10.0, 9741: 5.500000000000001, 9911: 5.0, 10012: 7.0, 10187: 7.6, 10196: 8.5, 10219: 5.500000000000001, 10249: 8.5, 10519: 8.0, 10808: 7.0, 10928: 8.333333333333334, 10933: 7.0, 11209: 10.0, 11441: 8.5, 11837: 7.75, 12067: 9.0, 12449: 5.500000000000001, 12531: 8.529411764705882, 12669: 7.333333333333334, 12685: 7.5, 12823: 9.5, 13263: 8.5, 13391: 6.666666666666667, 13851: 8.0, 14407: 7.8, 14751: 7.666666666666667, 15059: 9.4, 15391: 5.500000000000001, 16201: 9.0, 16656: 6.0, 17080: 9.0, 17157: 7.333333333333334, 17549: 8.285714285714286, 17637: 6.666666666666666, 17643: 7.0, 17725: 8.0, 18039: 9.0, 18045: 6.0, 18851: 7.5, 19109: 7.0, 19255: 8.0, 19391: 6.5, 19613: 10.0, 20035: 7.0, 20509: 7.0, 21167: 6.0, 21473: 8.2, 21541: 7.5, 21667: 8.0, 22117: 7.0, 22507: 9.5, 22689: 7.666666666666667, 22961: 8.0, 23311: 8.333333333333334, 23725: 8.0, 24175: 7.0, 24227: 7.5, 24261: 7.5, 24835: 4.0, 24893: 8.25, 25011: 7.0, 26057: 8.0, 27525: 7.0, 27911: 6.666666666666666, 27957: 7.4, 28215: 7.333333333333334, 28537: 5.0, 28979: 7.5, 30056: 7.0, 30191: 7.25, 30250: 7.0, 30549: 9.0, 30901: 7.0, 30915: 6.5, 31430: 7.75, 31552: 7.0, 31553: 7.333333333333334, 31706: 8.0, 31711: 5.0, 31715: 9.5, 32553: 7.5, 32947: 5.000000000000001, 33142: 8.0, 54: 7.0, 1111: 10.0, 1581: 7.5, 1750: 8.0, 1994: 7.0, 2030: 8.0, 2130: 8.0, 2784: 9.0, 3231: 8.5, 4415: 8.333333333333334, 4903: 8.0, 5507: 9.5, 5671: 9.0, 5859: 10.0, 5940: 8.125, 6007: 7.75, 6098: 8.0, 6802: 9.333333333333332, 9618: 5.666666666666667, 9736: 6.874999999999999, 10357: 7.666666666666667, 10582: 7.0, 10798: 8.666666666666666, 12149: 7.6, 12281: 9.0, 14173: 8.0, 14293: 6.25, 14629: 7.0, 14941: 8.333333333333334, 15325: 8.0, 15617: 8.0, 16385: 7.5, 17535: 7.0, 17875: 7.0, 18713: 8.0, 23319: 7.5, 25859: 7.0, 26023: 8.0, 26449: 8.0, 30740: 7.666666666666667, 31326: 7.5, 31737: 8.0, 634: 7.5, 8142: 9.666666666666666, 9332: 7.5, 5762: 8.0, 12477: 8.0, 440: 7.5, 585: 8.68, 731: 8.166666666666666, 850: 8.0, 1246: 9.0, 2153: 7.0, 4548: 8.0, 6152: 6.0, 7861: 7.0, 8187: 4.5, 9776: 7.571428571428571, 1335: 7.333333333333334, 2899: 7.0, 3485: 7.0, 4970: 8.083333333333334, 6064: 9.0, 6884: 6.0, 3656: 8.0, 5231: 8.0, 6787: 5.0, 7058: 8.5, 7669: 9.0, 7705: 7.0, 8449: 7.0, 8560: 10.0, 10507: 7.0, 11339: 8.0, 178: 8.0, 770: 9.0, 820: 9.0, 885: 8.333333333333334, 1029: 8.5, 1030: 7.142857142857143, 1049: 9.0, 1205: 8.5, 1370: 8.0, 3326: 8.0, 3401: 8.5, 3701: 9.0, 3841: 8.0, 4037: 7.5, 4458: 6.0, 4872: 9.0, 6774: 9.333333333333332, 7785: 8.75, 8068: 6.0, 9120: 7.6, 10083: 8.0, 10448: 10.0, 18661: 8.333333333333334, 24701: 9.4, 25681: 9.5, 31483: 10.0, 32915: 8.0, 589: 9.0, 933: 9.0, 949: 8.5, 1002: 9.0, 2986: 7.6, 4038: 7.0, 8666: 10.0, 15911: 7.142857142857143, 23225: 7.6, 24451: 7.0, 29787: 7.0, 30279: 8.4, 30902: 8.0, 490: 6.5, 2589: 9.0, 3419: 7.0, 724: 6.333333333333334, 736: 9.0, 2150: 10.0, 2313: 9.5, 2417: 6.666666666666667, 6203: 6.666666666666667, 7110: 6.0, 11355: 9.0, 23441: 9.0, 320: 6.666666666666667, 441: 6.999999999999999, 975: 8.0, 976: 8.0, 1177: 7.0, 1441: 5.0, 1592: 7.0, 1690: 9.0, 1858: 7.5, 2164: 8.25, 3219: 6.5, 3342: 7.25, 3466: 9.0, 5597: 8.0, 6712: 8.0, 7588: 7.5, 8100: 8.0, 9107: 9.0, 10893: 8.0, 1838: 6.0, 1890: 9.0, 3713: 9.333333333333332, 5774: 8.0, 6904: 8.0, 3090: 8.0, 501: 8.5, 618: 7.0, 1485: 8.5, 2547: 8.5, 4447: 9.0, 9963: 9.0, 10350: 10.0, 667: 8.0, 838: 6.0, 1358: 10.0, 1654: 6.5, 2403: 7.857142857142857, 5914: 6.333333333333333, 6164: 9.0, 6867: 9.5, 7768: 6.333333333333333, 9014: 8.0, 10308: 10.0, 10739: 7.666666666666667, 11341: 8.0, 13709: 8.6, 14515: 6.5, 14669: 7.5, 18495: 5.0, 25519: 7.5, 25907: 6.0, 383: 7.0, 1694: 2.0, 2608: 9.5, 2942: 6.0, 4196: 8.0, 5178: 7.0, 5196: 7.5, 8023: 7.0, 9047: 9.0, 14175: 9.0, 20543: 7.5, 31741: 9.333333333333332, 32281: 9.4, 9907: 10.0, 10075: 8.0, 11033: 10.0, 12637: 10.0, 12979: 8.666666666666666, 14951: 10.0, 17205: 7.0, 20745: 8.0, 20877: 10.0, 24997: 7.666666666666667, 32026: 5.0, 34240: 9.0, 4460: 4.5, 1412: 8.0, 7304: 9.0, 12117: 9.0, 14735: 9.0, 16528: 9.5, 21419: 8.0, 25567: 7.5, 28619: 9.0, 28625: 4.0, 28755: 8.25, 32365: 7.0, 579: 8.166666666666666, 841: 10.0, 1224: 6.5, 1896: 8.5, 2871: 8.0, 4596: 9.0, 6768: 9.5, 9203: 6.8, 9865: 10.0, 11031: 3.0, 13267: 8.0, 16273: 6.0, 16700: 9.0, 17273: 9.0, 17849: 5.0, 19799: 6.0, 22673: 7.0, 22859: 8.0, 29809: 7.0, 859: 6.166666666666667, 875: 9.5, 4672: 9.2, 11491: 7.666666666666667, 11889: 8.0, 12231: 8.090909090909092, 13377: 9.0, 14835: 7.0, 18099: 9.0, 1847: 7.5, 2602: 6.0, 5039: 7.0, 10191: 8.0, 14617: 8.0, 33421: 7.0, 694: 7.5, 940: 7.833333333333333, 1096: 7.0, 1262: 6.0, 1722: 7.777777777777778, 11001: 10.0, 11161: 6.5, 12367: 7.0, 13731: 6.0, 2363: 6.666666666666667, 5941: 9.0, 1808: 9.0, 3464: 7.0, 8490: 7.0, 277: 9.0, 870: 7.0, 8211: 8.5, 10417: 7.333333333333334, 250: 7.6, 1526: 6.875, 1565: 2.0, 2832: 7.5, 6178: 5.0, 7596: 7.5, 7730: 9.5, 3323: 5.500000000000001, 19319: 9.0, 24625: 8.5, 31904: 8.0, 2156: 5.6000000000000005, 15313: 5.500000000000001, 20267: 5.0, 1013: 10.0, 823: 5.0, 2798: 6.5, 4473: 8.5, 15097: 8.0, 20655: 7.0, 21073: 7.0, 30524: 8.0, 31994: 4.0, 32023: 6.5, 32682: 7.0, 2842: 8.0, 24627: 9.5, 31733: 8.0, 20479: 6.0, 1588: 8.0, 7066: 10.0, 12665: 6.5, 12679: 7.5, 15771: 8.0, 2969: 9.0, 719: 8.333333333333334, 5902: 10.0, 621: 10.0, 3057: 9.5, 3121: 7.75, 4195: 8.333333333333334, 6399: 8.0, 7748: 6.0, 8481: 8.0, 8668: 6.0, 9202: 7.0, 9328: 5.0, 16239: 7.0, 18229: 6.666666666666667, 18411: 7.0, 21557: 8.6, 837: 7.0, 125: 8.333333333333334, 197: 6.0, 200: 6.0, 417: 7.5, 670: 7.333333333333334, 1219: 8.0, 1471: 7.0, 1472: 7.0, 1570: 7.0, 1659: 9.0, 2132: 8.0, 3614: 8.0, 4798: 7.0, 5220: 6.666666666666667, 5504: 8.0, 5973: 7.5, 9598: 6.75, 11371: 8.0, 16910: 7.0, 830: 6.0, 1525: 7.0, 1668: 8.333333333333334, 1670: 8.0, 2006: 8.0, 2263: 8.0, 2398: 7.25, 4197: 6.0, 4874: 6.0, 5458: 6.666666666666666, 10015: 3.0, 10470: 7.0, 22777: 9.333333333333332, 24405: 8.75, 25517: 9.0, 27815: 4.0, 29976: 9.0, 6408: 8.0, 126: 8.0, 668: 9.0, 738: 6.0, 910: 7.0, 1184: 7.333333333333334, 1218: 7.0, 1721: 8.0, 1852: 8.0, 1988: 8.0, 2170: 7.0, 2772: 8.333333333333334, 2905: 7.5, 3166: 8.0, 3549: 8.0, 3577: 9.0, 3653: 9.0, 5333: 7.5, 5521: 8.0, 5713: 9.0, 8507: 7.5, 8624: 9.5, 8726: 7.5, 8918: 8.5, 9159: 9.0, 10444: 8.5, 10572: 6.6000000000000005, 10643: 10.0, 11079: 6.75, 11255: 7.5, 11385: 8.666666666666666, 12119: 7.0, 12431: 8.0, 12907: 4.0, 14645: 7.5, 14653: 8.0, 15863: 10.0, 16395: 9.0, 16405: 8.0, 16982: 7.0, 17681: 6.5, 17909: 7.75, 19023: 7.5, 20431: 6.000000000000001, 21821: 6.5, 22225: 7.0, 24011: 7.0, 25429: 7.0, 28221: 7.5, 30355: 6.0, 30365: 3.0, 30384: 7.0, 30795: 7.0, 31147: 6.0, 31223: 9.0, 31790: 6.5, 31804: 6.0, 32245: 8.0, 32360: 8.0, 32370: 9.0, 83: 9.0, 287: 9.0, 551: 7.0, 1050: 7.333333333333334, 1916: 8.0, 1917: 8.0, 2747: 8.0, 3574: 8.0, 6919: 7.5, 6920: 7.0, 5097: 6.5, 3861: 7.5, 4786: 8.333333333333334, 6893: 7.666666666666665, 9308: 9.0, 10380: 9.0, 11879: 8.666666666666666, 21267: 5.5, 21325: 6.0, 21771: 7.0, 22377: 5.0, 30948: 6.0, 2155: 8.0, 5337: 6.0, 30385: 7.0, 11755: 8.0, 16335: 9.0, 14627: 9.0, 26: 9.5, 665: 7.5, 666: 7.5, 3603: 6.0, 3674: 8.0, 7367: 8.142857142857142, 10479: 8.0, 10807: 9.0, 13183: 8.0, 16287: 7.0, 19123: 8.0, 19165: 8.0, 19511: 6.75, 22661: 8.0, 23237: 8.0, 23775: 8.5, 23777: 7.0, 25045: 6.0, 25313: 8.0, 30347: 8.0, 31128: 6.0, 31561: 5.500000000000001, 32122: 8.0, 1401: 6.75, 5464: 7.5, 1069: 8.0, 2816: 8.0, 548: 7.0, 2265: 8.0, 4094: 7.666666666666667, 6172: 7.666666666666667, 11359: 9.0, 12015: 8.0, 12017: 8.0, 13239: 10.0, 15847: 7.0, 19193: 10.0, 22677: 7.0, 27411: 8.0, 2950: 7.5, 644: 8.0, 840: 7.0, 4794: 4.0, 20359: 5.0, 12057: 7.0, 23587: 7.0, 10336: 9.0, 2595: 7.666666666666667, 3627: 8.666666666666666, 32491: 7.0, 593: 8.0, 6361: 9.666666666666666, 7744: 7.0, 8230: 7.0, 9063: 7.5, 10108: 8.0, 12419: 10.0, 15811: 7.0, 18619: 8.0, 19697: 7.0, 22759: 8.0, 23447: 10.0, 23619: 8.0, 23989: 10.0, 24695: 6.0, 25689: 8.0, 26183: 8.0, 27601: 8.0, 29027: 5.0, 29101: 6.0, 30237: 8.0, 31096: 5.0, 32215: 9.0, 334: 7.0, 446: 7.0, 447: 9.0, 520: 6.0, 1692: 5.0, 8310: 9.0, 1072: 7.666666666666667, 1212: 7.666666666666667, 1631: 7.0, 1734: 7.333333333333334, 3088: 7.5, 3089: 6.999999999999999, 6885: 8.0, 163: 7.0, 1459: 10.0, 2789: 4.0, 1101: 5.0, 1144: 5.0, 8197: 9.0, 21189: 7.0, 30206: 7.75, 31121: 7.0, 10622: 7.5, 25345: 6.0, 31630: 6.0, 24543: 8.333333333333334, 5675: 9.0, 747: 7.5, 1041: 9.0, 1042: 9.0, 1216: 7.0, 1640: 7.0, 2238: 9.0, 5784: 10.0, 1060: 8.5, 6115: 7.5, 365: 6.6000000000000005, 734: 7.0, 755: 7.0, 1035: 7.0, 1217: 7.0, 1637: 4.0, 1908: 7.5, 2220: 7.0, 2355: 9.0, 2592: 8.0, 5719: 8.0, 8475: 8.0, 13171: 8.0, 17843: 10.0, 31289: 7.0, 32664: 10.0, 33934: 8.0, 33222: 7.0, 15933: 9.0, 30714: 7.0, 428: 5.500000000000001, 429: 8.25, 688: 9.0, 689: 8.0, 30137: 7.0, 354: 7.0, 1359: 7.0, 1407: 4.0, 1681: 10.0, 1787: 9.0, 2367: 5.0, 2432: 4.0, 2873: 7.0, 2884: 8.0, 3532: 8.0, 4205: 8.5, 4421: 5.0, 7411: 9.0, 9874: 9.0, 9970: 6.0, 10501: 8.0, 10502: 8.0, 10827: 7.0, 10884: 8.0, 17867: 9.0, 31138: 6.000000000000001, 32323: 5.0, 1107: 10.0, 4039: 9.0, 1769: 8.0, 2154: 9.5, 2981: 4.0, 3842: 9.0, 17269: 7.5, 18617: 8.0, 19653: 6.5, 1961: 6.999999999999999, 2199: 7.0, 2354: 9.0, 2429: 9.0, 13405: 2.0, 28299: 8.0, 497: 7.666666666666667, 580: 8.5, 1408: 6.0, 1972: 8.0, 2487: 8.0, 3174: 6.0, 6401: 9.333333333333332, 6946: 7.0, 7261: 10.0, 8337: 8.0, 10547: 8.0, 12429: 6.0, 13115: 8.0, 15431: 7.0, 20723: 7.0, 26359: 6.0, 4450: 8.0, 4765: 7.0, 10122: 6.0, 16199: 7.0, 30344: 7.0, 1912: 5.0, 3001: 8.0, 13429: 4.0, 27441: 6.0, 28105: 6.0, 32313: 7.0, 1824: 7.5, 1065: 9.0, 2500: 8.0, 11679: 7.0, 10918: 10.0, 27663: 8.0, 160: 9.0, 253: 9.0, 385: 9.0, 489: 7.0, 814: 10.0, 815: 5.0, 844: 7.0, 995: 9.0, 1425: 9.0, 1426: 9.0, 1435: 9.0, 1489: 5.0, 2158: 8.5, 2332: 7.0, 2399: 7.0, 2448: 8.0, 2449: 8.0, 2560: 9.0, 2928: 10.0, 3269: 8.25, 4053: 9.0, 4156: 8.0, 4320: 8.0, 5072: 8.0, 5225: 7.0, 5351: 7.0, 5751: 10.0, 6379: 7.0, 6783: 9.0, 8097: 8.0, 10334: 8.0, 10348: 5.0, 10477: 7.5, 11483: 9.0, 13203: 5.0, 13863: 5.000000000000001, 15719: 8.5, 15729: 7.333333333333334, 18343: 7.5, 19727: 8.5, 19845: 8.0, 20039: 8.0, 21195: 7.0, 23301: 8.0, 23427: 6.333333333333333, 23487: 8.0, 23697: 10.0, 24171: 8.0, 24713: 6.0, 24727: 8.0, 24935: 9.0, 28063: 7.0, 28447: 5.0, 29853: 8.0, 30514: 8.0, 30991: 7.5, 31234: 5.0, 31756: 6.0, 32301: 8.0, 32740: 6.0, 33372: 6.0, 33658: 8.0, 34085: 8.0, 937: 7.0, 961: 7.0, 1016: 7.0, 1286: 6.0, 1341: 6.5, 1342: 7.5, 1343: 7.0, 1647: 8.0, 2118: 10.0, 2290: 6.0, 2497: 8.0, 2559: 9.0, 2753: 10.0, 2825: 7.0, 2829: 8.5, 5025: 7.0, 18953: 7.0, 20673: 8.0, 23933: 5.0, 28683: 6.0, 8339: 8.0, 2356: 8.0, 5419: 4.0, 7762: 7.5, 10687: 7.0, 1179: 7.0, 13173: 8.0, 3402: 7.0, 10391: 2.0, 10737: 8.0, 11543: 10.0, 20365: 6.5, 9393: 6.0, 1931: 8.0, 2817: 9.0, 5684: 8.0, 7305: 9.0, 7471: 9.0, 8410: 8.0, 9917: 3.0, 10257: 8.0, 14093: 8.0, 17249: 7.0, 730: 6.0, 752: 6.0, 485: 9.0, 1638: 10.0, 709: 9.0, 4795: 6.0, 254: 8.0, 972: 5.800000000000001, 1024: 9.0, 2136: 7.0, 30375: 10.0, 2111: 6.0, 2603: 7.0, 3165: 8.0, 5670: 7.0, 3604: 6.5, 413: 4.0, 3287: 1.0, 56: 9.0, 733: 5.0, 5332: 10.0, 10500: 8.333333333333334, 12123: 9.0, 12501: 6.0, 14693: 10.0, 15591: 8.0, 206: 8.0, 4021: 7.333333333333334, 977: 7.0, 1055: 10.0, 1113: 5.0, 1386: 5.0, 1634: 8.0, 1635: 8.0, 1636: 6.0, 1909: 7.0, 2188: 5.0, 2218: 6.666666666666667, 2267: 10.0, 2372: 9.0, 2411: 6.0, 2779: 7.0, 2841: 4.0, 2862: 4.5, 3040: 9.0, 3048: 7.0, 3094: 8.0, 3105: 6.0, 3140: 7.0, 3309: 5.0, 3411: 4.0, 3540: 6.0, 3556: 7.0, 3557: 6.0, 3560: 6.0, 3566: 5.0, 3583: 6.0, 3970: 8.0, 3980: 6.0, 4463: 6.0, 4496: 7.0, 4555: 8.0, 4601: 5.500000000000001, 4692: 5.0, 5402: 6.0, 5545: 5.0, 5576: 6.0, 6220: 8.0, 6635: 8.0, 1846: 8.0, 4334: 7.0, 9322: 10.0, 32608: 7.0, 2479: 6.0, 13117: 7.0, 13119: 7.0, 21427: 5.0, 10178: 8.0, 1082: 7.0, 3478: 9.0, 2202: 8.0, 872: 8.0, 2016: 8.0, 2212: 10.0, 6741: 8.0, 5347: 7.0, 346: 5.0, 1874: 7.0, 944: 8.0, 1602: 8.0, 231: 6.0, 797: 6.0, 7083: 8.0, 7782: 6.0, 32051: 7.0, 16608: 2.75, 1194: 5.0, 2724: 7.333333333333334, 13409: 9.5, 1451: 10.0, 1785: 4.0, 22069: 8.0, 29575: 8.0, 30614: 8.0, 31117: 7.0, 1196: 6.0, 3859: 7.0, 32483: 8.0, 2137: 6.0, 2867: 10.0, 3286: 8.0, 3537: 8.0, 3636: 8.0, 3771: 7.0, 4360: 4.0, 4763: 7.0, 7053: 8.5, 7456: 7.0, 8110: 7.75, 9312: 8.0, 9435: 10.0, 9588: 8.0, 9721: 7.0, 9849: 8.5, 10392: 5.500000000000001, 10694: 8.0, 11067: 8.0, 11523: 8.0, 11745: 10.0, 12059: 6.0, 12143: 8.0, 12997: 8.5, 14657: 7.5, 15537: 8.0, 16059: 10.0, 16472: 7.0, 16474: 8.0, 17543: 6.5, 18655: 8.5, 19859: 8.0, 20379: 6.0, 21069: 6.5, 21097: 7.5, 21751: 7.0, 21829: 6.5, 22429: 9.0, 23305: 8.0, 27603: 9.0, 28311: 8.0, 28313: 8.0, 28779: 7.0, 29085: 7.0, 29261: 8.0, 29916: 7.0, 30243: 8.0, 30583: 7.0, 30658: 7.0, 30812: 8.0, 31101: 8.0, 31189: 8.0, 31400: 8.0, 31995: 8.5, 32667: 7.0, 2286: 10.0, 2315: 5.0, 967: 9.0, 11507: 8.0, 11583: 8.0, 1168: 10.0, 2262: 6.0, 1544: 7.0, 4483: 6.0, 13019: 7.0, 2117: 10.0, 2122: 10.0, 426: 9.0, 2109: 6.0, 2935: 5.500000000000001, 1193: 8.0, 3449: 6.0, 1980: 8.0, 2621: 2.0, 9032: 8.0, 28149: 8.0, 151: 8.0, 328: 8.0, 623: 7.0, 1453: 7.666666666666667, 10683: 7.5, 11997: 6.0, 14539: 8.0, 20849: 7.0, 24641: 8.0, 315: 6.0, 1031: 4.0, 2017: 9.0, 2133: 4.0, 2495: 8.0, 1356: 9.0, 2705: 9.0, 3907: 8.0, 422: 10.0, 423: 10.0, 612: 6.0, 1584: 10.0, 1841: 9.0, 1780: 7.0, 3448: 8.0, 23787: 10.0, 5259: 6.0, 222: 8.0, 5505: 9.0, 10370: 8.0, 10033: 9.0, 3053: 6.0, 13169: 7.0, 9442: 10.0, 10457: 9.0, 18653: 6.0, 20377: 7.0, 1743: 7.5, 7334: 6.0, 10330: 8.0, 11239: 7.0, 17020: 6.0, 2396: 8.0, 5496: 6.0, 3010: 7.0, 424: 7.0, 1804: 8.0, 2346: 5.0, 2607: 8.0, 386: 8.0, 1249: 7.0, 2119: 10.0, 2120: 10.0, 2121: 10.0, 11009: 8.0, 13231: 8.0, 283: 7.0, 708: 9.0, 2810: 8.0, 8394: 5.0, 1802: 6.0, 4200: 6.0, 2866: 8.0, 7266: 7.0, 11855: 7.0, 13559: 8.0, 16642: 6.666666666666667, 2450: 8.0, 2796: 6.0, 4082: 8.0, 1823: 6.0, 1683: 9.0, 2326: 7.0, 2938: 6.0, 1550: 9.0, 9056: 7.0, 13931: 5.0, 25805: 5.0, 31740: 6.0, 32620: 7.5, 32997: 7.0, 2437: 5.0, 3581: 5.0, 6691: 7.0, 2542: 8.0, 6385: 4.0, 2110: 6.0, 2713: 7.5, 6546: 6.0, 1868: 9.0, 2911: 9.0, 1273: 8.0, 1834: 6.0, 3918: 9.0, 7270: 8.0, 27509: 8.0, 17371: 7.0, 1272: 8.0, 2883: 6.0, 4399: 7.0, 6041: 7.0, 9487: 8.0, 10553: 9.0, 2407: 9.0, 10938: 8.0, 31018: 7.0, 12447: 8.0, 31298: 8.0, 31283: 7.0, 1835: 8.0, 2569: 10.0, 3271: 6.0, 3493: 7.0, 1360: 7.0, 2446: 8.0, 3939: 10.0, 4492: 7.0, 4493: 5.0, 6590: 7.0, 6689: 8.0, 7708: 5.0, 8290: 8.0, 8292: 8.0, 8654: 6.5, 11185: 5.0, 11747: 7.0, 13057: 6.0, 13325: 8.0, 14127: 7.0, 14543: 7.0, 14991: 9.0, 15839: 8.0, 16638: 7.0, 16644: 6.5, 17539: 6.0, 17541: 10.0, 18691: 8.0, 19101: 7.0, 19103: 8.0, 19629: 8.0, 20801: 8.0, 21349: 9.0, 21597: 6.999999999999999, 22543: 8.0, 23719: 7.0, 24021: 7.0, 24273: 7.0, 24745: 7.0, 25667: 8.0, 25877: 8.0, 27363: 5.500000000000001, 27879: 8.0, 28309: 8.0, 28961: 8.5, 29083: 7.0, 29573: 7.0, 29705: 7.0, 29730: 8.0, 29807: 8.0, 29808: 7.0, 29852: 7.0, 30454: 7.0, 30460: 6.0, 30898: 8.0, 31118: 7.0, 32423: 7.0, 4508: 3.0, 7568: 9.0, 8965: 6.0, 11073: 7.0, 1097: 8.0, 3729: 6.5, 4378: 5.0, 5209: 8.0, 9009: 8.0, 924: 7.0, 925: 7.0, 1663: 8.0, 2408: 9.0, 3576: 5.000000000000001, 5070: 7.0, 5290: 9.0, 5725: 4.0, 31108: 7.0, 31736: 7.0, 33606: 6.0, 20613: 9.0, 2211: 8.0, 10016: 8.0, 13175: 3.0, 1387: 8.0, 2275: 6.0, 4004: 8.0, 4600: 8.0, 4867: 9.0, 7458: 8.0, 10258: 7.0, 10764: 7.0, 11827: 7.666666666666665, 16187: 6.5, 1116: 9.0, 1558: 6.5, 6941: 5.0, 1872: 7.0, 675: 6.0, 757: 6.0, 16381: 7.0, 1284: 9.0, 1741: 7.0, 2910: 9.0, 3640: 8.0, 5549: 7.0, 6953: 6.0, 1123: 8.0, 1353: 6.0, 3525: 6.0, 3685: 8.0, 3829: 4.0, 19287: 8.5, 6587: 8.0, 8626: 7.0, 1153: 9.0, 22733: 9.0, 1403: 8.0, 1837: 5.0, 2588: 4.500000000000001, 2917: 9.0, 3308: 7.0, 5108: 6.0, 2715: 9.0, 1274: 7.0, 2551: 6.0, 2782: 7.0, 2990: 5.0, 3082: 6.0, 3383: 6.0, 3454: 6.0, 3541: 5.0, 3542: 6.0, 3562: 6.0, 3635: 6.0, 3639: 5.0, 3890: 7.0, 2813: 9.0, 30825: 8.0, 31560: 7.0, 12373: 6.0, 14563: 4.0, 15409: 7.0, 3479: 5.000000000000001, 8837: 6.0, 3728: 6.0, 10779: 7.999999999999999, 27939: 8.0, 31056: 7.0, 3531: 7.0, 2840: 9.0, 24327: 6.0, 28859: 8.0, 31518: 8.0, 17251: 7.0, 13141: 3.0, 8234: 5.0, 1757: 9.0, 1752: 9.0, 1753: 9.0, 1754: 9.0, 1755: 9.0, 1756: 9.0, 1758: 9.0, 12991: 8.0, 1385: 4.0, 3895: 6.0, 3805: 8.0, 13223: 7.0, 1515: 4.0, 28179: 5.0, 545: 9.0, 23579: 7.0, 1895: 8.0, 2468: 9.0, 3564: 5.0, 3916: 8.0, 4178: 6.0, 4365: 8.0, 4498: 5.0, 4774: 5.0, 4821: 5.0, 5107: 5.0, 5160: 5.0, 5651: 9.0, 6025: 7.0, 8651: 7.0, 9375: 8.0, 9638: 8.0, 10429: 7.0, 10575: 8.0, 10851: 8.0, 14129: 8.0, 14661: 8.0, 14853: 9.0, 15539: 7.5, 18959: 7.0, 19283: 7.0, 19431: 7.0, 19523: 7.0, 19633: 8.0, 20757: 7.0, 21059: 8.0, 21393: 8.0, 22081: 8.0, 22347: 7.0, 22655: 7.0, 24849: 5.000000000000001, 24851: 8.0, 25055: 8.0, 25669: 8.0, 27413: 7.0, 27881: 8.0, 28517: 8.0, 28519: 7.0, 30128: 7.0, 31885: 6.0, 32484: 7.0, 3066: 5.0, 4693: 6.0, 6685: 7.0, 6892: 8.0, 8655: 7.0, 4586: 7.0, 4494: 8.0, 2259: 5.0, 6093: 6.0, 677: 6.0, 2245: 6.0, 6554: 10.0, 1720: 8.0, 18755: 9.0, 2945: 8.0, 4699: 7.0, 3535: 10.0, 25875: 5.0, 10421: 9.0, 3868: 8.0, 2874: 6.0, 3826: 5.0, 7723: 5.0, 22983: 5.0, 30168: 8.0, 4730: 5.0, 32153: 7.0, 10101: 5.0, 14993: 7.0, 29915: 7.0, 30132: 7.0, 30543: 7.0, 31401: 8.0, 33138: 7.0, 33393: 7.0, 32511: 8.0, 33750: 7.0, 4604: 7.0, 7611: 8.0, 10384: 5.0, 14685: 7.0, 4103: 8.0, 5054: 7.0, 5993: 7.0, 11969: 9.0, 32267: 8.5, 9361: 7.0, 8652: 7.0, 13917: 5.0, 31652: 8.0, 33515: 8.0, 16345: 6.0, 2851: 8.0, 3093: 6.0, 3824: 5.0, 5154: 6.0, 5570: 7.0, 6903: 5.0, 23935: 5.0, 2187: 6.0, 2480: 6.0, 2501: 9.0, 3428: 6.0, 3529: 6.0, 3582: 6.0, 4369: 6.0, 4489: 9.0, 4497: 5.0, 4645: 6.0, 4697: 6.0, 5393: 6.0, 9211: 8.0, 1819: 7.0, 14659: 7.0, 29703: 7.0, 22785: 5.0, 34107: 7.0, 12035: 9.0, 28657: 4.0, 5569: 5.0, 7455: 8.0, 32959: 8.0, 15545: 5.0, 19207: 5.0, 5568: 8.0, 10552: 6.5, 33979: 8.0, 280: 9.0, 3584: 5.0, 3645: 5.0, 3950: 6.0, 4017: 7.0, 4495: 6.0, 4644: 5.0, 4717: 6.0, 4852: 8.0, 5558: 6.0, 5575: 5.0, 10424: 7.0, 12551: 5.0, 13379: 7.0, 34015: 6.0, 30269: 7.0, 30741: 7.0, 30817: 7.0, 31331: 6.0, 31403: 7.0, 33514: 6.0, 31634: 2.0, 7247: 8.0, 5423: 6.0, 8900: 7.0, 5193: 5.0, 31397: 5.500000000000001, 32982: 7.0, 20391: 6.0, 5276: 7.0, 5648: 5.0, 5567: 5.0, 6074: 6.0, 9316: 7.0, 9341: 5.0}\n"
          ],
          "name": "stdout"
        }
      ]
    },
    {
      "cell_type": "code",
      "metadata": {
        "id": "xqC2rGcBTg9p",
        "colab_type": "code",
        "colab": {}
      },
      "source": [
        "def recommend_animes(for_user, n = 10):\n",
        "    predictions = recommend(training_data, for_user)\n",
        "    sorted_list = sorted(predictions.items(), key = lambda kv:(kv[1], kv[0]))\n",
        "    for anime in sorted_list[-n:]:\n",
        "        values = df2[['anime_id','name', 'genre', 'type']].loc[df2['anime_id']==anime[0]]\n",
        "        print(str(values['anime_id']) + \",\" + str(values['name']) + \",\" + str(values['genre']) + \",\" + str(values['type']) + \"\\n\")\n",
        "    "
      ],
      "execution_count": 0,
      "outputs": []
    },
    {
      "cell_type": "code",
      "metadata": {
        "id": "YWuNdb5ATg9s",
        "colab_type": "code",
        "colab": {
          "base_uri": "https://localhost:8080/",
          "height": 1000
        },
        "outputId": "20359eb3-cfb1-4a41-812b-805fe45418ce"
      },
      "source": [
        "recommend_animes(3)"
      ],
      "execution_count": 77,
      "outputs": [
        {
          "output_type": "stream",
          "text": [
            "/usr/local/lib/python3.6/dist-packages/numpy/core/fromnumeric.py:3335: RuntimeWarning: Mean of empty slice.\n",
            "  out=out, **kwargs)\n",
            "/usr/local/lib/python3.6/dist-packages/numpy/core/_methods.py:161: RuntimeWarning: invalid value encountered in double_scalars\n",
            "  ret = ret.dtype.type(ret / rcount)\n"
          ],
          "name": "stderr"
        },
        {
          "output_type": "stream",
          "text": [
            "113    30503\n",
            "Name: anime_id, dtype: int64,113    Noragami Aragoto\n",
            "Name: name, dtype: object,113    Action, Adventure, Shounen, Supernatural\n",
            "Name: genre, dtype: object,113    TV\n",
            "Name: type, dtype: object\n",
            "\n",
            "1817    30991\n",
            "Name: anime_id, dtype: int64,1817    Himouto! Umaru-chan: Umaru-chan Mou Ikkai!\n",
            "Name: name, dtype: object,1817    Comedy, School, Seinen, Slice of Life\n",
            "Name: genre, dtype: object,1817    OVA\n",
            "Name: type, dtype: object\n",
            "\n",
            "4954    31121\n",
            "Name: anime_id, dtype: int64,4954    Monster Musume no Iru Nichijou: Hobo Mainichi ...\n",
            "Name: name, dtype: object,4954    Comedy, Slice of Life\n",
            "Name: genre, dtype: object,4954    ONA\n",
            "Name: type, dtype: object\n",
            "\n",
            "369    31173\n",
            "Name: anime_id, dtype: int64,369    Akagami no Shirayuki-hime 2nd Season\n",
            "Name: name, dtype: object,369    Drama, Fantasy, Romance, Shoujo\n",
            "Name: genre, dtype: object,369    TV\n",
            "Name: type, dtype: object\n",
            "\n",
            "3375    31234\n",
            "Name: anime_id, dtype: int64,3375    Himouto! Umaru-chanS\n",
            "Name: name, dtype: object,3375    Comedy, Seinen, Slice of Life\n",
            "Name: genre, dtype: object,3375    Special\n",
            "Name: type, dtype: object\n",
            "\n",
            "3306    31442\n",
            "Name: anime_id, dtype: int64,3306    Musaigen no Phantom World\n",
            "Name: name, dtype: object,3306    Action, Comedy, Fantasy, Slice of Life, Supern...\n",
            "Name: genre, dtype: object,3306    TV\n",
            "Name: type, dtype: object\n",
            "\n",
            "638    31711\n",
            "Name: anime_id, dtype: int64,638    To LOVE-Ru Darkness 2nd Specials\n",
            "Name: name, dtype: object,638    Comedy, Ecchi, Harem, Romance, School, Sci-Fi,...\n",
            "Name: genre, dtype: object,638    Special\n",
            "Name: type, dtype: object\n",
            "\n",
            "361    32122\n",
            "Name: anime_id, dtype: int64,361    Gintama: Jump Festa 2015 Special\n",
            "Name: name, dtype: object,361    Action, Comedy, Historical, Parody, Samurai, S...\n",
            "Name: genre, dtype: object,361    Special\n",
            "Name: type, dtype: object\n",
            "\n",
            "1822    32574\n",
            "Name: anime_id, dtype: int64,1822    Kekkai Sensen: Ousama no Restaurant no Ousama\n",
            "Name: name, dtype: object,1822    Action, Fantasy, Shounen, Super Power, Superna...\n",
            "Name: genre, dtype: object,1822    OVA\n",
            "Name: type, dtype: object\n",
            "\n",
            "798    33082\n",
            "Name: anime_id, dtype: int64,798    Kingsglaive: Final Fantasy XV\n",
            "Name: name, dtype: object,798    Action\n",
            "Name: genre, dtype: object,798    Movie\n",
            "Name: type, dtype: object\n",
            "\n"
          ],
          "name": "stdout"
        }
      ]
    },
    {
      "cell_type": "code",
      "metadata": {
        "id": "DkSb5xVm0xgL",
        "colab_type": "code",
        "colab": {}
      },
      "source": [
        "def recommend_animes_regularized(for_user, n = 10):\n",
        "    predictions = recommend_with_regularization(training_data, for_user)\n",
        "    sorted_list = sorted(predictions.items(), key = lambda kv:(kv[1], kv[0]))\n",
        "    for anime in sorted_list[-n:]:\n",
        "        values = df2[['anime_id','name', 'genre', 'type']].loc[df2['anime_id']==anime[0]]\n",
        "        print(str(values['anime_id']) + \",\" + str(values['name']) + \",\" + str(values['genre']) + \",\" + str(values['type']) + \"\\n\")\n",
        "    "
      ],
      "execution_count": 0,
      "outputs": []
    },
    {
      "cell_type": "code",
      "metadata": {
        "id": "De6jH1yZ0TiL",
        "colab_type": "code",
        "colab": {
          "base_uri": "https://localhost:8080/",
          "height": 1000
        },
        "outputId": "07e547da-7198-418b-97a7-412de3ca2a75"
      },
      "source": [
        "recommend_animes_regularized(3)"
      ],
      "execution_count": 79,
      "outputs": [
        {
          "output_type": "stream",
          "text": [
            "/usr/local/lib/python3.6/dist-packages/numpy/core/fromnumeric.py:3335: RuntimeWarning: Mean of empty slice.\n",
            "  out=out, **kwargs)\n",
            "/usr/local/lib/python3.6/dist-packages/numpy/core/_methods.py:161: RuntimeWarning: invalid value encountered in double_scalars\n",
            "  ret = ret.dtype.type(ret / rcount)\n"
          ],
          "name": "stderr"
        },
        {
          "output_type": "stream",
          "text": [
            "1156    1488\n",
            "Name: anime_id, dtype: int64,1156    Area 88\n",
            "Name: name, dtype: object,1156    Action, Adventure, Drama, Military, Romance\n",
            "Name: genre, dtype: object,1156    OVA\n",
            "Name: type, dtype: object\n",
            "\n",
            "1546    1577\n",
            "Name: anime_id, dtype: int64,1546    Taiho Shichau zo\n",
            "Name: name, dtype: object,1546    Action, Comedy, Police, Seinen\n",
            "Name: genre, dtype: object,1546    OVA\n",
            "Name: type, dtype: object\n",
            "\n",
            "2172    1901\n",
            "Name: anime_id, dtype: int64,2172    11-nin Iru!\n",
            "Name: name, dtype: object,2172    Action, Adventure, Drama, Mystery, Romance, Sc...\n",
            "Name: genre, dtype: object,2172    Movie\n",
            "Name: type, dtype: object\n",
            "\n",
            "3259    1951\n",
            "Name: anime_id, dtype: int64,3259    Manie-Manie: Meikyuu Monogatari\n",
            "Name: name, dtype: object,3259    Adventure, Fantasy, Horror, Sci-Fi, Supernatural\n",
            "Name: genre, dtype: object,3259    Movie\n",
            "Name: type, dtype: object\n",
            "\n",
            "1835    2182\n",
            "Name: anime_id, dtype: int64,1835    Robot Carnival\n",
            "Name: name, dtype: object,1835    Fantasy, Sci-Fi\n",
            "Name: genre, dtype: object,1835    OVA\n",
            "Name: type, dtype: object\n",
            "\n",
            "4748    2699\n",
            "Name: anime_id, dtype: int64,4748    Uchuu Kaizoku Mito no Daibouken\n",
            "Name: name, dtype: object,4748    Action, Comedy, Sci-Fi\n",
            "Name: genre, dtype: object,4748    TV\n",
            "Name: type, dtype: object\n",
            "\n",
            "5302    4475\n",
            "Name: anime_id, dtype: int64,5302    Toshi wo Totta Wani\n",
            "Name: name, dtype: object,5302    Drama\n",
            "Name: genre, dtype: object,5302    Movie\n",
            "Name: type, dtype: object\n",
            "\n",
            "2441    6361\n",
            "Name: anime_id, dtype: int64,2441    ef: A Tale of Memories. - Prologue\n",
            "Name: name, dtype: object,2441    Drama, Music\n",
            "Name: genre, dtype: object,2441    Special\n",
            "Name: type, dtype: object\n",
            "\n",
            "962    10278\n",
            "Name: anime_id, dtype: int64,962    The iDOLM@STER\n",
            "Name: name, dtype: object,962    Comedy, Drama, Music\n",
            "Name: genre, dtype: object,962    TV\n",
            "Name: type, dtype: object\n",
            "\n",
            "616    20159\n",
            "Name: anime_id, dtype: int64,616    Pokemon: The Origin\n",
            "Name: name, dtype: object,616    Action, Adventure, Comedy, Fantasy, Kids\n",
            "Name: genre, dtype: object,616    Special\n",
            "Name: type, dtype: object\n",
            "\n"
          ],
          "name": "stdout"
        }
      ]
    },
    {
      "cell_type": "code",
      "metadata": {
        "id": "gxkON8jKTg9u",
        "colab_type": "code",
        "colab": {}
      },
      "source": [
        "\n"
      ],
      "execution_count": 0,
      "outputs": []
    }
  ]
}