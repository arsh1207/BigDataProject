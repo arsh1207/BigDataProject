{
 "cells": [
  {
   "cell_type": "code",
   "execution_count": 1,
   "metadata": {},
   "outputs": [],
   "source": [
    "from pyspark.ml.evaluation import RegressionEvaluator\n",
    "from pyspark.ml.recommendation import ALS\n",
    "from pyspark.sql import Row\n",
    "from pyspark.sql import DataFrame\n",
    "from pyspark.sql import SparkSession\n",
    "from pyspark.rdd import RDD"
   ]
  },
  {
   "cell_type": "code",
   "execution_count": 2,
   "metadata": {},
   "outputs": [],
   "source": [
    "def init_spark():\n",
    "    spark = SparkSession \\\n",
    "        .builder \\\n",
    "        .config(\"spark.driver.memory\", \"15g\") \\\n",
    "        .appName(\"Python Spark SQL basic example\") \\\n",
    "        .config(\"spark.some.config.option\", \"some-value\") \\\n",
    "        .getOrCreate()\n",
    "    return spark\n",
    "spark = init_spark()"
   ]
  },
  {
   "cell_type": "code",
   "execution_count": 3,
   "metadata": {},
   "outputs": [],
   "source": [
    "df = spark.read.text(\"D:/Courses/big data/project/Anime/rating.csv\").rdd\n",
    "from itertools import islice\n",
    "df= df.mapPartitionsWithIndex(\n",
    "    lambda idx, it: islice(it, 1, None) if idx == 0 else it \n",
    ")"
   ]
  },
  {
   "cell_type": "code",
   "execution_count": 4,
   "metadata": {},
   "outputs": [],
   "source": [
    "data = df.map(lambda x: x[0].split(','))"
   ]
  },
  {
   "cell_type": "code",
   "execution_count": 5,
   "metadata": {},
   "outputs": [],
   "source": [
    "ratingsRDD = data.map(lambda p: Row(userId=int(p[0]), movieId=int(p[1]),\n",
    "                                     rating=float(p[2])))"
   ]
  },
  {
   "cell_type": "code",
   "execution_count": 10,
   "metadata": {},
   "outputs": [],
   "source": [
    "rating = ratingsRDD.map(lambda x: x[x[\"rating\"] > 0])"
   ]
  },
  {
   "cell_type": "code",
   "execution_count": 21,
   "metadata": {},
   "outputs": [
    {
     "name": "stdout",
     "output_type": "stream",
     "text": [
      "Root-mean-square error = 2.0889547574742813\n"
     ]
    }
   ],
   "source": [
    "ratings = spark.createDataFrame(ratingsRDD)\n",
    "(training, test) = ratings.randomSplit([0.8, 0.2])\n",
    "\n",
    "als = ALS(maxIter=5, regParam=0.01, userCol=\"userId\", itemCol=\"movieId\", ratingCol=\"rating\",\n",
    "          coldStartStrategy=\"drop\")\n",
    "model = als.fit(training)\n",
    "\n",
    "# Evaluate the model by computing the RMSE on the test data\n",
    "predictions = model.transform(test)\n",
    "evaluator = RegressionEvaluator(metricName=\"rmse\", labelCol=\"rating\",\n",
    "                                predictionCol=\"prediction\")\n",
    "rmse = evaluator.evaluate(predictions)\n",
    "print(\"Root-mean-square error = \" + str(rmse))"
   ]
  },
  {
   "cell_type": "code",
   "execution_count": 22,
   "metadata": {},
   "outputs": [],
   "source": [
    "userRecs = model.recommendForAllUsers(10)"
   ]
  },
  {
   "cell_type": "code",
   "execution_count": 26,
   "metadata": {},
   "outputs": [
    {
     "data": {
      "text/plain": [
       "[Row(userId=3, recommendations=[Row(movieId=6868, rating=19.59992027282715), Row(movieId=10132, rating=16.633174896240234), Row(movieId=22455, rating=15.965030670166016), Row(movieId=22479, rating=15.965030670166016), Row(movieId=22445, rating=15.965030670166016), Row(movieId=22477, rating=15.965030670166016), Row(movieId=17985, rating=15.965030670166016), Row(movieId=18587, rating=15.375167846679688), Row(movieId=18463, rating=15.075610160827637), Row(movieId=3624, rating=14.97232437133789)])]"
      ]
     },
     "execution_count": 26,
     "metadata": {},
     "output_type": "execute_result"
    }
   ],
   "source": [
    "userRecs[userRecs['userId'] == 3].collect()"
   ]
  },
  {
   "cell_type": "code",
   "execution_count": 30,
   "metadata": {},
   "outputs": [
    {
     "data": {
      "text/plain": [
       "[Row(movieId=[6868, 10132, 22455, 22479, 22445, 22477, 17985, 18587, 18463, 3624], rating=[19.59992027282715, 16.633174896240234, 15.965030670166016, 15.965030670166016, 15.965030670166016, 15.965030670166016, 15.965030670166016, 15.375167846679688, 15.075610160827637, 14.97232437133789])]"
      ]
     },
     "execution_count": 30,
     "metadata": {},
     "output_type": "execute_result"
    }
   ],
   "source": [
    "userRecs.where(userRecs.userId == 3).select(\"recommendations.movieId\", \"recommendations.rating\").collect()"
   ]
  },
  {
   "cell_type": "code",
   "execution_count": 31,
   "metadata": {},
   "outputs": [],
   "source": [
    "movieId=[6868, 10132, 22455, 22479, 22445, 22477, 17985, 18587, 18463, 3624]"
   ]
  },
  {
   "cell_type": "code",
   "execution_count": 33,
   "metadata": {},
   "outputs": [],
   "source": [
    "import pandas as pd\n",
    "df2 = pd.read_csv(\"D:/Courses/big data/project/Anime/anime.csv\")"
   ]
  },
  {
   "cell_type": "code",
   "execution_count": 38,
   "metadata": {},
   "outputs": [
    {
     "name": "stdout",
     "output_type": "stream",
     "text": [
      "10713    6868\n",
      "Name: anime_id, dtype: int64,10713    Wansa-kun\n",
      "Name: name, dtype: object,10713    Comedy\n",
      "Name: genre, dtype: object,10713    TV\n",
      "Name: type, dtype: object\n",
      "\n",
      "5686    10132\n",
      "Name: anime_id, dtype: int64,5686    Jin Sheng Yuan\n",
      "Name: name, dtype: object,5686    Music\n",
      "Name: genre, dtype: object,5686    Music\n",
      "Name: type, dtype: object\n",
      "\n",
      "8800    22455\n",
      "Name: anime_id, dtype: int64,8800    Hello Kitty no Circus ga Yatte Kita\n",
      "Name: name, dtype: object,8800    Fantasy, Kids\n",
      "Name: genre, dtype: object,8800    OVA\n",
      "Name: type, dtype: object\n",
      "\n",
      "8810    22479\n",
      "Name: anime_id, dtype: int64,8810    Hello Kitty no Mahou no Ringo\n",
      "Name: name, dtype: object,8810    Fantasy, Kids\n",
      "Name: genre, dtype: object,8810    OVA\n",
      "Name: type, dtype: object\n",
      "\n",
      "8832    22445\n",
      "Name: anime_id, dtype: int64,8832    Hello Kitty no Yappari Mama ga Suki\n",
      "Name: name, dtype: object,8832    Fantasy, Kids\n",
      "Name: genre, dtype: object,8832    OVA\n",
      "Name: type, dtype: object\n",
      "\n",
      "8831    22477\n",
      "Name: anime_id, dtype: int64,8831    Hello Kitty no Tomatta Big Ben\n",
      "Name: name, dtype: object,8831    Fantasy, Kids\n",
      "Name: genre, dtype: object,8831    OVA\n",
      "Name: type, dtype: object\n",
      "\n",
      "9181    17985\n",
      "Name: anime_id, dtype: int64,9181    Kero Kero Keroppi no Boku-tachi no Takaramono\n",
      "Name: name, dtype: object,9181    Fantasy, Kids\n",
      "Name: genre, dtype: object,9181    OVA\n",
      "Name: type, dtype: object\n",
      "\n",
      "8798    18587\n",
      "Name: anime_id, dtype: int64,8798    Hello Kitty no Alps no Shoujo Heidi II: Klara ...\n",
      "Name: name, dtype: object,8798    Kids\n",
      "Name: genre, dtype: object,8798    OVA\n",
      "Name: type, dtype: object\n",
      "\n",
      "7832    18463\n",
      "Name: anime_id, dtype: int64,7832    Sign\n",
      "Name: name, dtype: object,7832    Music, Sci-Fi\n",
      "Name: genre, dtype: object,7832    Music\n",
      "Name: type, dtype: object\n",
      "\n",
      "2462    3624\n",
      "Name: anime_id, dtype: int64,2462    Seimei no Kagaku: Micro Patrol\n",
      "Name: name, dtype: object,2462    Adventure\n",
      "Name: genre, dtype: object,2462    TV\n",
      "Name: type, dtype: object\n",
      "\n"
     ]
    }
   ],
   "source": [
    "for anime in movieId:\n",
    "    values = df2[['anime_id','name', 'genre', 'type']].loc[df2['anime_id']==anime]\n",
    "    print(str(values['anime_id']) + \",\" + str(values['name']) + \",\" + str(values['genre']) + \",\" + str(values['type']) + \"\\n\")\n",
    "    #print(str(values['anime_id']) + \",\" + str(values['name']) + \"\\n\")"
   ]
  }
 ],
 "metadata": {
  "kernelspec": {
   "display_name": "Python 3",
   "language": "python",
   "name": "python3"
  },
  "language_info": {
   "codemirror_mode": {
    "name": "ipython",
    "version": 3
   },
   "file_extension": ".py",
   "mimetype": "text/x-python",
   "name": "python",
   "nbconvert_exporter": "python",
   "pygments_lexer": "ipython3",
   "version": "3.5.6"
  }
 },
 "nbformat": 4,
 "nbformat_minor": 4
}
